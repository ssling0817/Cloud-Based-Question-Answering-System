{
 "cells": [
  {
   "cell_type": "markdown",
   "metadata": {},
   "source": [
    "## Package import\n",
    "Make sure to set the kernel as Python 3.8 - AzureML before starting your work. You can ignore the warning messages about tensorflow when running the import cell."
   ]
  },
  {
   "cell_type": "code",
   "execution_count": 1,
   "metadata": {},
   "outputs": [
    {
     "name": "stderr",
     "output_type": "stream",
     "text": [
      "2023-07-28 01:37:29.210156: I tensorflow/core/platform/cpu_feature_guard.cc:193] This TensorFlow binary is optimized with oneAPI Deep Neural Network Library (oneDNN) to use the following CPU instructions in performance-critical operations:  AVX2 FMA\n",
      "To enable them in other operations, rebuild TensorFlow with the appropriate compiler flags.\n",
      "2023-07-28 01:37:38.505707: W tensorflow/compiler/xla/stream_executor/platform/default/dso_loader.cc:64] Could not load dynamic library 'libnvinfer.so.7'; dlerror: libnvinfer.so.7: cannot open shared object file: No such file or directory\n",
      "2023-07-28 01:37:38.505798: W tensorflow/compiler/xla/stream_executor/platform/default/dso_loader.cc:64] Could not load dynamic library 'libnvinfer_plugin.so.7'; dlerror: libnvinfer_plugin.so.7: cannot open shared object file: No such file or directory\n",
      "2023-07-28 01:37:38.505805: W tensorflow/compiler/tf2tensorrt/utils/py_utils.cc:38] TF-TRT Warning: Cannot dlopen some TensorRT libraries. If you would like to use Nvidia GPU with TensorRT, please make sure the missing libraries mentioned above are installed properly.\n"
     ]
    }
   ],
   "source": [
    "import re, os, json, pickle, ast, time, random, requests\n",
    "import pandas as pd\n",
    "import numpy as np\n",
    "import spacy\n",
    "import scipy\n",
    "import scipy.sparse as sp\n",
    "\n",
    "import nltk\n",
    "from nltk.corpus import stopwords\n",
    "from nltk.stem.wordnet import WordNetLemmatizer \n",
    "from nltk.corpus import wordnet\n",
    "nltk.download(\"stopwords\", quiet = True)\n",
    "nltk.download(\"wordnet\", quiet = True)\n",
    "nltk.download(\"averaged_perceptron_tagger\", quiet = True)\n",
    "nltk.download(\"punkt\", quiet = True)\n",
    "\n",
    "from sentence_transformers import SentenceTransformer\n",
    "from sklearn.feature_extraction.text import TfidfVectorizer\n",
    "from sklearn.linear_model import LogisticRegression\n",
    "from sklearn.preprocessing import StandardScaler\n",
    "from sklearn.model_selection import train_test_split\n",
    "\n",
    "import torch\n",
    "import torch.optim as optim\n",
    "from torch.utils.data import Dataset, DataLoader\n",
    "\n",
    "from transformers import BertTokenizerFast, BertForQuestionAnswering\n",
    "\n",
    "from tqdm import tqdm\n",
    "tqdm.pandas()"
   ]
  },
  {
   "cell_type": "code",
   "execution_count": 2,
   "metadata": {},
   "outputs": [],
   "source": [
    "device = torch.device(\"cuda\" if torch.cuda.is_available() else \"cpu\")\n",
    "\n",
    "GLOBAL_SEED = 1\n",
    " \n",
    "def set_seed(seed):\n",
    "    random.seed(seed)\n",
    "    np.random.seed(seed)\n",
    "    torch.manual_seed(seed)\n",
    "    torch.cuda.manual_seed(seed)\n",
    "    torch.cuda.manual_seed_all(seed)\n",
    "    torch.backends.cudnn.benchmark = False\n",
    "    torch.backends.cudnn.deterministic = True\n",
    "\n",
    "GLOBAL_WORKER_ID = None\n",
    "def _init_fn(worker_id):\n",
    "    global GLOBAL_WORKER_ID\n",
    "    GLOBAL_WORKER_ID = worker_id\n",
    "    set_seed(GLOBAL_SEED + worker_id)\n",
    "\n",
    "set_seed(GLOBAL_SEED)"
   ]
  },
  {
   "cell_type": "code",
   "execution_count": 3,
   "metadata": {},
   "outputs": [],
   "source": [
    "def check_equal(actual, expected):\n",
    "    assert actual == expected, actual\n",
    "\n",
    "def check_approx(actual, expected):\n",
    "    assert np.allclose(actual, expected), actual"
   ]
  },
  {
   "cell_type": "markdown",
   "metadata": {},
   "source": [
    "## Part A: Project Overview\n",
    "We will train our NLP models on the [Stanford Question Answering Dataset (SQuAD)](https://rajpurkar.github.io/SQuAD-explorer/), a reading comprehension dataset with more than 100,000 questions. SQuAD was one of the first with a public leaderboard and thus was able to garner a large amount of research result and publicity towards itself. Questions in the dataset can be answered from the context that accompanies them, without requiring any domain-specific knowledge; thus they belong to the class of *single-hop* question answering problem.\n",
    "\n",
    "Here's an example of what our model will do: given a *question*,\n",
    "```\n",
    "When did Beyonce start becoming popular?\n",
    "```\n",
    "and a block of text containing the answer, called the *context*,\n",
    "```\n",
    "Beyoncé Giselle Knowles-Carter (/biːˈjɒnseɪ/ bee-YON-say) (born September 4, 1981) is an American singer, songwriter, record producer and actress. Born and raised in Houston, Texas, she performed in various singing and dancing competitions as a child, and rose to fame in the late 1990s as lead singer of R&B girl-group Destiny's Child. Managed by her father, Mathew Knowles, the group became one of the world's best-selling girl groups of all time. Their hiatus saw the release of Beyoncé's debut album, Dangerously in Love (2003), which established her as a solo artist worldwide, earned five Grammy Awards and featured the Billboard Hot 100 number-one singles \"Crazy in Love\" and \"Baby Boy\".\n",
    "```\n",
    "our model will be able to extract the answer from this context, which is\n",
    "```\n",
    "in the late 1990s\n",
    "```\n",
    "\n",
    "We will start by evaluating some simple models that only identify the sentence which contains the answer (i.e., the *answer sentence*) within the context. Then we'll move to a state-of-the-art model called BERT that can also identify the exact answer."
   ]
  },
  {
   "cell_type": "markdown",
   "metadata": {},
   "source": [
    "First we load the dataset -- note that the following cell should have the tag `excluded_from_script`, since the autograder will use a different dataset."
   ]
  },
  {
   "cell_type": "code",
   "execution_count": 4,
   "metadata": {
    "tags": [
     "excluded_from_script"
    ]
   },
   "outputs": [
    {
     "data": {
      "text/html": [
       "<div>\n",
       "<style scoped>\n",
       "    .dataframe tbody tr th:only-of-type {\n",
       "        vertical-align: middle;\n",
       "    }\n",
       "\n",
       "    .dataframe tbody tr th {\n",
       "        vertical-align: top;\n",
       "    }\n",
       "\n",
       "    .dataframe thead th {\n",
       "        text-align: right;\n",
       "    }\n",
       "</style>\n",
       "<table border=\"1\" class=\"dataframe\">\n",
       "  <thead>\n",
       "    <tr style=\"text-align: right;\">\n",
       "      <th></th>\n",
       "      <th>question</th>\n",
       "      <th>context_paragraph</th>\n",
       "      <th>answer</th>\n",
       "      <th>answer_start</th>\n",
       "      <th>answer_end</th>\n",
       "      <th>context_sentences</th>\n",
       "      <th>answer_sent_index</th>\n",
       "    </tr>\n",
       "  </thead>\n",
       "  <tbody>\n",
       "    <tr>\n",
       "      <th>0</th>\n",
       "      <td>When did Beyonce start becoming popular?</td>\n",
       "      <td>Beyoncé Giselle Knowles-Carter (/biːˈjɒnseɪ/ b...</td>\n",
       "      <td>in the late 1990s</td>\n",
       "      <td>269</td>\n",
       "      <td>286</td>\n",
       "      <td>[Beyoncé Giselle Knowles-Carter (/biːˈjɒnseɪ/ ...</td>\n",
       "      <td>1</td>\n",
       "    </tr>\n",
       "    <tr>\n",
       "      <th>1</th>\n",
       "      <td>What areas did Beyonce compete in when she was...</td>\n",
       "      <td>Beyoncé Giselle Knowles-Carter (/biːˈjɒnseɪ/ b...</td>\n",
       "      <td>singing and dancing</td>\n",
       "      <td>207</td>\n",
       "      <td>226</td>\n",
       "      <td>[Beyoncé Giselle Knowles-Carter (/biːˈjɒnseɪ/ ...</td>\n",
       "      <td>1</td>\n",
       "    </tr>\n",
       "    <tr>\n",
       "      <th>2</th>\n",
       "      <td>When did Beyonce leave Destiny's Child and bec...</td>\n",
       "      <td>Beyoncé Giselle Knowles-Carter (/biːˈjɒnseɪ/ b...</td>\n",
       "      <td>2003</td>\n",
       "      <td>526</td>\n",
       "      <td>530</td>\n",
       "      <td>[Beyoncé Giselle Knowles-Carter (/biːˈjɒnseɪ/ ...</td>\n",
       "      <td>3</td>\n",
       "    </tr>\n",
       "    <tr>\n",
       "      <th>3</th>\n",
       "      <td>In what city and state did Beyonce  grow up?</td>\n",
       "      <td>Beyoncé Giselle Knowles-Carter (/biːˈjɒnseɪ/ b...</td>\n",
       "      <td>Houston, Texas</td>\n",
       "      <td>166</td>\n",
       "      <td>180</td>\n",
       "      <td>[Beyoncé Giselle Knowles-Carter (/biːˈjɒnseɪ/ ...</td>\n",
       "      <td>1</td>\n",
       "    </tr>\n",
       "    <tr>\n",
       "      <th>4</th>\n",
       "      <td>In which decade did Beyonce become famous?</td>\n",
       "      <td>Beyoncé Giselle Knowles-Carter (/biːˈjɒnseɪ/ b...</td>\n",
       "      <td>late 1990s</td>\n",
       "      <td>276</td>\n",
       "      <td>286</td>\n",
       "      <td>[Beyoncé Giselle Knowles-Carter (/biːˈjɒnseɪ/ ...</td>\n",
       "      <td>1</td>\n",
       "    </tr>\n",
       "  </tbody>\n",
       "</table>\n",
       "</div>"
      ],
      "text/plain": [
       "                                            question  \\\n",
       "0           When did Beyonce start becoming popular?   \n",
       "1  What areas did Beyonce compete in when she was...   \n",
       "2  When did Beyonce leave Destiny's Child and bec...   \n",
       "3      In what city and state did Beyonce  grow up?    \n",
       "4         In which decade did Beyonce become famous?   \n",
       "\n",
       "                                   context_paragraph               answer  \\\n",
       "0  Beyoncé Giselle Knowles-Carter (/biːˈjɒnseɪ/ b...    in the late 1990s   \n",
       "1  Beyoncé Giselle Knowles-Carter (/biːˈjɒnseɪ/ b...  singing and dancing   \n",
       "2  Beyoncé Giselle Knowles-Carter (/biːˈjɒnseɪ/ b...                 2003   \n",
       "3  Beyoncé Giselle Knowles-Carter (/biːˈjɒnseɪ/ b...       Houston, Texas   \n",
       "4  Beyoncé Giselle Knowles-Carter (/biːˈjɒnseɪ/ b...           late 1990s   \n",
       "\n",
       "   answer_start  answer_end  \\\n",
       "0           269         286   \n",
       "1           207         226   \n",
       "2           526         530   \n",
       "3           166         180   \n",
       "4           276         286   \n",
       "\n",
       "                                   context_sentences  answer_sent_index  \n",
       "0  [Beyoncé Giselle Knowles-Carter (/biːˈjɒnseɪ/ ...                  1  \n",
       "1  [Beyoncé Giselle Knowles-Carter (/biːˈjɒnseɪ/ ...                  1  \n",
       "2  [Beyoncé Giselle Knowles-Carter (/biːˈjɒnseɪ/ ...                  3  \n",
       "3  [Beyoncé Giselle Knowles-Carter (/biːˈjɒnseɪ/ ...                  1  \n",
       "4  [Beyoncé Giselle Knowles-Carter (/biːˈjɒnseɪ/ ...                  1  "
      ]
     },
     "execution_count": 4,
     "metadata": {},
     "output_type": "execute_result"
    }
   ],
   "source": [
    "df_squad = pd.read_csv(\n",
    "    \"cleaned_squad_data.csv\",\n",
    "    dtype = { \n",
    "        \"question\" : str,\n",
    "        \"context_paragraph\" : str,\n",
    "        \"answer\" : str,\n",
    "        \"answer_start\" : int,\n",
    "        \"answer_end\" : int,\n",
    "        \"answer_sent_index\" : int,\n",
    "        \"tokenized_context\" : str\n",
    "    },\n",
    "    converters = {\"context_sentences\" : ast.literal_eval}\n",
    ")\n",
    "\n",
    "df_squad.head(5)"
   ]
  },
  {
   "cell_type": "markdown",
   "metadata": {},
   "source": [
    "Since the cell contents are truncated, let's print out and examine one row in detail:"
   ]
  },
  {
   "cell_type": "code",
   "execution_count": 5,
   "metadata": {
    "tags": [
     "excluded_from_script"
    ]
   },
   "outputs": [
    {
     "data": {
      "text/plain": [
       "{'question': 'In what city and state did Beyonce  grow up? ',\n",
       " 'context_paragraph': 'Beyoncé Giselle Knowles-Carter (/biːˈjɒnseɪ/ bee-YON-say) (born September 4, 1981) is an American singer, songwriter, record producer and actress. Born and raised in Houston, Texas, she performed in various singing and dancing competitions as a child, and rose to fame in the late 1990s as lead singer of R&B girl-group Destiny\\'s Child. Managed by her father, Mathew Knowles, the group became one of the world\\'s best-selling girl groups of all time. Their hiatus saw the release of Beyoncé\\'s debut album, Dangerously in Love (2003), which established her as a solo artist worldwide, earned five Grammy Awards and featured the Billboard Hot 100 number-one singles \"Crazy in Love\" and \"Baby Boy\".',\n",
       " 'answer': 'Houston, Texas',\n",
       " 'answer_start': 166,\n",
       " 'answer_end': 180,\n",
       " 'context_sentences': ['Beyoncé Giselle Knowles-Carter (/biːˈjɒnseɪ/ bee-YON-say) (born September 4, 1981) is an American singer, songwriter, record producer and actress.',\n",
       "  \"Born and raised in Houston, Texas, she performed in various singing and dancing competitions as a child, and rose to fame in the late 1990s as lead singer of R&B girl-group Destiny's Child.\",\n",
       "  \"Managed by her father, Mathew Knowles, the group became one of the world's best-selling girl groups of all time.\",\n",
       "  'Their hiatus saw the release of Beyoncé\\'s debut album, Dangerously in Love (2003), which established her as a solo artist worldwide, earned five Grammy Awards and featured the Billboard Hot 100 number-one singles \"Crazy in Love\" and \"Baby Boy\".'],\n",
       " 'answer_sent_index': 1}"
      ]
     },
     "execution_count": 5,
     "metadata": {},
     "output_type": "execute_result"
    }
   ],
   "source": [
    "df_squad.iloc[3].to_dict()"
   ]
  },
  {
   "cell_type": "markdown",
   "metadata": {},
   "source": [
    "Now we can get a better understanding of what each column means:\n",
    "* `question` is the question text.\n",
    "* `context_paragraph` is the paragraph of text that contains the answer, which our model extracts from.\n",
    "* `answer` is the ground-truth answer to the given question.\n",
    "* `answer_start` and `answer_end` are the indexes of the first and last character of `answer` within `context_paragraph`. In other words, `context_paragraph[answer_start:answer_end]` yields `answer`. Note that `answer_end` is not inclusive.\n",
    "* `context_sentences` is the list of sentences in `context_paragraph`.\n",
    "* `answer_sent_index` is the ground-truth index of the answer sentence within `context_sentences` (indexing starts from 0)."
   ]
  },
  {
   "cell_type": "markdown",
   "metadata": {},
   "source": [
    "There are several techniques to build a question-answering model from this dataset, which we will introduce in the following sections."
   ]
  },
  {
   "cell_type": "markdown",
   "metadata": {},
   "source": [
    "## Part B: Unsupervised Models\n",
    "In this section, we will implement three unsupervised learning models to identify the sentence that contains the answer to a given question. Here \"unsupervised\" means that we will not make use of the ground truth answer provided in the dataset (i.e., the columns `text`, `answer_start`, and `answer_end`). Instead, the sentence identification will be based only on some pre-defined heuristics."
   ]
  },
  {
   "cell_type": "markdown",
   "metadata": {},
   "source": [
    "### Question 1: Jaccard Overlap\n",
    "The Jaccard overlap of two given sets $A$ and $B$ measures the similarity between them and is defined as\n",
    "\n",
    "\\begin{equation}\n",
    "J(A, B) = \\begin{cases}\n",
    "    \\frac{|A \\cap B|}{|A \\cup B|} & \\text{ if $A \\ne \\emptyset$ or $B \\ne \\emptyset$ } \\\\\n",
    "    1 & \\text { otherwise }\n",
    "\\end{cases}\n",
    "\\end{equation}\n",
    "\n",
    "Given a question and a list of context sentences, we can identify the answer sentence using Jaccard overlap as follows:\n",
    "1. Construct the set of words that are in the input question; we will call this set $Q$.\n",
    "1. Construct the sets of words that are in each context sentence; we will call these sets $S_1, S_2, \\ldots, S_m$. Here $S_i$ is the set of words in the $i$-th context sentence.\n",
    "1. Return the index of the context sentence whose Jaccard overlap with the input question is largest; this is our predicted answer sentence: \n",
    "\n",
    "$$\\hat y = \\underset{1 \\le i \\le m}{\\operatorname{argmax}} J(Q, S_i).$$\n",
    "\n",
    "Implement the function `get_jaccard_prediction` that performs the above steps on the dataset `df_squad`. For every row, it stores the predicted answer sentence index in a new column `\"jaccard_prediction\"`, and the corresponding largest Jaccard overlap value in a new column `\"jaccard_value\"`.\n",
    "\n",
    "**Notes**:\n",
    "* Our math notations use 1-based indexing, but in your implementation the indexes start from 0. In other words, if the first sentence in the context paragraph is the predicted answer sentence, you should return 0.\n",
    "* If multiple context sentences have the same (largest) Jaccard overlap with the question, return the smallest sentence index.\n",
    "* To build the set of words from a sentence, you should first tokenize the sentence with `nltk`, and then turn the resulting list of tokens into a set.\n",
    "* You do not need to perform any rounding on the distance values.\n",
    "* Refer to the [Pandas primer](https://nbviewer.jupyter.org/url/clouddatascience.blob.core.windows.net/primers/pandas-primer/pandas_primer.ipynb) on how to vectorize a row-wise dataframe operation."
   ]
  },
  {
   "cell_type": "code",
   "execution_count": 7,
   "metadata": {},
   "outputs": [],
   "source": [
    "def preprocess_text(text):\n",
    "    stop_words = set(stopwords.words('english'))\n",
    "    text = text.lower()\n",
    "    words = nltk.word_tokenize(text)\n",
    "    words = [lemmatizer.lemmatize(word) for word in words if word not in stop_words]\n",
    "    return words\n",
    "\n",
    "def jaccard_overlap(set1, set2):\n",
    "    intersection = len(set1.intersection(set2))\n",
    "    union = len(set1.union(set2))\n",
    "    return intersection / union if union != 0 else 0\n",
    "\n",
    "def get_jaccard_prediction(df_squad):\n",
    "    df_squad[\"jaccard_prediction\"] = None\n",
    "    df_squad[\"jaccard_value\"] = None\n",
    "    \n",
    "    for idx, row in df_squad.iterrows():\n",
    "        question_tokens = set(nltk.word_tokenize(row[\"question\"]))\n",
    "        context_sentences = row[\"context_sentences\"]\n",
    "        jaccard_values = [jaccard_overlap(question_tokens, set(nltk.word_tokenize(context))) for context in context_sentences]        \n",
    "        max_jaccard_value = max(jaccard_values)\n",
    "        max_jaccard_index = jaccard_values.index(max_jaccard_value)\n",
    "        \n",
    "        df_squad.at[idx, \"jaccard_prediction\"] = max_jaccard_index\n",
    "        df_squad.at[idx, \"jaccard_value\"] = max_jaccard_value\n",
    "    df_squad[\"jaccard_value\"] = df_squad[\"jaccard_value\"].astype(float)\n",
    "    \n",
    "    return df_squad\n"
   ]
  },
  {
   "cell_type": "code",
   "execution_count": 8,
   "metadata": {
    "tags": [
     "excluded_from_script"
    ]
   },
   "outputs": [
    {
     "name": "stdout",
     "output_type": "stream",
     "text": [
      "0        0.000000\n",
      "1        0.046512\n",
      "2        0.150000\n",
      "3        0.032258\n",
      "4        0.020408\n",
      "           ...   \n",
      "86816    0.107143\n",
      "86817    0.040000\n",
      "86818    0.074074\n",
      "86819    0.071429\n",
      "86820    0.083333\n",
      "Name: jaccard_value, Length: 86821, dtype: float64\n",
      "All tests passed!\n"
     ]
    }
   ],
   "source": [
    "def test_get_jaccard_prediction():\n",
    "    \"\"\"Test on the first 10 rows\"\"\"\n",
    "    df_jaccard = get_jaccard_prediction(df_squad.head(10).copy())\n",
    "    \n",
    "    check_equal(df_jaccard.shape, (10, 9))\n",
    "    \n",
    "    check_approx(df_jaccard[\"jaccard_value\"].tolist(),[\n",
    "        0.0, 0.046511627906976744, 0.15, 0.03225806451612903, 0.02040816326530612,\n",
    "        0.18421052631578946, 0.10869565217391304, 0.12, 0.05263157894736842, 0.10256410256410256\n",
    "    ])\n",
    "    \n",
    "    check_equal(df_jaccard[\"jaccard_prediction\"].tolist(), [0, 1, 1, 0, 3, 1, 3, 2, 1, 1])\n",
    "    \n",
    "    jaccard_accuracy = (df_jaccard[\"jaccard_prediction\"] == df_jaccard[\"answer_sent_index\"]).values.mean()\n",
    "    check_equal(jaccard_accuracy, 0.6)\n",
    "    \n",
    "    \n",
    "    \"\"\"Test on the entire dataset\"\"\"\n",
    "    df_jaccard = get_jaccard_prediction(df_squad.copy())\n",
    "    \n",
    "    check_equal(df_jaccard.shape, (86821, 9))\n",
    "    print(df_jaccard[\"jaccard_value\"])\n",
    "    check_approx(df_jaccard.tail(10)[\"jaccard_value\"].tolist(), [\n",
    "        0.11428571428571428, 0.17073170731707318, 0.08333333333333333, 0.10526315789473684, 0.125,\n",
    "        0.10714285714285714, 0.04, 0.07407407407407407, 0.07142857142857142, 0.08333333333333333\n",
    "    ])\n",
    "    \n",
    "    check_equal(df_jaccard.tail(10)[\"jaccard_prediction\"].tolist(), [0, 0, 0, 4, 4, 1, 1, 1, 1, 1])\n",
    "    \n",
    "    jaccard_accuracy = (df_jaccard[\"jaccard_prediction\"] == df_jaccard[\"answer_sent_index\"]).values.mean()\n",
    "    check_approx(jaccard_accuracy, 0.7001992605475634)\n",
    "    print(\"All tests passed!\")\n",
    "    \n",
    "test_get_jaccard_prediction()"
   ]
  },
  {
   "cell_type": "markdown",
   "metadata": {},
   "source": [
    "Essentially, the Jaccard technique is saying \"the context sentence that is most similar to the question contains the answer.\" We see that even such a simple heuristic can achieve 70% accuracy, which is not bad at all. This performance can be improved a bit if we take the time to preprocess (e.g., remove stopwords, lemmatize tokens) in the questions and context sentences, before computing the Jaccard overlap."
   ]
  },
  {
   "cell_type": "markdown",
   "metadata": {},
   "source": [
    "### Question 2: TF-IDF Vectors\n",
    "Instead of Jaccard overlap, we can employ other measures of similarity, such as the Euclidean distance:\n",
    "\n",
    "$$d_{\\text{euclidean}}(a, b) = \\|a - b\\|_2 = \\sqrt{\\sum_{i=1}^k (a_i - b_i)^2}.$$\n",
    "\n",
    "To compute this distance, we first need to convert each question and context sentence into a vector. Recall from earlier projects that one way to do so is building a TF-IDF model, which transforms each string into a vector $v \\in \\mathbb{R}^k$ where:\n",
    "* $k$ is the number of unique tokens in the entire dataset.\n",
    "* The $i$-th element is the frequency of token $i$ in the string, divided by its IDF value.\n",
    "\n",
    "Given a question, a list of context sentences, and a trained TF-IDF model, we can identify the answer sentence as follows:\n",
    "1. Transform the question into a vector $u$ using the TF-IDF model.\n",
    "1. Transform each context sentence $s_i$ into a vector $v_i$ using the TF-IDF model.\n",
    "1. Return the index of the context sentence whose Euclidean distance to the input question is smallest in the TF-IDF space:\n",
    "\n",
    "$$\\hat y = \\underset{1 \\le i \\le m}{\\operatorname{argmin}} d_{\\text{euclidean}}(u, v_i).$$\n",
    "\n",
    "Implement the function `get_tfidf_prediction` that performs the above steps on the dataset `df_squad`. For every row, it stores the predicted answer sentence index in a new column `\"tfidf_prediction\"`, and the corresponding smallest Euclidean distance value in a new column `\"distance_value\"`.\n",
    "\n",
    "**Notes**:\n",
    "* Since the input `tfidf_vectorizer` is already trained, you don't need to fit it on anything. Instead, just call `.transform` on the appropriate question / context sentence.\n",
    "* Because TF-IDF transformation outputs sparse matrices, you should only use `scipy.sparse` methods to operate on them. Using standard NumPy/Scipy methods may lead to dimension issues or implicit conversion of the sparse matrices to dense.\n",
    "* If multiple context sentences have the same (smallest) distance value from the question, return the smallest sentence index.\n",
    "* You may find that using `df.apply(<your_custom_function>, axis = 1)` to process every row is quite slow, due to the complexity of the operations involved. To work around this issue, try to think about how to completely vectorize this function, using only built-in Pandas and NumPy/Scipy or Sklearn operations.\n",
    "* You may find the Pandas method `.explode()` helpful. Note that there are duplicate questions in the dataset (the same question may apply to different context paragraphs), so be careful when performing groupby on the exploded dataset."
   ]
  },
  {
   "cell_type": "code",
   "execution_count": 7,
   "metadata": {},
   "outputs": [],
   "source": [
    "def euclidean_distance(X, Y, df_squad_copy):\n",
    "    \"\"\"\n",
    "    XX = np.repeat(X, Y.shape[0], axis=1)\n",
    "    YY = np.repeat(Y.T, X.shape[0], axis=0)\n",
    "\n",
    "    distances = scipy.sparse.linalg.norm(X-Y)\n",
    "    return distances\n",
    "    \"\"\"\n",
    "    distances = np.zeros(X.shape[0], dtype=np.float64)\n",
    "    min_distance_indexes = np.zeros(X.shape[0], dtype=np.int32)\n",
    "    for i in range(X.shape[0]):\n",
    "        filtered_Y = Y[df_squad_copy[\"id\"]==i]\n",
    "        norms = np.zeros(filtered_Y.shape[0], dtype=np.float64)\n",
    "        for ind, y in enumerate(filtered_Y):\n",
    "            norms[ind] = scipy.sparse.linalg.norm(X[i] - y)\n",
    "\n",
    "        min_ind = np.argmin(norms)\n",
    "        distances[i] = norms[min_ind]\n",
    "        min_distance_indexes[i] = min_ind\n",
    "\n",
    "    return distances, min_distance_indexes\n",
    "    \n",
    "    \n",
    "\n",
    "def get_tfidf_prediction(df_squad, tfidf_vectorizer):\n",
    "    \"\"\"\n",
    "    Identify the answer sentence as one whose TF-IDF representation has minimal distance to that of the question.\n",
    "    \n",
    "    args:\n",
    "        df_squad (pd.DataFrame) : a copy of the SQuAD dataset\n",
    "        tfidf_vectorizer (sklearn.feature_extraction.text.TfidfVectorizer) :\n",
    "            the TF-IDF model to transform questions and sentences\n",
    "        \n",
    "    returns:\n",
    "        pd.DataFrame : the input dataframe with two additional columns, \"tfidf_prediction\" and \"distance_value\"\n",
    "    \"\"\"\n",
    "    df_squad[\"tfidf_prediction\"] = None\n",
    "    df_squad[\"distance_value\"] = None\n",
    "\n",
    "    question_csr = tfidf_vectorizer.transform(df_squad[\"question\"])\n",
    "    \n",
    "    df_squad_copy = df_squad.copy()\n",
    "    df_squad_copy[\"id\"] = df_squad_copy.index\n",
    "    \n",
    "    df_squad_copy = df_squad_copy.explode(\"context_sentences\")\n",
    "    context_csr = tfidf_vectorizer.transform(df_squad_copy[\"context_sentences\"])\n",
    "    \n",
    "    \n",
    "    min_distance, min_distance_indexes = euclidean_distance(question_csr, context_csr, df_squad_copy)\n",
    "\n",
    "                                             \n",
    "    df_squad[\"tfidf_prediction\"] = min_distance_indexes\n",
    "    df_squad[\"distance_value\"] = min_distance#distances[np.arange(len(df_squad)), min_distance_indexes]\n",
    "    \n",
    "\n",
    "    return df_squad"
   ]
  },
  {
   "cell_type": "markdown",
   "metadata": {},
   "source": [
    "Below is an example trained TF-IDF vectorizer that we can use. Since fitting it on the entire dataset takes a while, we will initialiize and fit the vectorizer in the global namespace, so that it can be reused in all subsequent functions."
   ]
  },
  {
   "cell_type": "code",
   "execution_count": 22,
   "metadata": {
    "tags": [
     "excluded_from_script"
    ]
   },
   "outputs": [
    {
     "name": "stderr",
     "output_type": "stream",
     "text": [
      "/anaconda/envs/azureml_py38/lib/python3.8/site-packages/sklearn/feature_extraction/text.py:525: UserWarning: The parameter 'token_pattern' will not be used since 'tokenizer' is not None'\n",
      "  warnings.warn(\n",
      "/anaconda/envs/azureml_py38/lib/python3.8/site-packages/sklearn/feature_extraction/text.py:408: UserWarning: Your stop_words may be inconsistent with your preprocessing. Tokenizing the stop words generated tokens [\"'d\", \"'ll\", \"'re\", \"'s\", \"'ve\", 'could', 'might', 'must', \"n't\", 'need', 'sha', 'wo', 'would'] not in stop_words.\n",
      "  warnings.warn(\n"
     ]
    },
    {
     "data": {
      "text/html": [
       "<style>#sk-container-id-1 {color: black;}#sk-container-id-1 pre{padding: 0;}#sk-container-id-1 div.sk-toggleable {background-color: white;}#sk-container-id-1 label.sk-toggleable__label {cursor: pointer;display: block;width: 100%;margin-bottom: 0;padding: 0.3em;box-sizing: border-box;text-align: center;}#sk-container-id-1 label.sk-toggleable__label-arrow:before {content: \"▸\";float: left;margin-right: 0.25em;color: #696969;}#sk-container-id-1 label.sk-toggleable__label-arrow:hover:before {color: black;}#sk-container-id-1 div.sk-estimator:hover label.sk-toggleable__label-arrow:before {color: black;}#sk-container-id-1 div.sk-toggleable__content {max-height: 0;max-width: 0;overflow: hidden;text-align: left;background-color: #f0f8ff;}#sk-container-id-1 div.sk-toggleable__content pre {margin: 0.2em;color: black;border-radius: 0.25em;background-color: #f0f8ff;}#sk-container-id-1 input.sk-toggleable__control:checked~div.sk-toggleable__content {max-height: 200px;max-width: 100%;overflow: auto;}#sk-container-id-1 input.sk-toggleable__control:checked~label.sk-toggleable__label-arrow:before {content: \"▾\";}#sk-container-id-1 div.sk-estimator input.sk-toggleable__control:checked~label.sk-toggleable__label {background-color: #d4ebff;}#sk-container-id-1 div.sk-label input.sk-toggleable__control:checked~label.sk-toggleable__label {background-color: #d4ebff;}#sk-container-id-1 input.sk-hidden--visually {border: 0;clip: rect(1px 1px 1px 1px);clip: rect(1px, 1px, 1px, 1px);height: 1px;margin: -1px;overflow: hidden;padding: 0;position: absolute;width: 1px;}#sk-container-id-1 div.sk-estimator {font-family: monospace;background-color: #f0f8ff;border: 1px dotted black;border-radius: 0.25em;box-sizing: border-box;margin-bottom: 0.5em;}#sk-container-id-1 div.sk-estimator:hover {background-color: #d4ebff;}#sk-container-id-1 div.sk-parallel-item::after {content: \"\";width: 100%;border-bottom: 1px solid gray;flex-grow: 1;}#sk-container-id-1 div.sk-label:hover label.sk-toggleable__label {background-color: #d4ebff;}#sk-container-id-1 div.sk-serial::before {content: \"\";position: absolute;border-left: 1px solid gray;box-sizing: border-box;top: 0;bottom: 0;left: 50%;z-index: 0;}#sk-container-id-1 div.sk-serial {display: flex;flex-direction: column;align-items: center;background-color: white;padding-right: 0.2em;padding-left: 0.2em;position: relative;}#sk-container-id-1 div.sk-item {position: relative;z-index: 1;}#sk-container-id-1 div.sk-parallel {display: flex;align-items: stretch;justify-content: center;background-color: white;position: relative;}#sk-container-id-1 div.sk-item::before, #sk-container-id-1 div.sk-parallel-item::before {content: \"\";position: absolute;border-left: 1px solid gray;box-sizing: border-box;top: 0;bottom: 0;left: 50%;z-index: -1;}#sk-container-id-1 div.sk-parallel-item {display: flex;flex-direction: column;z-index: 1;position: relative;background-color: white;}#sk-container-id-1 div.sk-parallel-item:first-child::after {align-self: flex-end;width: 50%;}#sk-container-id-1 div.sk-parallel-item:last-child::after {align-self: flex-start;width: 50%;}#sk-container-id-1 div.sk-parallel-item:only-child::after {width: 0;}#sk-container-id-1 div.sk-dashed-wrapped {border: 1px dashed gray;margin: 0 0.4em 0.5em 0.4em;box-sizing: border-box;padding-bottom: 0.4em;background-color: white;}#sk-container-id-1 div.sk-label label {font-family: monospace;font-weight: bold;display: inline-block;line-height: 1.2em;}#sk-container-id-1 div.sk-label-container {text-align: center;}#sk-container-id-1 div.sk-container {/* jupyter's `normalize.less` sets `[hidden] { display: none; }` but bootstrap.min.css set `[hidden] { display: none !important; }` so we also need the `!important` here to be able to override the default hidden behavior on the sphinx rendered scikit-learn.org. See: https://github.com/scikit-learn/scikit-learn/issues/21755 */display: inline-block !important;position: relative;}#sk-container-id-1 div.sk-text-repr-fallback {display: none;}</style><div id=\"sk-container-id-1\" class=\"sk-top-container\"><div class=\"sk-text-repr-fallback\"><pre>TfidfVectorizer(min_df=10, ngram_range=(1, 2),\n",
       "                stop_words=[&#x27;i&#x27;, &#x27;me&#x27;, &#x27;my&#x27;, &#x27;myself&#x27;, &#x27;we&#x27;, &#x27;our&#x27;, &#x27;ours&#x27;,\n",
       "                            &#x27;ourselves&#x27;, &#x27;you&#x27;, &quot;you&#x27;re&quot;, &quot;you&#x27;ve&quot;, &quot;you&#x27;ll&quot;,\n",
       "                            &quot;you&#x27;d&quot;, &#x27;your&#x27;, &#x27;yours&#x27;, &#x27;yourself&#x27;, &#x27;yourselves&#x27;,\n",
       "                            &#x27;he&#x27;, &#x27;him&#x27;, &#x27;his&#x27;, &#x27;himself&#x27;, &#x27;she&#x27;, &quot;she&#x27;s&quot;,\n",
       "                            &#x27;her&#x27;, &#x27;hers&#x27;, &#x27;herself&#x27;, &#x27;it&#x27;, &quot;it&#x27;s&quot;, &#x27;its&#x27;,\n",
       "                            &#x27;itself&#x27;, ...],\n",
       "                tokenizer=&lt;function word_tokenize at 0x7ff42972fdc0&gt;)</pre><b>In a Jupyter environment, please rerun this cell to show the HTML representation or trust the notebook. <br />On GitHub, the HTML representation is unable to render, please try loading this page with nbviewer.org.</b></div><div class=\"sk-container\" hidden><div class=\"sk-item\"><div class=\"sk-estimator sk-toggleable\"><input class=\"sk-toggleable__control sk-hidden--visually\" id=\"sk-estimator-id-1\" type=\"checkbox\" checked><label for=\"sk-estimator-id-1\" class=\"sk-toggleable__label sk-toggleable__label-arrow\">TfidfVectorizer</label><div class=\"sk-toggleable__content\"><pre>TfidfVectorizer(min_df=10, ngram_range=(1, 2),\n",
       "                stop_words=[&#x27;i&#x27;, &#x27;me&#x27;, &#x27;my&#x27;, &#x27;myself&#x27;, &#x27;we&#x27;, &#x27;our&#x27;, &#x27;ours&#x27;,\n",
       "                            &#x27;ourselves&#x27;, &#x27;you&#x27;, &quot;you&#x27;re&quot;, &quot;you&#x27;ve&quot;, &quot;you&#x27;ll&quot;,\n",
       "                            &quot;you&#x27;d&quot;, &#x27;your&#x27;, &#x27;yours&#x27;, &#x27;yourself&#x27;, &#x27;yourselves&#x27;,\n",
       "                            &#x27;he&#x27;, &#x27;him&#x27;, &#x27;his&#x27;, &#x27;himself&#x27;, &#x27;she&#x27;, &quot;she&#x27;s&quot;,\n",
       "                            &#x27;her&#x27;, &#x27;hers&#x27;, &#x27;herself&#x27;, &#x27;it&#x27;, &quot;it&#x27;s&quot;, &#x27;its&#x27;,\n",
       "                            &#x27;itself&#x27;, ...],\n",
       "                tokenizer=&lt;function word_tokenize at 0x7ff42972fdc0&gt;)</pre></div></div></div></div></div>"
      ],
      "text/plain": [
       "TfidfVectorizer(min_df=10, ngram_range=(1, 2),\n",
       "                stop_words=['i', 'me', 'my', 'myself', 'we', 'our', 'ours',\n",
       "                            'ourselves', 'you', \"you're\", \"you've\", \"you'll\",\n",
       "                            \"you'd\", 'your', 'yours', 'yourself', 'yourselves',\n",
       "                            'he', 'him', 'his', 'himself', 'she', \"she's\",\n",
       "                            'her', 'hers', 'herself', 'it', \"it's\", 'its',\n",
       "                            'itself', ...],\n",
       "                tokenizer=<function word_tokenize at 0x7ff42972fdc0>)"
      ]
     },
     "execution_count": 22,
     "metadata": {},
     "output_type": "execute_result"
    }
   ],
   "source": [
    "tfidf_vectorizer = TfidfVectorizer(\n",
    "    tokenizer = nltk.word_tokenize,\n",
    "    stop_words = stopwords.words('english'),\n",
    "    ngram_range = (1,2),\n",
    "    max_df = 1.0,\n",
    "    min_df = 10\n",
    ")\n",
    "tfidf_vectorizer.fit(df_squad[\"context_paragraph\"].unique())"
   ]
  },
  {
   "cell_type": "code",
   "execution_count": 81,
   "metadata": {
    "tags": [
     "excluded_from_script"
    ]
   },
   "outputs": [
    {
     "name": "stdout",
     "output_type": "stream",
     "text": [
      "(10, 25403) (40, 25403)\n",
      "(86821, 25403) (443259, 25403)\n",
      "All tests passed!\n",
      "CPU times: user 3min 56s, sys: 116 ms, total: 3min 56s\n",
      "Wall time: 3min 56s\n"
     ]
    }
   ],
   "source": [
    "def test_get_tfidf_prediction():\n",
    "    \"\"\"Test on the first 10 rows\"\"\"\n",
    "    df_tf_idf = get_tfidf_prediction(df_squad.head(10).copy(), tfidf_vectorizer)\n",
    "    \n",
    "    check_equal(df_tf_idf.shape, (10, 9))\n",
    "    check_approx(df_tf_idf[\"distance_value\"].tolist(), [\n",
    "        1.4142135623730951, 1.4142135623730951, 1.118805210307003, 1.414213562373095,\n",
    "        1.414213562373095, 1.0991965705062294, 1.2823059131390453, 1.1299491754496973,\n",
    "        1.3217983153692023, 1.1364153055563095\n",
    "    ])\n",
    "    \n",
    "    \"\"\"Test on the whole dataset\"\"\"\n",
    "    df_tf_idf = get_tfidf_prediction(df_squad.copy(), tfidf_vectorizer)\n",
    "    \n",
    "    check_equal(df_tf_idf.shape, (86821, 9))\n",
    "    \n",
    "    check_approx(df_tf_idf.tail(10)[\"distance_value\"].tolist(), [\n",
    "        1.2205482532513834, 1.1011579092263701, 1.23935316383152, 1.2848863907388077,\n",
    "        1.1456258185112482, 1.2657059224645815, 1.4142135623730951, 1.2768968376533885,\n",
    "        1.2666294346869091, 1.4142135623730951\n",
    "    ])\n",
    "    \n",
    "    tfidf_accuracy = (df_tf_idf[\"tfidf_prediction\"] == df_tf_idf[\"answer_sent_index\"]).values.mean()\n",
    "    assert 0.68 <= round(tfidf_accuracy, 2) <= 0.69, tfidf_accuracy\n",
    "    print(\"All tests passed!\")\n",
    "    \n",
    "%time test_get_tfidf_prediction()"
   ]
  },
  {
   "cell_type": "markdown",
   "metadata": {},
   "source": [
    "If your implementation is sufficiently optimized, you should expect to see the local test being finished in about 3 minutes or less, on a `STANDARD_NC8AS_T4_V3` GPU Compute. If your code runs for more than 7 minutes, you should try to improve its efficiency."
   ]
  },
  {
   "cell_type": "markdown",
   "metadata": {},
   "source": [
    "We still see a training accuracy of about 0.68, so TF-IDF is fairly similar in performance to the baseline Jaccard model.\n",
    "\n",
    "Up until now we have used language models that rely only on word frequencies, without considering the meaning of the words themselves. Now we will address this shortcoming by considering the *word embedding* of each word in our corpus.  Roughly speaking, a word embedding is a vector representation of that word in some space $\\mathbb{R}^k$. This representation differs from the TF-IDF transformation in two important ways:\n",
    "\n",
    "1. If two words have similar meanings in some sense, their Euclidean distances should be close. For example, we may expect the word `\"Pittsburgh\"` to be closer, in Euclidean distance, to `\"Chicago\"` than to `\"Pikachu\"`, because the first two are city names while the third is a Pokemon.\n",
    "1. The dimensionality of the vector $k$ is fixed and typically much smaller than the vocabulary size.\n",
    "\n",
    "While these features sound promising, constructing word embeddings requires a very large amount of data (you need to see `\"Pittsburgh\"` and `\"Chicago\"` appear together in overlapping context enough times for the model to learn that they are similar). The algorithms to train word embedding models are unfortunately beyond the scope of this course, as they involve many machine learning theories we haven't covered.\n",
    "\n",
    "That said, there are many powerful pre-trained models that we can use. These models have been trained on huge amounts of data and encode a lot of information about the meanings of the words. The first pre-trained model we will use is one from the [SentenceTransformer library](https://github.com/UKPLab/sentence-transformers#getting-started) called `'distilbert-base-nli-stsb-mean-tokens'`. Once loaded, it can encode a collection of strings, yielding a matrix where each row is the vector embedding of one string.\n",
    "\n",
    "Run the following cell to see the model in action. Note that the first time you do so, it may take some time to download the model. Also note that the embedding matrix is a dense NumPy matrix, rather than a sparse Scipy matrix like what TF-IDF outputs."
   ]
  },
  {
   "cell_type": "code",
   "execution_count": 23,
   "metadata": {
    "tags": [
     "excluded_from_script"
    ]
   },
   "outputs": [
    {
     "name": "stdout",
     "output_type": "stream",
     "text": [
      "(3, 768)\n",
      "[[-0.21486165  0.395723    0.469087   ... -0.23119043 -0.4957917\n",
      "   0.42366374]\n",
      " [-0.4400171  -0.28488502  0.23363815 ...  0.11956113 -0.16530254\n",
      "  -0.0862514 ]\n",
      " [-0.29504815 -0.24928899 -0.02407092 ...  0.1194457   0.00626569\n",
      "   1.0400687 ]]\n"
     ]
    }
   ],
   "source": [
    "sent_transformer = SentenceTransformer('distilbert-base-nli-stsb-mean-tokens')\n",
    "embedding = sent_transformer.encode([\n",
    "    'This framework generates embeddings for each input sentence',\n",
    "    'Sentences are passed as a list of string.', \n",
    "    'The quick brown fox jumps over the lazy dog.'\n",
    "])\n",
    "print(embedding.shape)\n",
    "print(embedding)"
   ]
  },
  {
   "cell_type": "markdown",
   "metadata": {},
   "source": [
    "### Question 3: Sent2vec Encoders\n",
    "Here we will follow roughly the same procedure as in the previous question: first convert the questions and context sentences into vectors using `sent_transformer`, then identify the context sentence whose vector representation is closest in Euclidean distance to that of the input question. However, one important caveat is that encoding the questions and context sentences with `sent_transformer` takes a lot longer (as much as 10 times longer) than with `tfidf_vectorizer`, because this encoding is actually the forward pass through a pre-trained neural network. To address this issue, we recommend the following outline for your implementation:\n",
    "\n",
    "1. Construct a mapping from each unique question / context sentence to its vector encoding.\n",
    "1. Use this mapping to compute the vector representation of every question / context sentence in the dataset.\n",
    "1. Compute the Euclidean distances between the questions and context sentences to identify the answer sentence index for each question.\n",
    "\n",
    "The key idea is that there are some duplicate questions and many duplicate context sentences (since several questions share the same context paragraph), so you want to store the encoding of each unique question / context sentence to avoid recomputing them several times. This same idea also applies to Question 2, although repeated computations are not as big of an issue there since TF-IDF transformations are fast.\n",
    "\n",
    "Implement the function `get_sent2vec_prediction` that performs the above steps on the dataset `df_squad`. For every row, it stores the predicted answer sentence index in a new column `\"sent2vec_prediction\"`, and the corresponding smallest Euclidean distance value in a new column `\"distance_value\"`.\n",
    "\n",
    "**Notes**:\n",
    "* When working with only the values of a Series (e.g., a dataframe column) and you do not care about its name or indices, calling the `.values` attribute to convert it to a NumPy array may provide some speed-up.\n",
    "* If multiple context sentences have the same (smallest) distance value from the question, return the smallest sentence index.\n",
    "* You should encode the entire set of unique questions / context sentences at once, rather then encoding each of them individually in a loop. Due to the encoder's internal implementation, you will get different embedding results if you encode each question / context sentence individually.\n",
    "* Be careful when dealing with nested NumPy arrays. If you get a NumPy array that contains other NumPy arrays, you can use `np.stack` to turn it to a normal multi-dimensional array (otherwise it will be treated as a 1D array of pointers to other arrays)."
   ]
  },
  {
   "cell_type": "code",
   "execution_count": 24,
   "metadata": {},
   "outputs": [],
   "source": [
    "def encode_sentences(sentences, encoder):\n",
    "    embeddings = encoder.encode(sentences)\n",
    "    return {sentence: embedding for sentence, embedding in zip(sentences, embeddings)}\n",
    "\n",
    "def np_euclidean_distance(X, Y, df_squad_copy):\n",
    "    distances = np.zeros(X.shape[0], dtype=np.float64)\n",
    "    min_distance_indexes = np.zeros(X.shape[0], dtype=np.int32)\n",
    "    for i in range(X.shape[0]):\n",
    "        filtered_Y = Y[df_squad_copy[\"id\"]==i]\n",
    "        norms = np.zeros(filtered_Y.shape[0], dtype=np.float64)\n",
    "        for ind, y in enumerate(filtered_Y):\n",
    "            norms[ind] = np.linalg.norm(X[i] - y)\n",
    "\n",
    "        min_ind = np.argmin(norms)\n",
    "        distances[i] = norms[min_ind]\n",
    "        min_distance_indexes[i] = min_ind\n",
    "\n",
    "    return distances, min_distance_indexes\n",
    "\n",
    "def get_sent2vec_prediction(df_squad, encoder):\n",
    "    \"\"\"\n",
    "    Identify the answer sentence as one whose Sent2vec representation has minimal distance to that of the question.\n",
    "    \n",
    "    args:\n",
    "        df_squad (pd.DataFrame) : a copy of the SQuAD dataset\n",
    "        encoder (SentenceTransformer) :\n",
    "            the Sent2vec encoder used to transform questions and sentences into their word embeddings\n",
    "        \n",
    "    returns: Tuple(question_embeddings, context_embeddings, df_sent2vec)\n",
    "        question_embeddings (Dict[str, np.ndarray]) :\n",
    "            a mapping between each unique question and its Sent2vec embedding\n",
    "        context_embeddings (Dict[str, np.ndarray]) :\n",
    "            a mapping between each unique context sentence and its Sent2vec embedding\n",
    "        df_sent2vec (pd.DataFrame) :\n",
    "            the input dataframe with two additional columns, \"sent2vec_prediction\" and \"distance_value\"\n",
    "    \"\"\"\n",
    "    question_embeddings = {}\n",
    "    context_embeddings = {}\n",
    "    df_squad['question_id'] = df_squad.index\n",
    "    df_squad_copy = df_squad.explode('context_sentences')\n",
    "    \n",
    "    for idx, row in df_squad_copy.iterrows():\n",
    "        q_id = row['question_id']\n",
    "        q_text = row['question']\n",
    "        c_text = row['context_sentences']\n",
    "      \n",
    "        if q_text not in question_embeddings:\n",
    "            question_embeddings[q_text] = q_text\n",
    "\n",
    "        if c_text not in context_embeddings:\n",
    "            context_embeddings[c_text] = c_text\n",
    "    \n",
    "    question_embeddings = encode_sentences(list(question_embeddings.values()), encoder)\n",
    "    context_embeddings = encode_sentences(list(context_embeddings.values()), encoder)\n",
    "    \n",
    "    distances = []\n",
    "    min_indexes = []\n",
    "    for idx, row in df_squad.iterrows():\n",
    "        q_id = row['question_id']\n",
    "        q_text = row['question']\n",
    "        \n",
    "        c_text_list = df_squad_copy[df_squad_copy[\"question_id\"]==q_id]['context_sentences']\n",
    "        norms = np.zeros(c_text_list.shape[0], dtype=np.float64)\n",
    "        q_embedding = question_embeddings[q_text]\n",
    "        for ind, c_text in enumerate(c_text_list):\n",
    "            c_embedding = context_embeddings[c_text]\n",
    "            norms[ind] = np.linalg.norm(q_embedding - c_embedding)\n",
    "\n",
    "        min_index = np.argmin(norms)\n",
    "        distances.append(norms[min_index])\n",
    "        min_indexes.append(min_index)\n",
    "        \n",
    "\n",
    "    \n",
    "    df_sent2vec = df_squad.copy()\n",
    "    df_sent2vec['sent2vec_prediction'] = min_indexes\n",
    "    df_sent2vec['distance_value'] = distances\n",
    "    return question_embeddings, context_embeddings, df_sent2vec"
   ]
  },
  {
   "cell_type": "code",
   "execution_count": 112,
   "metadata": {
    "tags": [
     "excluded_from_script"
    ]
   },
   "outputs": [
    {
     "name": "stdout",
     "output_type": "stream",
     "text": [
      "('Beyoncé Giselle Knowles-Carter (/biːˈjɒnseɪ/ bee-YON-say) (born September 4, 1981) is an American singer, songwriter, record producer and actress.', array([-0.24805641,  0.20478271,  0.19086157, -0.12463253,  0.05259079,\n",
      "        0.11522473,  0.4996784 ,  0.21356966, -0.6957434 ,  0.82723707,\n",
      "        0.04887048,  0.85088307, -0.10093276,  0.30218396, -0.43054464,\n",
      "       -0.3384794 , -0.14326866, -0.69582444,  0.5204662 , -0.12149618,\n",
      "        1.1398077 ,  0.3896157 ,  0.65049285,  0.22858167,  0.41144606,\n",
      "       -0.4606142 , -0.54546285, -0.20729576, -0.07678653, -0.15446976,\n",
      "        0.19700187,  0.41138193, -0.03102243,  0.33958694,  0.02686436,\n",
      "        0.8576672 , -0.48134816,  0.09965491,  0.0280837 , -0.555686  ,\n",
      "       -0.16650306, -0.6773592 ,  0.13851304,  0.32370898,  0.36658695,\n",
      "        0.35975432, -0.05355458,  0.22257382,  0.09504988, -0.27131653,\n",
      "       -0.6825185 , -0.114786  , -0.801149  , -0.3122289 ,  0.4406761 ,\n",
      "        0.33042803, -0.08285239, -0.83385944,  0.7988174 , -0.1439758 ,\n",
      "       -0.5232734 ,  0.6397297 ,  0.6930761 ,  0.17964196, -0.4229909 ,\n",
      "       -0.6094647 ,  0.05727545, -0.12970012, -1.3257213 ,  0.12238478,\n",
      "       -0.6555015 ,  0.60221606,  0.608194  , -0.42108145, -0.41724023,\n",
      "        0.09769665, -0.13370737, -0.96883106,  0.75834143,  0.11492277,\n",
      "        1.0031071 , -0.37952223,  0.7422621 ,  0.01654832,  0.24040714,\n",
      "        0.18520579,  0.13707706, -0.32323453,  0.13341111,  0.5819755 ,\n",
      "       -0.04380986,  0.0124841 , -0.23161902,  0.3373254 , -0.3658722 ,\n",
      "        0.38851804,  0.39474374, -1.271084  ,  0.29873917,  0.14353378,\n",
      "       -0.5522552 ,  0.62426704, -0.77544695, -0.8951305 , -0.7452322 ,\n",
      "        0.3293436 , -0.5260284 ,  1.2790605 , -0.4756325 ,  0.6136118 ,\n",
      "        0.4166393 ,  0.52008027, -0.8654222 ,  0.64165056,  0.24830092,\n",
      "        0.09673408,  0.11400435,  0.6922743 ,  0.50199604,  0.21050592,\n",
      "        0.36984608, -0.24611944,  0.73166937, -0.26225778,  0.48494866,\n",
      "        0.57053685, -0.01240153, -0.6124197 ,  1.037819  ,  0.4524851 ,\n",
      "       -0.04857211, -0.48696452,  0.47007135,  0.56566817, -0.00544346,\n",
      "       -0.09377275, -0.26800126,  0.14456648,  0.8394257 ,  0.12296645,\n",
      "       -0.6704992 , -0.38674477, -0.08621796, -0.41983032,  0.8415687 ,\n",
      "       -0.26780024, -0.88119596,  0.657881  , -0.11745289,  0.7091226 ,\n",
      "       -0.00637755, -0.05252512,  0.3807452 , -1.0035387 , -0.72647893,\n",
      "        0.01979912,  0.5299107 , -0.12048995,  0.1126031 , -0.33526468,\n",
      "       -0.2320829 ,  0.6958708 ,  1.343224  ,  0.5405735 , -1.236152  ,\n",
      "       -0.0184545 , -0.32607815, -0.16919564, -0.01369066, -0.21470252,\n",
      "        0.52794445, -0.11057081, -0.270946  , -0.2497934 , -0.4717329 ,\n",
      "        0.47688484,  0.66870826,  0.6011929 ,  0.19060898, -0.375893  ,\n",
      "        0.7556328 ,  1.0330738 ,  0.60651946, -0.05368302, -0.14059877,\n",
      "        0.03510369,  0.1165463 , -0.14025916, -0.89986366,  0.44539967,\n",
      "       -0.06006228,  0.32860783, -0.03663721,  0.64001423, -0.5193101 ,\n",
      "       -0.0701078 , -0.3348106 ,  0.5051039 , -0.6251261 , -0.10024314,\n",
      "       -0.12123552, -0.9693855 , -0.2781581 , -0.30271184, -0.57136893,\n",
      "       -0.2534461 ,  0.90916157,  0.43509462, -0.5069945 , -0.11148637,\n",
      "        0.35784245, -0.08967475, -0.00404988, -0.14082065, -0.09497242,\n",
      "        0.6493942 , -1.0852951 , -0.05626355, -0.40260142,  0.30542475,\n",
      "       -0.23606792,  0.1499486 ,  0.04287161, -1.2832371 , -0.12295996,\n",
      "        0.02086901,  0.06085518,  0.10455593, -0.21473056,  0.09983528,\n",
      "        0.02476835, -0.33604366, -0.0836134 , -0.6192633 ,  0.6631039 ,\n",
      "       -0.19963492,  0.13055377, -0.16504101, -0.24850346, -0.63831735,\n",
      "       -0.35650823, -0.61111647, -0.37288573, -0.08294408, -0.97711164,\n",
      "        0.10288385, -0.07584445, -0.11671016,  0.77450985, -0.92258054,\n",
      "        0.07832902, -0.25388736,  0.04584282,  0.8552706 ,  0.6869005 ,\n",
      "        0.07895081,  0.23209353, -0.11786976,  0.44229367,  1.5257694 ,\n",
      "        0.44527274,  0.4046819 ,  0.3831292 ,  0.16430019,  0.28525925,\n",
      "        0.6454783 ,  0.23483036,  0.40492818, -0.021561  , -0.7149734 ,\n",
      "        0.31606486, -0.28387088, -0.53956544,  0.5662319 , -0.4741197 ,\n",
      "       -0.1378567 ,  0.04348656, -0.5200429 , -0.03414281, -0.14727493,\n",
      "        0.17973565,  0.5897036 , -0.2812247 , -0.45261142, -0.25445977,\n",
      "        0.9357969 , -0.3734029 , -0.39862746,  0.2673774 , -0.84435964,\n",
      "       -0.07214522,  0.3016796 , -0.7911116 , -0.15018032,  0.19869208,\n",
      "       -0.33512592,  0.0396343 ,  0.6047945 , -1.232957  ,  0.9378407 ,\n",
      "       -0.24303079,  1.1364251 ,  0.2789294 ,  0.45801756,  0.5165738 ,\n",
      "        0.36303946,  0.6466278 ,  0.10491889,  0.4527692 ,  0.19919983,\n",
      "        0.44490334, -1.0464035 ,  0.14328076, -0.46453142, -0.1029737 ,\n",
      "        0.3417304 ,  0.98193014, -0.5858862 ,  0.8962503 ,  1.0645181 ,\n",
      "       -1.5814995 , -0.09076126, -0.02412209, -0.01514526, -0.6530594 ,\n",
      "        0.46562994,  0.08689792,  0.11213216,  0.00475928, -0.42840853,\n",
      "       -0.03995596, -0.42457905,  0.21189672, -1.5144585 ,  0.14124733,\n",
      "       -0.6777521 ,  0.52396226,  0.30790743, -0.04694781, -0.43039408,\n",
      "       -0.36086738,  0.19474243,  0.1128053 ,  0.25599214, -0.72260857,\n",
      "       -0.28215548,  0.51515776, -0.28377333,  0.13404197,  0.43870202,\n",
      "        0.27000716, -0.4555925 , -0.4573882 , -0.11112876, -0.54064155,\n",
      "        0.20090346, -0.12629277,  0.7756339 , -0.08196447, -0.24703836,\n",
      "        0.21892992, -1.2188052 , -0.2500157 , -0.57815224,  0.30954215,\n",
      "        0.04718674, -0.26091436,  0.42060944,  0.24096432, -0.4667947 ,\n",
      "        0.57160383, -0.19804019, -0.3494294 , -0.69707006, -0.27652013,\n",
      "        0.78190494,  0.17929007, -0.579479  ,  1.0963248 ,  0.11790536,\n",
      "       -1.7139726 , -0.8758499 , -0.05445451,  0.47425973,  0.60501504,\n",
      "        0.2666942 , -0.67892206,  0.29180205,  0.42636082, -0.45085517,\n",
      "        0.6184434 , -0.12393365,  1.1733277 , -0.02939433, -0.30708173,\n",
      "       -0.42366725,  0.10901706, -0.05638983, -0.09570343, -0.62267655,\n",
      "       -0.4499634 ,  0.40921792,  0.2504002 , -0.11549683,  0.3430687 ,\n",
      "       -0.21660787,  0.02967607, -0.4290593 , -0.7416998 ,  0.33869413,\n",
      "       -0.29637757,  0.3071636 , -0.6630516 , -0.37397814, -0.77343786,\n",
      "        0.06375248, -0.206766  , -0.03656651,  0.21186319, -0.02230079,\n",
      "        0.02291101, -1.0219641 ,  0.64194196,  0.28392658, -0.31664592,\n",
      "       -0.1468875 , -0.3576877 , -0.05899161, -0.64236075, -0.22892432,\n",
      "        0.10587044, -0.31444067,  0.46710423, -0.57363695,  0.28163764,\n",
      "        0.99798816, -0.6697046 ,  0.46054107, -0.41606694, -0.28814575,\n",
      "        0.55947375, -0.89988047, -0.3466853 , -0.9802105 ,  0.8034696 ,\n",
      "       -0.0920955 , -0.09393129, -0.2184332 ,  0.02620972, -0.31348774,\n",
      "       -0.836874  ,  0.25599405,  1.0780938 ,  0.31044948,  0.11787277,\n",
      "       -0.02268953, -0.4929507 , -1.2142887 , -0.31342193,  0.4217844 ,\n",
      "        0.21685824,  0.18336993,  0.6702829 , -0.39986885, -0.07128164,\n",
      "       -0.07757843, -0.47474182, -0.8020232 ,  0.45089358, -0.3785888 ,\n",
      "       -0.19078684, -0.88304883,  0.6042225 ,  0.19338489,  0.64861494,\n",
      "       -0.02662359,  0.4468128 , -0.27204925,  0.6501556 , -0.6585956 ,\n",
      "        0.1322464 ,  0.11861145, -1.2753165 ,  0.48650292,  0.75574964,\n",
      "       -0.20427383,  1.1672375 ,  0.20866372,  0.4069455 ,  0.2175865 ,\n",
      "        0.418542  ,  0.15282695, -0.11482797,  0.18446618, -0.46409443,\n",
      "       -0.0985511 , -0.43377247,  0.5845131 ,  0.07705209, -0.00627231,\n",
      "       -0.11003774,  0.25571963,  0.31682113, -0.9859877 ,  0.07245725,\n",
      "        0.4693429 ,  0.50367254,  0.36589822, -0.8894673 ,  0.5994211 ,\n",
      "       -0.22005992,  0.42848995,  0.5401053 , -0.32159343, -0.1387374 ,\n",
      "        0.39999816, -0.87741286, -0.72425956,  0.2153303 , -0.7586003 ,\n",
      "        0.56008476,  0.05430405,  0.19894479, -0.17378257, -0.15539111,\n",
      "       -0.15689991, -0.12493574, -0.09716673,  0.00895313, -0.28262135,\n",
      "        0.9080757 , -0.0346911 , -0.20229457, -0.26280853,  0.08523477,\n",
      "        0.30451605, -0.46768314, -0.29136363, -0.23935558,  0.12006068,\n",
      "       -0.44993058,  0.20468454, -0.53281206, -0.69058263,  0.3416822 ,\n",
      "        0.35419372, -0.14999744, -0.8176596 , -0.58972126, -0.34949654,\n",
      "       -0.3221902 ,  0.18280886, -0.42740571, -0.49829236, -1.1602998 ,\n",
      "        0.12693024, -1.1001064 ,  0.4734993 ,  0.04260409, -0.12697296,\n",
      "        0.7206012 , -0.993722  ,  0.2603923 , -0.20946528, -0.5638901 ,\n",
      "        0.20020613, -0.06239693,  0.18575555,  0.08229579, -0.20760657,\n",
      "        0.16934036, -0.86961955,  0.02985204, -0.25406414, -0.21402936,\n",
      "        0.03436447,  0.21410757, -0.6176259 , -0.13149634, -0.93565786,\n",
      "       -0.35439202, -0.01379399, -0.08409446,  0.2552751 ,  0.46310303,\n",
      "       -0.46633846,  0.24593514, -0.00673841,  0.59938943,  0.06388365,\n",
      "       -0.36398727,  0.2344643 ,  0.03639623,  0.02224759,  0.73479915,\n",
      "        0.58276385,  0.43856737, -0.13517608,  0.3520393 ,  0.6337035 ,\n",
      "       -0.498621  ,  0.06625465, -0.6256155 , -0.6118824 , -0.00721548,\n",
      "       -0.21136743,  0.11429615,  0.17116047, -0.55080897, -0.35158265,\n",
      "       -0.23409685, -0.20028114, -0.10591917, -0.835458  ,  0.10621121,\n",
      "       -0.07022036,  0.2711914 , -0.4788704 , -0.5366927 ,  1.0224519 ,\n",
      "        0.34996176, -0.6019051 , -0.5218991 ,  0.30856666,  0.23664702,\n",
      "       -0.28159115, -0.26937386,  0.11198762,  0.04811222, -0.07137173,\n",
      "        0.24269553,  0.3852739 , -0.1282841 ,  0.16744763,  0.47336352,\n",
      "       -0.38152084, -0.63618565, -0.03165811,  1.9621468 , -0.4045272 ,\n",
      "       -0.12447058,  0.22383952,  1.4816226 ,  0.30797872,  1.0812179 ,\n",
      "       -1.1148669 , -0.8190513 ,  0.16017114, -0.00554749, -0.06163419,\n",
      "        0.17438932,  0.86889035, -1.6109515 ,  0.09571314, -0.6334244 ,\n",
      "        0.8133784 , -0.4980628 , -0.94692403, -0.035758  , -0.8117279 ,\n",
      "       -0.31002071, -1.1355573 ,  0.37593824,  0.18080376, -0.24521433,\n",
      "        0.15058306, -0.8695663 , -0.3261368 , -0.8954173 , -0.57220095,\n",
      "       -0.18884028,  0.5365531 , -0.4821499 ,  0.4214638 , -0.0480986 ,\n",
      "        0.15845555,  0.36693385,  0.35378942,  0.05098313, -0.1285328 ,\n",
      "       -0.04890928, -0.13625804,  0.01472339, -0.23312968,  0.13134588,\n",
      "       -0.6048286 , -0.18856725, -0.52081096,  1.135063  , -0.9869898 ,\n",
      "        0.04444312,  0.43206117,  0.5604816 ,  0.07546837, -0.17634672,\n",
      "        0.42564544,  0.17699078,  0.22162056, -0.4579334 , -0.10745445,\n",
      "        1.0015372 , -0.23236309, -0.6342666 ,  1.2669328 ,  0.22557145,\n",
      "        0.6429258 ,  0.5740939 , -0.7139481 ,  0.31998956,  0.20800552,\n",
      "       -1.2138216 , -0.41033447,  0.27441418,  0.32648957, -0.1407773 ,\n",
      "        0.34444094, -0.44465238,  0.32295293, -1.6326102 , -0.24952602,\n",
      "       -0.61479014,  0.21234016,  0.09422209, -0.10798788,  0.13049962,\n",
      "        0.7557964 ,  0.02208133, -0.40823144, -0.9323587 ,  0.33190745,\n",
      "        0.14839338, -0.24168545,  0.4872857 ,  0.6882686 , -0.32340828,\n",
      "        0.31451842, -0.13604738, -0.18703409, -0.3362878 ,  0.5400588 ,\n",
      "       -0.2938235 ,  0.13515119, -0.37873533,  0.13729568,  0.1410442 ,\n",
      "        0.36435178,  1.0758774 ,  0.9533201 , -0.29651573,  0.87368464,\n",
      "        0.10686037, -1.3402038 ,  0.20852675,  0.4378422 , -0.13240433,\n",
      "       -0.01518654,  0.04056976, -0.14283739, -0.9551777 , -1.0537307 ,\n",
      "       -1.0964154 ,  0.17424835,  0.14948358, -0.8191828 ,  0.6875525 ,\n",
      "        0.45717096, -0.09913509, -0.8230662 ], dtype=float32))\n",
      "('Beyoncé Giselle Knowles-Carter (/biːˈjɒnseɪ/ bee-YON-say) (born September 4, 1981) is an American singer, songwriter, record producer and actress.', array([-0.24805689,  0.20478247,  0.19086133, -0.12463161,  0.0525904 ,\n",
      "        0.11522401,  0.4996786 ,  0.21356949, -0.6957428 ,  0.8272368 ,\n",
      "        0.0488708 ,  0.8508829 , -0.10093234,  0.30218318, -0.43054456,\n",
      "       -0.33847916, -0.14326897, -0.695824  ,  0.520467  , -0.12149616,\n",
      "        1.1398082 ,  0.3896161 ,  0.6504925 ,  0.22858115,  0.4114462 ,\n",
      "       -0.46061468, -0.5454633 , -0.20729588, -0.07678687, -0.1544701 ,\n",
      "        0.1970018 ,  0.41138238, -0.03102153,  0.33958694,  0.02686471,\n",
      "        0.8576668 , -0.481348  ,  0.09965472,  0.02808347, -0.55568624,\n",
      "       -0.16650385, -0.6773594 ,  0.1385128 ,  0.32370907,  0.36658713,\n",
      "        0.3597543 , -0.05355468,  0.22257428,  0.09504988, -0.27131635,\n",
      "       -0.68251854, -0.11478622, -0.80114883, -0.3122295 ,  0.44067535,\n",
      "        0.33042812, -0.0828523 , -0.8338592 ,  0.79881704, -0.1439764 ,\n",
      "       -0.5232735 ,  0.63972914,  0.6930761 ,  0.17964199, -0.42299062,\n",
      "       -0.6094649 ,  0.05727584, -0.12970033, -1.3257216 ,  0.12238467,\n",
      "       -0.6555014 ,  0.602216  ,  0.60819405, -0.4210812 , -0.41723984,\n",
      "        0.09769678, -0.13370709, -0.9688316 ,  0.75834155,  0.11492264,\n",
      "        1.0031064 , -0.37952277,  0.74226195,  0.0165484 ,  0.24040675,\n",
      "        0.18520556,  0.13707712, -0.32323468,  0.13341093,  0.5819749 ,\n",
      "       -0.04380989,  0.01248396, -0.23161854,  0.33732548, -0.3658722 ,\n",
      "        0.38851836,  0.39474356, -1.2710847 ,  0.2987394 ,  0.1435338 ,\n",
      "       -0.55225563,  0.62426686, -0.7754476 , -0.8951301 , -0.7452324 ,\n",
      "        0.329344  , -0.52602905,  1.2790606 , -0.47563255,  0.6136125 ,\n",
      "        0.41663894,  0.5200799 , -0.8654222 ,  0.6416506 ,  0.24830107,\n",
      "        0.09673483,  0.11400419,  0.69227403,  0.5019961 ,  0.21050529,\n",
      "        0.36984634, -0.24611926,  0.73166907, -0.26225817,  0.48494843,\n",
      "        0.57053643, -0.01240134, -0.61241937,  1.0378197 ,  0.4524849 ,\n",
      "       -0.04857219, -0.4869645 ,  0.47007143,  0.56566817, -0.0054435 ,\n",
      "       -0.09377337, -0.2680014 ,  0.14456625,  0.8394257 ,  0.12296683,\n",
      "       -0.6704988 , -0.38674486, -0.08621795, -0.41982937,  0.84156895,\n",
      "       -0.26779935, -0.8811958 ,  0.6578813 , -0.117453  ,  0.7091224 ,\n",
      "       -0.00637767, -0.05252508,  0.38074544, -1.0035385 , -0.72647876,\n",
      "        0.01979938,  0.5299105 , -0.12048966,  0.11260312, -0.33526492,\n",
      "       -0.23208295,  0.69587076,  1.3432244 ,  0.5405727 , -1.2361522 ,\n",
      "       -0.01845424, -0.32607815, -0.16919538, -0.01369091, -0.21470279,\n",
      "        0.527944  , -0.11057083, -0.27094632, -0.24979272, -0.47173244,\n",
      "        0.47688487,  0.6687084 ,  0.6011931 ,  0.19060968, -0.37589285,\n",
      "        0.7556333 ,  1.0330739 ,  0.6065195 , -0.05368277, -0.14059864,\n",
      "        0.03510343,  0.11654606, -0.1402592 , -0.8998633 ,  0.44539997,\n",
      "       -0.06006199,  0.32860819, -0.0366373 ,  0.6400143 , -0.5193101 ,\n",
      "       -0.07010773, -0.33481032,  0.50510335, -0.6251259 , -0.10024306,\n",
      "       -0.1212355 , -0.9693853 , -0.27815807, -0.30271184, -0.5713694 ,\n",
      "       -0.25344574,  0.9091615 ,  0.43509465, -0.5069942 , -0.11148635,\n",
      "        0.3578427 , -0.08967444, -0.00404988, -0.14082056, -0.09497257,\n",
      "        0.64939445, -1.085295  , -0.05626353, -0.40260127,  0.30542436,\n",
      "       -0.23606747,  0.14994842,  0.04287201, -1.2832376 , -0.12296016,\n",
      "        0.02086934,  0.06085556,  0.10455536, -0.21473104,  0.09983554,\n",
      "        0.02476799, -0.3360438 , -0.08361273, -0.61926305,  0.6631034 ,\n",
      "       -0.19963449,  0.13055314, -0.16504121, -0.24850377, -0.6383169 ,\n",
      "       -0.35650787, -0.61111563, -0.37288544, -0.08294448, -0.9771118 ,\n",
      "        0.10288373, -0.07584469, -0.1167096 ,  0.77451015, -0.92258054,\n",
      "        0.07832911, -0.25388733,  0.04584304,  0.85527045,  0.6868998 ,\n",
      "        0.07895174,  0.23209338, -0.11786979,  0.44229457,  1.5257694 ,\n",
      "        0.4452729 ,  0.40468195,  0.3831292 ,  0.16430052,  0.28525954,\n",
      "        0.64547783,  0.23483005,  0.40492857, -0.0215609 , -0.7149735 ,\n",
      "        0.31606472, -0.28387135, -0.53956527,  0.56623244, -0.47411892,\n",
      "       -0.13785699,  0.04348642, -0.520043  , -0.0341424 , -0.147275  ,\n",
      "        0.1797366 ,  0.58970356, -0.28122458, -0.45261163, -0.25446075,\n",
      "        0.935797  , -0.3734032 , -0.39862692,  0.26737732, -0.8443601 ,\n",
      "       -0.07214498,  0.30167902, -0.7911119 , -0.15018052,  0.19869204,\n",
      "       -0.33512595,  0.03963476,  0.6047941 , -1.2329577 ,  0.9378409 ,\n",
      "       -0.2430307 ,  1.1364249 ,  0.2789292 ,  0.45801762,  0.5165741 ,\n",
      "        0.36303997,  0.64662725,  0.10491881,  0.45276883,  0.19920026,\n",
      "        0.44490328, -1.0464047 ,  0.14328064, -0.4645314 , -0.10297325,\n",
      "        0.34173077,  0.9819298 , -0.58588594,  0.8962501 ,  1.0645185 ,\n",
      "       -1.5814992 , -0.09076165, -0.02412197, -0.01514546, -0.65305907,\n",
      "        0.46562976,  0.08689816,  0.1121322 ,  0.0047594 , -0.42840794,\n",
      "       -0.03995605, -0.42457885,  0.21189684, -1.5144577 ,  0.14124726,\n",
      "       -0.6777521 ,  0.52396166,  0.3079072 , -0.04694767, -0.43039408,\n",
      "       -0.36086747,  0.1947425 ,  0.11280536,  0.25599205, -0.7226086 ,\n",
      "       -0.28215602,  0.5151582 , -0.28377277,  0.13404262,  0.43870172,\n",
      "        0.27000687, -0.4555918 , -0.4573887 , -0.1111285 , -0.5406423 ,\n",
      "        0.20090355, -0.12629353,  0.7756339 , -0.08196442, -0.2470386 ,\n",
      "        0.2189294 , -1.2188058 , -0.2500163 , -0.57815194,  0.30954188,\n",
      "        0.04718669, -0.260915  ,  0.42060944,  0.24096435, -0.46679428,\n",
      "        0.5716039 , -0.19804019, -0.34942833, -0.6970706 , -0.27651995,\n",
      "        0.7819044 ,  0.17929006, -0.57947886,  1.0963254 ,  0.11790533,\n",
      "       -1.7139726 , -0.8758503 , -0.05445417,  0.47425964,  0.60501486,\n",
      "        0.26669416, -0.6789216 ,  0.29180136,  0.42636043, -0.45085466,\n",
      "        0.61844355, -0.12393364,  1.1733273 , -0.02939444, -0.30708173,\n",
      "       -0.42366725,  0.10901696, -0.05638951, -0.09570251, -0.6226763 ,\n",
      "       -0.4499631 ,  0.40921772,  0.25040036, -0.11549716,  0.34306893,\n",
      "       -0.21660753,  0.02967619, -0.42905954, -0.7416992 ,  0.33869383,\n",
      "       -0.2963773 ,  0.30716345, -0.66305214, -0.37397778, -0.7734382 ,\n",
      "        0.06375245, -0.2067663 , -0.0365667 ,  0.21186382, -0.02230088,\n",
      "        0.02291119, -1.0219641 ,  0.64194196,  0.28392637, -0.31664595,\n",
      "       -0.14688829, -0.35768792, -0.05899144, -0.6423609 , -0.2289245 ,\n",
      "        0.1058704 , -0.31444022,  0.4671048 , -0.5736367 ,  0.28163818,\n",
      "        0.9979878 , -0.6697047 ,  0.46054122, -0.41606686, -0.28814632,\n",
      "        0.5594733 , -0.89988065, -0.34668463, -0.9802107 ,  0.80346906,\n",
      "       -0.09209576, -0.09393158, -0.21843316,  0.02620943, -0.31348857,\n",
      "       -0.836874  ,  0.25599468,  1.0780944 ,  0.3104494 ,  0.11787236,\n",
      "       -0.02269014, -0.49295035, -1.2142882 , -0.3134221 ,  0.42178375,\n",
      "        0.21685795,  0.18336979,  0.670283  , -0.39986846, -0.0712808 ,\n",
      "       -0.07757845, -0.47474244, -0.802023  ,  0.4508933 , -0.37858865,\n",
      "       -0.1907868 , -0.8830484 ,  0.60422283,  0.19338456,  0.6486148 ,\n",
      "       -0.02662349,  0.44681308, -0.27204922,  0.6501553 , -0.6585955 ,\n",
      "        0.13224682,  0.11861138, -1.2753166 ,  0.48650196,  0.7557503 ,\n",
      "       -0.20427383,  1.1672379 ,  0.208664  ,  0.40694514,  0.21758589,\n",
      "        0.4185416 ,  0.15282701, -0.11482745,  0.18446602, -0.46409425,\n",
      "       -0.09855136, -0.43377268,  0.5845132 ,  0.07705201, -0.00627291,\n",
      "       -0.11003802,  0.25571963,  0.31682023, -0.9859881 ,  0.07245708,\n",
      "        0.46934363,  0.50367284,  0.3658986 , -0.889467  ,  0.5994208 ,\n",
      "       -0.22005898,  0.4284902 ,  0.540106  , -0.32159382, -0.13873711,\n",
      "        0.39999858, -0.87741244, -0.7242597 ,  0.21533008, -0.7586004 ,\n",
      "        0.56008536,  0.05430421,  0.19894528, -0.17378269, -0.15539092,\n",
      "       -0.15690054, -0.12493591, -0.09716645,  0.00895298, -0.28262132,\n",
      "        0.90807515, -0.03469152, -0.20229465, -0.26280874,  0.08523475,\n",
      "        0.3045161 , -0.467684  , -0.29136357, -0.23935542,  0.12006103,\n",
      "       -0.4499304 ,  0.20468467, -0.53281265, -0.69058263,  0.34168184,\n",
      "        0.35419372, -0.14999694, -0.8176604 , -0.5897216 , -0.34949696,\n",
      "       -0.32219017,  0.18280835, -0.42740604, -0.4982931 , -1.1603    ,\n",
      "        0.12692976, -1.1001052 ,  0.47349966,  0.04260394, -0.12697303,\n",
      "        0.720601  , -0.9937217 ,  0.2603927 , -0.20946527, -0.56389034,\n",
      "        0.20020632, -0.06239654,  0.18575586,  0.08229573, -0.20760657,\n",
      "        0.1693406 , -0.8696197 ,  0.02985248, -0.254064  , -0.21402913,\n",
      "        0.03436447,  0.21410723, -0.617626  , -0.1314962 , -0.93565804,\n",
      "       -0.35439187, -0.01379448, -0.08409481,  0.25527492,  0.46310294,\n",
      "       -0.466339  ,  0.24593458, -0.00673845,  0.5993895 ,  0.06388393,\n",
      "       -0.363987  ,  0.23446393,  0.03639621,  0.02224765,  0.73479897,\n",
      "        0.5827633 ,  0.4385676 , -0.1351754 ,  0.35203823,  0.6337036 ,\n",
      "       -0.49862072,  0.06625444, -0.6256155 , -0.6118824 , -0.00721562,\n",
      "       -0.21136726,  0.11429626,  0.17116049, -0.5508085 , -0.35158348,\n",
      "       -0.23409681, -0.20028132, -0.10591908, -0.83545804,  0.10621125,\n",
      "       -0.070221  ,  0.27119145, -0.47887066, -0.5366934 ,  1.0224518 ,\n",
      "        0.3499612 , -0.6019052 , -0.5218991 ,  0.3085666 ,  0.23664688,\n",
      "       -0.28159115, -0.26937363,  0.11198821,  0.04811257, -0.07137143,\n",
      "        0.24269515,  0.38527414, -0.12828428,  0.16744755,  0.47336528,\n",
      "       -0.38152114, -0.63618493, -0.03165759,  1.9621475 , -0.40452737,\n",
      "       -0.12447006,  0.2238395 ,  1.4816223 ,  0.30797797,  1.0812176 ,\n",
      "       -1.1148664 , -0.819052  ,  0.16017094, -0.00554731, -0.06163486,\n",
      "        0.17438935,  0.86888987, -1.6109517 ,  0.09571294, -0.63342404,\n",
      "        0.8133784 , -0.49806273, -0.9469236 , -0.03575796, -0.8117271 ,\n",
      "       -0.31002033, -1.135557  ,  0.37593833,  0.1808032 , -0.24521461,\n",
      "        0.15058285, -0.86956483, -0.3261374 , -0.89541715, -0.5722006 ,\n",
      "       -0.18884009,  0.5365533 , -0.48214978,  0.4214637 , -0.04809829,\n",
      "        0.15845536,  0.3669344 ,  0.35378993,  0.05098329, -0.12853312,\n",
      "       -0.04890891, -0.13625775,  0.0147236 , -0.2331298 ,  0.13134624,\n",
      "       -0.60482883, -0.1885672 , -0.52081054,  1.1350634 , -0.9869899 ,\n",
      "        0.04444259,  0.432061  ,  0.56048155,  0.07546813, -0.17634657,\n",
      "        0.42564505,  0.17699054,  0.22162019, -0.45793334, -0.10745442,\n",
      "        1.0015377 , -0.23236313, -0.63426626,  1.2669331 ,  0.22557133,\n",
      "        0.642926  ,  0.5740939 , -0.71394753,  0.31998956,  0.20800549,\n",
      "       -1.2138213 , -0.41033468,  0.2744138 ,  0.32648888, -0.14077774,\n",
      "        0.34444064, -0.444651  ,  0.3229532 , -1.6326102 , -0.24952556,\n",
      "       -0.61478984,  0.21234012,  0.0942221 , -0.10798814,  0.13049899,\n",
      "        0.75579643,  0.02208114, -0.40823153, -0.9323589 ,  0.33190688,\n",
      "        0.1483934 , -0.24168539,  0.48728588,  0.6882684 , -0.32340777,\n",
      "        0.31451902, -0.1360476 , -0.18703361, -0.33628783,  0.5400576 ,\n",
      "       -0.2938232 ,  0.13515092, -0.37873563,  0.13729522,  0.14104337,\n",
      "        0.36435163,  1.0758771 ,  0.9533205 , -0.29651508,  0.8736845 ,\n",
      "        0.10686041, -1.3402039 ,  0.2085267 ,  0.43784216, -0.13240458,\n",
      "       -0.01518652,  0.04057005, -0.14283769, -0.95517725, -1.0537306 ,\n",
      "       -1.096415  ,  0.1742484 ,  0.14948401, -0.81918204,  0.6875524 ,\n",
      "        0.45717156, -0.09913503, -0.82306653], dtype=float32))\n",
      "All tests passed!\n",
      "Saving the embedding to pickle files for later use ...\n",
      "Done!\n",
      "CPU times: user 3min 54s, sys: 4.69 s, total: 3min 59s\n",
      "Wall time: 3min 47s\n"
     ]
    }
   ],
   "source": [
    "def test_get_sent2vec_prediction():\n",
    "    \"\"\"Test on the first 10 rows\"\"\"\n",
    "    question_embeddings_map, context_embeddings_map, df_sent2vec = \\\n",
    "        get_sent2vec_prediction(df_squad.head(10).copy(), sent_transformer)\n",
    "    \n",
    "    question = 'When did Beyoncé rise to fame?'\n",
    "    check_approx(\n",
    "        question_embeddings_map[question][:10],\n",
    "            [-0.32787397503852844, -0.15557105839252472, 0.6588357090950012, -0.6630659699440002,\n",
    "             0.5884889960289001, -0.04990821331739426, 0.4931581914424896, 0.24734026193618774,\n",
    "             -0.278196781873703, 0.6030771732330322]\n",
    "    )\n",
    "    \n",
    "    question = 'In what city and state did Beyonce  grow up? '\n",
    "    check_approx(\n",
    "        question_embeddings_map[question][:10],\n",
    "            [-0.010077972896397114, -0.3763282299041748, 0.939608097076416, -0.580588161945343,\n",
    "             0.10827723145484924, 0.25717461109161377, 0.6128496527671814, 0.5031235814094543,\n",
    "             -0.4418582022190094, 0.4174884855747223]\n",
    "    )\n",
    "    \n",
    "    context = \"Born and raised in Houston, Texas, she performed in various singing and dancing competitions as a child, and rose to fame in the late 1990s as lead singer of R&B girl-group Destiny's Child.\"\n",
    "    check_approx(\n",
    "        context_embeddings_map[context][:10],\n",
    "            [-0.10903950035572052, -0.27940085530281067, 0.23572109639644623, 0.5180771946907043,\n",
    "             0.3553291857242584, 0.13151134550571442, 0.17776617407798767, -0.4766906797885895,\n",
    "             -0.09587486833333969, 0.9343098998069763]\n",
    "    )\n",
    "    \n",
    "    context = \"Managed by her father, Mathew Knowles, the group became one of the world's best-selling girl groups of all time.\"\n",
    "    check_approx(\n",
    "        context_embeddings_map[context][:10],\n",
    "            [-0.8026146292686462, 0.13804392516613007, 0.5916290283203125, 0.39244064688682556,\n",
    "             -0.2768344283103943, 0.46939727663993835, 0.41246476769447327, 0.300344318151474,\n",
    "             -1.0914496183395386, -0.1786373406648636]\n",
    "    )\n",
    "\n",
    "    check_approx(\n",
    "        df_sent2vec[\"distance_value\"],\n",
    "        [12.849681854248047, 13.180705070495605, 11.950621604919434, 13.039735794067383, 12.867680549621582,\n",
    "         13.494372367858887, 15.975934028625488, 17.264524459838867, 12.373725891113281, 12.654834747314453]\n",
    "    )\n",
    "    \n",
    "    \"\"\"Test on the full dataset\"\"\"\n",
    "    question_embeddings_map, context_embeddings_map, df_sent2vec = \\\n",
    "        get_sent2vec_prediction(df_squad.copy(), sent_transformer)\n",
    "    \n",
    "    question = 'What is KMC an initialism of?'\n",
    "    check_approx(\n",
    "        question_embeddings_map[question][:10],\n",
    "        [-0.9376349 ,  0.07794607, -0.08829201,  0.23485802,  0.05154163,\n",
    "         -0.11316115, -0.15181658,  0.69910896,  0.43863776, -0.5214241]\n",
    "    )\n",
    "    \n",
    "    question = 'In what year did Kathmandu create its initial international relationship?'\n",
    "    check_approx(\n",
    "        question_embeddings_map[question][:10],\n",
    "        [0.20806803,  0.5848249 ,  0.51129144, -0.8319231 ,  0.10700534,\n",
    "        0.35735554,  0.4291537 ,  1.0774763 , -0.12320331,  0.5771949 ]\n",
    "    )\n",
    "    \n",
    "    context = \"KMC's first international relationship was established in 1975 with the city of Eugene, Oregon, United States.\"\n",
    "    check_approx(\n",
    "        context_embeddings_map[context][:10],\n",
    "        [0.65290284,  0.1876768 ,  0.5210961 , -0.13445881, -0.05164678,\n",
    "        0.5333182 ,  0.6115602 ,  0.6255963 ,  0.38067245, -0.10421762]\n",
    "    )\n",
    "    \n",
    "    context = 'It was established in 1972 and started to impart medical education from 1978.'\n",
    "    check_approx(\n",
    "        context_embeddings_map[context][:10],\n",
    "        [0.72947043, -0.5591796 ,  0.86937994, -0.80692345, -0.05610372,\n",
    "        0.07088739,  1.1165347 ,  0.8680078 ,  0.04112893, -0.71701765]\n",
    "    )\n",
    "    check_approx(\n",
    "        df_sent2vec[\"distance_value\"].tail(10),\n",
    "        [11.888211250305176, 13.456267356872559, 14.015336990356445, 14.333199501037598,\n",
    "         11.331104278564453, 10.903414726257324, 17.290882110595703, 14.260327339172363,\n",
    "         13.246850967407227, 16.56328582763672]\n",
    "    )\n",
    "    \n",
    "    sent2vec_accuracy = (df_sent2vec[\"sent2vec_prediction\"] == df_sent2vec[\"answer_sent_index\"]).mean()\n",
    "    check_equal(round(sent2vec_accuracy, 2), 0.68)\n",
    "    print(\"All tests passed!\")\n",
    "    \n",
    "    print(\"Saving the embedding to pickle files for later use ...\")\n",
    "    with open(\"question_embeddings_map.pkl\", \"wb\") as f1, open(\"context_embeddings_map.pkl\", \"wb\") as f2:\n",
    "        pickle.dump(question_embeddings_map, f1)\n",
    "        pickle.dump(context_embeddings_map, f2)\n",
    "    print(\"Done!\")\n",
    "        \n",
    "    \n",
    "%time test_get_sent2vec_prediction()"
   ]
  },
  {
   "cell_type": "markdown",
   "metadata": {},
   "source": [
    "If your implementation is sufficiently optimized, you should expect to see the local test finished in about 7.5 minutes or less, on a `STANDARD_NC8AS_T4_V3` GPU Compute. If your code runs for more than 10 minutes, you should try to improve its efficiency."
   ]
  },
  {
   "cell_type": "markdown",
   "metadata": {},
   "source": [
    "We see a slight improvement in accuracy, compared to the previous two methods. It seems like using the meanings of the words isn't too effective here. Now we will try a different technique that utilizes the linguistic structures of the questions and context sentences. Let's walk through an example of what we will do first.\n",
    "\n",
    "Assume we have the following input `question`:\n",
    "\n",
    "```\n",
    "How many parameters does BERT-large have?\n",
    "```\n",
    "and `context`:\n",
    "```\n",
    "BERT-large is really big... it has 24-layers and an embedding size of 1,024, for a total of 340M parameters! Altogether it is 1.34GB, so expect it to take a couple minutes to download to your Colab instance.\n",
    "```\n",
    "\n",
    "We will perform the following steps:\n",
    "1. Lowercase `question` and identify its *root word*:\n",
    "```py\n",
    "question_root = \"have\"\n",
    "```\n",
    "1. Lemmatize this root word to reduce it to its base form.\n",
    "```py\n",
    "lemmatized_question_root = \"have\"\n",
    "```\n",
    "1. Split `context` into context sentences and lowercase them:\n",
    "```py\n",
    "sent1 = \"bert-large is really big... it has 24-layers and an embedding size of 1,024, for a total of 340m parameters!\"\n",
    "sent2 = \"altogether it is 1.34gb, so expect it to take a couple minutes to download to your colab instance.\"\n",
    "```\n",
    "1. Identify the *noun chunks* in each context sentence:\n",
    "```py\n",
    "sent1_ncs = [\"it\", \"24-layers\", \"an embedding size\", \"a total\", \"340m\", \"parameters\"]\n",
    "sent2_ncs = [\"it\", \"1.34gb\", \"it\", \"a couple minutes\", \"your colab instance\"]\n",
    "```\n",
    "1. Extract the *root word* from each noun chunk:\n",
    "```py\n",
    "sent1_nc_roots = [\"it\", \"layers\", \"size\", \"total\", \"parameters\"]\n",
    "sent2_nc_roots = [\"it\", \"gb\", \"it\", \"minutes\", \"instance\"]\n",
    "```\n",
    "1. Identify and lemmatize the *head* for each of the above root words. Store these heads into sets:\n",
    "```py\n",
    "sent1_nc_root_heads = {\"have\", \"of\", \"layer\", \"for\"}\n",
    "sent2_nc_root_heads = {\"to\", \"take\", \"is\"}\n",
    "```\n",
    "1. Return the index of the first context sentence whose `nc_root_heads` set contains the question's root word `lemmatized_question_root`. If no context sentence meets this requirement, return 0 (in other words, we predict that the first context sentence is the answer, based on the assumption that the first sentence in a paragraph typically contains the most important information)."
   ]
  },
  {
   "cell_type": "markdown",
   "metadata": {},
   "source": [
    "We first define some global variables that will be employed in this task. In particular, we will use the `en_core_web_sm` model from spaCy, and the part-of-speech lemmatization procedure from Project 4. Note: the autograder will use this cell so do not change its content and do not add the tag `excluded_from_script`."
   ]
  },
  {
   "cell_type": "code",
   "execution_count": 11,
   "metadata": {},
   "outputs": [],
   "source": [
    "en_nlp = spacy.load(\"en_core_web_sm\")\n",
    "lemmatizer = WordNetLemmatizer()\n",
    "pos_mapping = {\n",
    "    'ADJ' : wordnet.ADJ, 'NOUN' : wordnet.NOUN,\n",
    "    'VERB' : wordnet.VERB, 'ADP' : wordnet.ADV\n",
    "}\n",
    "\n",
    "def lemmatize_token(token):\n",
    "    \"\"\"\n",
    "    Lemmatize a spaCy token based on its part-of-speech tag. If a tag is not recognized, treat it as a noun.\n",
    "    \n",
    "    args:\n",
    "        token (spacy.tokens.token.Token) : an output token when inputting a raw string to a spaCy model\n",
    "    \n",
    "    return:\n",
    "        str : the lemmatized string\n",
    "    \"\"\"\n",
    "    return lemmatizer.lemmatize(token.text, pos = pos_mapping.get(token.pos_, wordnet.NOUN))"
   ]
  },
  {
   "cell_type": "markdown",
   "metadata": {},
   "source": [
    "As a first step, we recommend consulting the [AST primer](https://nbviewer.jupyter.org/url/clouddatascience.blob.core.windows.net/primers/ast-primer/ast_primer.ipynb) and the [spaCy documentation](https://spacy.io/usage/linguistic-features) to replicate the above example in code. Once you have successfully done so, proceed to the next question.\n",
    "\n",
    "**Notes**:\n",
    "* To identify a question's root word, you can input it to the `en_nlp` model, extract the first sentence from the `.sents` generator, and use the `.root` attribute. This returns a `Token` that you can then input to `lemmatize_token` to get the lemmatized form.\n",
    "* Remember to also lemmatize the heads of the root words for the noun chunks (in the above example, `sent1_nc_root_heads` and `sent2_nc_root_heads` contain lemmatized strings)."
   ]
  },
  {
   "cell_type": "code",
   "execution_count": 12,
   "metadata": {
    "tags": [
     "excluded_from_script"
    ]
   },
   "outputs": [],
   "source": [
    "question = \"How many parameters does BERT-large have?\"\n",
    "context_sentences = [\n",
    "    \"BERT-large is really big... it has 24-layers and an embedding size of 1,024, for a total of 340M parameters!\",\n",
    "    \"Altogether it is 1.34GB, so expect it to take a couple minutes to download to your Colab instance.\"\n",
    "]\n",
    "\n",
    "# your code here"
   ]
  },
  {
   "cell_type": "markdown",
   "metadata": {},
   "source": [
    "### Question 4: Root word matching\n",
    "Implement the function `get_rootword_prediction` that performs the above steps on the dataset `df_squad`. For every row, it stores:\n",
    "* the predicted answer sentence index in a new column `\"rootword_prediction\"`\n",
    "* the lemmatized root word of the question in a new column `\"question_root\"`\n",
    "* the set of lemmatized heads of the root words for the noun chunks in the predicted context sentence (for the above example, this would be the set `sent1_nc_root_heads`) in a new column `\"nc_root_heads\"`.\n",
    "\n",
    "**Notes**:\n",
    "* Recall that the context paragraphs have already been split into sentences in the column `context_sentences`.\n",
    "* Remember to lower case all the questions and context sentences when doing root word matching (but do not change the original `question`, `context_paragraph` or `context_sentences` columns in `df_squad`).\n",
    "* If a question contains multiple sentences, make sure you extract the question root word from the **first sentence**, not the last."
   ]
  },
  {
   "cell_type": "code",
   "execution_count": 28,
   "metadata": {},
   "outputs": [],
   "source": [
    "def find_root_head(question):\n",
    "    doc = en_nlp(question)\n",
    "    for token in doc:\n",
    "        if token.dep == 8206900633647566924:# and token.head.pos == spacy.symbols.VERB:\n",
    "            return lemmatize_token(token)#token.lemma_\n",
    "    \n",
    "    # If no root, return first word\n",
    "    return lemmatize_token(doc[0])#doc[0].lemma_\n",
    "def get_rootword_prediction(df_squad, en_nlp):\n",
    "    \"\"\"\n",
    "    Identify the answer sentence as the first sentence whose list of heads of the root words for its noun chunks\n",
    "    contains the question's root word.\n",
    "    \n",
    "    args:\n",
    "        df_squad (pd.DataFrame) : a copy of the SQuAD dataset\n",
    "        en_nlp (spacy.lang.en.English) : a pre-trained SpaCy language model\n",
    "    \n",
    "    returns:\n",
    "        pd.DataFrame : the input dataframe with three additional columns,\n",
    "            \"rootword_prediction\", \"question_root\" and \"nc_root_heads\"\n",
    "    \"\"\"\n",
    "    question_roots = []\n",
    "    nc_root_heads_list = []\n",
    "    df_squad['rootword_prediction'] = None\n",
    "    df_squad['question_root'] = None\n",
    "    df_squad['nc_root_heads'] = None\n",
    "    for index, row in tqdm(df_squad.iterrows()):\n",
    "        question = row['question']\n",
    "        context = row['context_sentences']\n",
    "        \n",
    "        # 1. Find question's root head\n",
    "        question_root = find_root_head(question.lower())\n",
    "        \n",
    "        context_roots = []\n",
    "        for sentence in context:\n",
    "            sentence_doc = en_nlp(sentence.lower())\n",
    "            root_heads = set()\n",
    "\n",
    "            # 2. Find noun chunks and extract their root heads\n",
    "            for chunk in sentence_doc.noun_chunks:\n",
    "                root_head = lemmatize_token(chunk.root.head)\n",
    "                root_heads.add(root_head)\n",
    "\n",
    "            context_roots.append(root_heads)\n",
    "            \n",
    "        # 3. Find the corresponding index\n",
    "        for i, root_heads in enumerate(context_roots):\n",
    "            if question_root in root_heads:\n",
    "                df_squad.at[index, 'rootword_prediction'] = i\n",
    "                break\n",
    "\n",
    "        df_squad.at[index, 'question_root'] = question_root\n",
    "\n",
    "        if df_squad.at[index, 'rootword_prediction']==None:\n",
    "            df_squad.at[index, 'rootword_prediction']=0\n",
    "        df_squad.at[index, 'nc_root_heads'] = context_roots[df_squad.at[index, 'rootword_prediction']]\n",
    "\n",
    "    return df_squad\n"
   ]
  },
  {
   "cell_type": "code",
   "execution_count": 29,
   "metadata": {
    "tags": [
     "excluded_from_script"
    ]
   },
   "outputs": [
    {
     "name": "stderr",
     "output_type": "stream",
     "text": [
      "10it [00:00, 30.84it/s]\n",
      "5000it [02:54, 28.57it/s]"
     ]
    },
    {
     "name": "stdout",
     "output_type": "stream",
     "text": [
      "[0, 1, 3, 1, 0, 0, 1, 2, 0, 4]\n",
      "['see', 'kill', 'in', 'vote', 'wa', 'is', 'say', 'wa', 'compile', 'assign']\n",
      "[{'announce', 'in', 'by', 'heed', 'live', 'from'}, {'of', 'in', 'destroy', 'kill'}, {'be', 'park', 'in'}, {'of', 'than', 'fuel', 'arouse', 'in', 'vote', 'studdard'}, {'of', 'hold', 'in', 'by', 'louis', 'at', 'on'}, {'achieve', 'xenakis', 'in', 'with', 'as', 'skalkottas', 'have', 'garde', 'on'}, {'of', 'is', 'say', 'call', 'statement'}, {'after', 'wa', 'of', 'by', 'say', 'find'}, {'architect', 'attract', 'of', 'ruler', 'in', 'artist', 'through', 'from'}, {'wa', 'of', 'manage', 'with', 'by', 'like', 'assign', 'glanville', 'at', 'teach'}]\n",
      "0.4626\n",
      "All tests passed!\n",
      "CPU times: user 2min 55s, sys: 468 ms, total: 2min 55s\n",
      "Wall time: 2min 55s\n"
     ]
    },
    {
     "name": "stderr",
     "output_type": "stream",
     "text": [
      "\n"
     ]
    }
   ],
   "source": [
    "def test_rootword_prediction():\n",
    "    \"\"\"Test on the first 10 rows\"\"\"\n",
    "    df_rootword = get_rootword_prediction(df_squad.head(10).copy(), en_nlp)\n",
    "    check_equal(df_rootword.shape, (10, 10))\n",
    "    \n",
    "    check_equal(df_rootword[\"rootword_prediction\"].tolist(), [0, 0, 0, 1, 2, 1, 0, 0, 0, 0])\n",
    "    \n",
    "    check_equal(df_rootword[\"nc_root_heads\"].tolist(), [\n",
    "        {'carter', 'producer', 'singer', 'songwriter', 'is'},\n",
    "        {'carter', 'producer', 'singer', 'songwriter', 'is'},\n",
    "        {'carter', 'producer', 'singer', 'songwriter', 'is'},\n",
    "        {'in', 'perform', 'of', 'to', 'houston', 'as'},\n",
    "        {'become', 'father', 'of', 'by'},\n",
    "        {'in', 'perform', 'of', 'to', 'houston', 'as'},\n",
    "        {'carter', 'producer', 'singer', 'songwriter', 'is'},\n",
    "        {'carter', 'producer', 'singer', 'songwriter', 'is'},\n",
    "        {'carter', 'producer', 'singer', 'songwriter', 'is'},\n",
    "        {'carter', 'producer', 'singer', 'songwriter', 'is'}\n",
    "    ])\n",
    "    \n",
    "    check_equal(df_rootword[\"question_root\"].tolist(), [\n",
    "        'start', 'compete', 'leave', 'in', 'become', 'in', 'make', 'manage', 'rise', 'have'\n",
    "    ])\n",
    "    \n",
    "    \"\"\"Test on 5000 sampled data points\"\"\"\n",
    "    df_rootword = get_rootword_prediction(df_squad.sample(5000, random_state = 0).copy(), en_nlp)\n",
    "    check_equal(df_rootword.shape, (5000, 10))\n",
    "    #print(df_rootword[\"rootword_prediction\"].tail(10).tolist())\n",
    "    #print(df_rootword[\"question_root\"].tail(10).tolist())\n",
    "    #print(df_rootword[\"nc_root_heads\"].tail(10).tolist())\n",
    "    #print((df_rootword[\"rootword_prediction\"] == df_rootword[\"answer_sent_index\"]).values.mean())\n",
    "    check_equal(df_rootword[\"rootword_prediction\"].value_counts().to_dict(), \n",
    "        {0: 3547, 1: 523, 2: 394, 3: 244, 4: 156, 5: 64, 6: 41, 7: 18, 8: 4, 9: 4, 10: 2, 11: 2, 21: 1}\n",
    "    )\n",
    "    \n",
    "    check_equal(df_rootword[\"rootword_prediction\"].tail(10).tolist(), [0, 1, 3, 1, 0, 0, 1, 2, 0, 4])\n",
    "    \n",
    "    check_equal(df_rootword[\"question_root\"].tail(10).tolist(), [\n",
    "        'see', 'kill', 'in', 'vote', 'wa', 'is', 'say', 'wa', 'compile', 'assign'\n",
    "    ])\n",
    "    \n",
    "    check_equal(df_rootword[\"nc_root_heads\"].tail(10).tolist(), [\n",
    "        {'announce', 'by', 'from', 'heed', 'in', 'live'},\n",
    "        {'destroy', 'in', 'kill', 'of'},\n",
    "        {'be', 'in', 'park'},\n",
    "        {'arouse', 'fuel', 'in', 'of', 'studdard', 'than', 'vote'},\n",
    "        {'at', 'by', 'hold', 'in', 'louis', 'of', 'on'},\n",
    "        {'achieve', 'as', 'garde', 'have', 'in', 'on', 'skalkottas', 'with', 'xenakis'},\n",
    "        {'call', 'is', 'of', 'say', 'statement'},\n",
    "        {'after', 'by', 'find', 'of', 'say', 'wa'},\n",
    "        {'architect', 'artist', 'attract', 'from', 'in', 'of', 'ruler', 'through'},\n",
    "        {'assign', 'at', 'by', 'glanville', 'like', 'manage', 'of', 'teach', 'wa', 'with'}\n",
    "    ])\n",
    "    \n",
    "    accuracy = (df_rootword[\"rootword_prediction\"] == df_rootword[\"answer_sent_index\"]).values.mean()\n",
    "    check_equal(accuracy, 0.4626)\n",
    "    print(\"All tests passed!\")\n",
    "    \n",
    "%time test_rootword_prediction()\n"
   ]
  },
  {
   "cell_type": "markdown",
   "metadata": {},
   "source": [
    "Since this procedure takes a very long time, we only tested it on a random sample of 5000 data points. If your code is sufficiently optimized, the local test should finish in about 4 minutes on a `STANDARD_NC8AS_T4_V3` compute."
   ]
  },
  {
   "cell_type": "markdown",
   "metadata": {},
   "source": [
    "## Part C: Supervised Models\n",
    "So far we have been exploring unsupervised methods for answer extraction which involves dividing the questions and contexts into tokens and projecting those tokens into a common representation space. You may notice that their performances weren't particularly great because we didn't perform any training on the dataset; instead, we only used pre-defined heuristics and pre-trained models. From this point, we will move to the supervised learning domain, where we make use of the ground-truth answers and build models that learn from these answers."
   ]
  },
  {
   "cell_type": "markdown",
   "metadata": {},
   "source": [
    "### Question 5: Preparing dataset for supervised learning\n",
    "We will first consider a binary classification setting, where we are given a question and a context sentence, and need to predict whether this context sentence contains the answer. In this setting, we can get several training data points from each row in the original dataset `df_squad`. In particular, if a row in `df_squad` looks like the following:\n",
    "\n",
    "|question|context_sentences|answer_sent_index|\n",
    "|---|---|---|\n",
    "|`q`|`[s0, s1, s2, s3]`|2|\n",
    "\n",
    "then it contributes four data points:\n",
    "\n",
    "|question|context_sentence|is_answer_sent|\n",
    "|---|---|---|\n",
    "|`q`|`s0`|0|\n",
    "|`q`|`s1`|0|\n",
    "|`q`|`s2`|1|\n",
    "|`q`|`s3`|0|\n",
    "\n",
    "More generally, a row in `df_squad` where the `context_sentences` list has `n` sentences will be transformed into `n` rows, one for each context sentence. Among these new rows, only the row at index `answer_sent_index` gets assigned the label 1, while the others get the label 0.\n",
    "\n",
    "Implement the function `build_data_for_classification` that turns the original dataset `df_squad` into a dataframe with 3 columns -- `question`, `context_sentence` and `is_answer_sent` -- using the procedure specified above.\n",
    "\n",
    "**Notes**:\n",
    "* Keep in mind that the new dataframe has a column named `context_sentence`, **not** `context_sentences`.\n",
    "* You should preserve the original row ordering in the input dataframe."
   ]
  },
  {
   "cell_type": "code",
   "execution_count": 28,
   "metadata": {},
   "outputs": [],
   "source": [
    "def build_data_for_classification(df_squad):\n",
    "    \"\"\"\n",
    "    Convert the SQuAD dataset into a format where every row contains one question, one context answer,\n",
    "    and a flag that indicates whether the context sentence is the answer.\n",
    "    \n",
    "    args:\n",
    "        df_squad (pd.DataFrame) : a copy of the SQuAD dataset\n",
    "        \n",
    "    returns:\n",
    "        pd.DataFrame : a new dataframe with 3 columns: question, context_sentence, is_answer_sent\n",
    "    \"\"\"\n",
    "    df_squad[\"id\"] = df_squad.index\n",
    "    data_tuples = [(row['question'], context_sentence, row['answer_sent_index'], row[\"id\"])\n",
    "                   for _, row in df_squad.iterrows() for context_sentence in row['context_sentences']]\n",
    "\n",
    "    \n",
    "    questions, context_sentences, answer_sent_indices, index = zip(*data_tuples)\n",
    "    index = np.array(index)\n",
    "    answer_sent_indices = np.array(answer_sent_indices)\n",
    "    is_answer_sent=[]\n",
    "    for ind in df_squad[\"id\"]:\n",
    "        \"\"\"mask = [index_ele == ind for index_ele in index]\n",
    "        filtered = [answer_sent_indices[i] for i, mask_value in enumerate(mask) if mask_value]\n",
    "        answer_sent_index = filtered[0]\n",
    "        is_answer_sent.extend([1 if i == answer_sent_index else 0 for i in range(len(filtered))])\"\"\"\n",
    "        mask = np.where(index == ind, 1, 0)\n",
    "        filtered = answer_sent_indices[mask==1]\n",
    "        answer_sent_index = filtered[0]\n",
    "        is_answer_sent.extend([1 if i == answer_sent_index else 0 for i in range(len(filtered))])\n",
    "        \n",
    "\n",
    "    # Create the new dataframe\n",
    "    new_df = pd.DataFrame({\n",
    "        'question': questions,\n",
    "        'context_sentence': context_sentences,\n",
    "        'is_answer_sent': is_answer_sent\n",
    "    })\n",
    "    df_squad.drop(columns='id', inplace=True)\n",
    "    return new_df"
   ]
  },
  {
   "cell_type": "code",
   "execution_count": 293,
   "metadata": {
    "tags": [
     "excluded_from_script"
    ]
   },
   "outputs": [
    {
     "name": "stderr",
     "output_type": "stream",
     "text": [
      "100%|██████████| 10/10 [00:00<00:00, 58092.85it/s]\n",
      "100%|██████████| 86821/86821 [00:55<00:00, 1572.51it/s]\n"
     ]
    },
    {
     "name": "stdout",
     "output_type": "stream",
     "text": [
      "All tests passed!\n"
     ]
    }
   ],
   "source": [
    "def test_build_data_for_classification():\n",
    "    \"\"\"Test on 10 random rows\"\"\"\n",
    "    df_sample = df_squad.sample(n = 10, random_state = 0).copy()\n",
    "    df_formatted = build_data_for_classification(df_sample)\n",
    "    \n",
    "    assert df_formatted.shape == (48, 3), df_formatted.shape\n",
    "    \n",
    "    assert sorted(df_formatted.columns) == ['context_sentence', 'is_answer_sent', 'question']\n",
    "    \n",
    "    assert df_formatted['is_answer_sent'].tolist() == [\n",
    "        0, 0, 1, 1, 0, 0, 0, 0, 0, 0,\n",
    "        0, 0, 0, 0, 0, 1, 0, 0, 0, 0,\n",
    "        0, 1, 0, 0, 0, 0, 0, 0, 0, 1,\n",
    "        0, 0, 1, 0, 0, 0, 0, 1, 0, 0,\n",
    "        1, 0, 0, 0, 1, 0, 1, 0\n",
    "    ], df_formatted['is_answer_sent'].tolist()\n",
    "    \n",
    "    # check that question orderings are preserved\n",
    "    assert (df_formatted[\"question\"].unique() == df_sample[\"question\"].unique()).all()\n",
    "    \n",
    "    \"\"\"Test on the full dataset\"\"\"\n",
    "    df_formatted = build_data_for_classification(df_squad.copy())\n",
    "    \n",
    "    assert df_formatted.shape == (443259, 3), df_formatted.shape\n",
    "    \n",
    "    assert df_formatted['is_answer_sent'].sample(n = 40, random_state = 200).tolist() == [\n",
    "        1, 0, 0, 1, 0, 0, 1, 0, 0, 0,\n",
    "        0, 1, 0, 0, 0, 0, 0, 0, 0, 0,\n",
    "        0, 0, 0, 0, 0, 0, 0, 0, 0, 0,\n",
    "        0, 0, 1, 0, 0, 0, 0, 1, 0, 1\n",
    "    ], df_formatted['is_answer_sent'].tail(40).tolist()\n",
    "    \n",
    "    assert (df_formatted[\"question\"].unique() == df_squad[\"question\"].unique()).all()\n",
    "    print(\"All tests passed!\")\n",
    "    \n",
    "test_build_data_for_classification()"
   ]
  },
  {
   "cell_type": "markdown",
   "metadata": {},
   "source": [
    "Before building our supervised learning models, we will load the embeddings you created in Question 3 and set up the train set and test set."
   ]
  },
  {
   "cell_type": "code",
   "execution_count": 29,
   "metadata": {
    "tags": [
     "excluded_from_script"
    ]
   },
   "outputs": [],
   "source": [
    "question_embeddings_map = pd.read_pickle(\"question_embeddings_map.pkl\")\n",
    "context_embeddings_map = pd.read_pickle(\"context_embeddings_map.pkl\")"
   ]
  },
  {
   "cell_type": "code",
   "execution_count": 30,
   "metadata": {
    "tags": [
     "excluded_from_script"
    ]
   },
   "outputs": [],
   "source": [
    "df_squad_train, df_squad_test = train_test_split(df_squad, train_size = 0.8, random_state = 0)\n",
    "df_train_formatted = build_data_for_classification(df_squad_train.reset_index())\n",
    "df_test_formatted = build_data_for_classification(df_squad_test.reset_index())"
   ]
  },
  {
   "cell_type": "markdown",
   "metadata": {},
   "source": [
    "### Question 6: Logistic Regression\n",
    "Having set up the dataset for binary classification, we can now train a logistic regression model. While the binary labels are already set up, we still need to construct the feature vectors as follows. For every question `q` and context sentence `s`:\n",
    "* Convert the question to its word embedding $x_q \\in \\mathbb{R}^k$, using the question embedding map from Question 3.\n",
    "* Convert the context sentence to its word embedding $x_s \\in \\mathbb{R}^l$, using the context embedding map from Question 3.\n",
    "* Concatenate these two vectors to get the input vector to the logistic regression model:\n",
    "\n",
    "$$x_{q,s} = (x_{q1} \\quad x_{q2} \\quad \\ldots \\quad x_{qk} \\quad x_{s1} \\quad x_{s2} \\quad \\ldots \\quad x_{sl})^\\top \\in \\mathbb{R}^{k+l}.$$\n",
    "\n",
    "Implement the function `get_lr_prediction` that performs the following steps:\n",
    "\n",
    "1. Construct the feature vector for each row of the train set `df_train_formatted`, using the above formula.\n",
    "1. Use an Sklearn `StandardScaler` (with default parameters) to fit and transform the train set `df_train_formatted`.\n",
    "1. Train an Sklearn `LogisticRegression` model on the train set `df_train_formatted`.\n",
    "1. Use this model to perform prediction on the test set `df_test_formatted`.\n",
    "1. Return the trained LR model and its accuracy on the test set (i.e., the number of correct predictions divided by the test set size).\n",
    "\n",
    "**Notes**:\n",
    "* When creating a `LogisticRegression` model you should set `random_state` to the input `seed` and `max_iters` to 1000. You do not need to specify any other parameter.\n",
    "* Make sure you also standardize the feature matrix built from the test set before inputting it to the LR model for prediction.\n",
    "* Similar to Question 3, if you get a NumPy array that contains other NumPy arrays, you can use `np.stack` to turn it to a normal multi-dimensional array (otherwise it will be treated as a 1D array of pointers to other arrays)."
   ]
  },
  {
   "cell_type": "code",
   "execution_count": 31,
   "metadata": {},
   "outputs": [],
   "source": [
    "def get_lr_prediction(df_train_formatted, df_test_formatted, question_embeddings_map, context_embeddings_map, seed = 0):\n",
    "    \"\"\"\n",
    "    Train and evaluate the performance of a binary logisitic regression model to predict\n",
    "    whether a context sentence contains the answer to a given question.\n",
    "    \n",
    "    args:\n",
    "        df_train_formatted (pd.DataFrame) : the train set dataframe with 3 columns:\n",
    "            question, context_sentence, is_answer_sent\n",
    "        df_test_formatted (pd.DataFrame) : the test set dataframe with 3 columns:\n",
    "            question, context_sentence, is_answer_sent\n",
    "        question_embeddings_map (dict[str, np.ndarray]) : a mapping from question to word embedding\n",
    "        context_embeddings_map (dict[str, np.ndarray]) : a mapping from context sentence to word embedding\n",
    "        seed (int) : the random generator used in LogisticRegression\n",
    "        \n",
    "    return: Tuple(trained_model, accuracy)\n",
    "        trained_model (sklearn.linear_model.LogisticRegression) : the LR model trained on the train set\n",
    "        accuracy (float) : the accuracy score of the trained model on the test set\n",
    "    \"\"\"\n",
    "    def construct_feature_vector(row):\n",
    "        question_embedding = question_embeddings_map[row[\"question\"]]\n",
    "        context_embedding = context_embeddings_map[row[\"context_sentence\"]]\n",
    "        return np.concatenate((question_embedding, context_embedding))\n",
    "\n",
    "    X_train = np.stack(df_train_formatted.apply(construct_feature_vector, axis=1))\n",
    "    X_test = np.stack(df_test_formatted.apply(construct_feature_vector, axis=1))\n",
    "\n",
    "    scaler = StandardScaler()\n",
    "    X_train_scaled = scaler.fit_transform(X_train)\n",
    "    X_test_scaled = scaler.transform(X_test)\n",
    "\n",
    "    \n",
    "    lr = LogisticRegression(random_state=seed, max_iter=1000)\n",
    "    lr.fit(X_train_scaled, df_train_formatted[\"is_answer_sent\"])\n",
    "\n",
    "    y_pred = lr.predict(X_test_scaled)\n",
    "    accuracy = np.mean(y_pred == df_test_formatted[\"is_answer_sent\"])\n",
    "\n",
    "    return lr, accuracy"
   ]
  },
  {
   "cell_type": "code",
   "execution_count": 297,
   "metadata": {
    "tags": [
     "excluded_from_script"
    ]
   },
   "outputs": [
    {
     "name": "stderr",
     "output_type": "stream",
     "text": [
      "100%|██████████| 800/800 [00:00<00:00, 59385.22it/s]\n",
      "100%|██████████| 200/200 [00:00<00:00, 76685.33it/s]\n"
     ]
    },
    {
     "name": "stdout",
     "output_type": "stream",
     "text": [
      "All tests passed!\n"
     ]
    }
   ],
   "source": [
    "def test_get_lr_prediction():\n",
    "    \"Test on the first 1000 rows of the dataset\"\n",
    "    df_squad_train_mini, df_squad_test_mini = train_test_split(df_squad.head(1000), train_size = 0.8, random_state = 0)\n",
    "    df_train_formatted_mini = build_data_for_classification(df_squad_train_mini.reset_index())\n",
    "    df_test_formatted_mini = build_data_for_classification(df_squad_test_mini.reset_index())\n",
    "    lr_mini, acc_mini = get_lr_prediction(\n",
    "        df_train_formatted_mini, df_test_formatted_mini,\n",
    "        question_embeddings_map, context_embeddings_map\n",
    "    )\n",
    "    assert lr_mini.coef_.flatten()[:10].round(2).tolist() == [\n",
    "        0.07, -0.01, -0.03, -0.03, -0.01, 0.01, -0.03, 0.0, 0.04, -0.04\n",
    "    ]\n",
    "    assert lr_mini.intercept_.round(2)[0] == -2.73\n",
    "    assert round(acc_mini, 2) ==  0.81\n",
    "    \n",
    "    \"\"\"Test on the entire dataset\"\"\"\n",
    "    lr, acc = get_lr_prediction(df_train_formatted, df_test_formatted, question_embeddings_map, context_embeddings_map)\n",
    "    assert lr.coef_.flatten()[:10].round(2).tolist() == [\n",
    "        -0.04, 0.0, 0.01, 0.0, -0.0, 0.0, -0.01, -0.0, -0.03, 0.01\n",
    "    ]\n",
    "    assert lr.intercept_.round(2)[0] == -1.54\n",
    "    assert round(acc, 2) == 0.80\n",
    "    \n",
    "    print(\"All tests passed!\")\n",
    "    \n",
    "test_get_lr_prediction()"
   ]
  },
  {
   "cell_type": "markdown",
   "metadata": {},
   "source": [
    "We obtain about 80% accuracy in this binary classification task, which is not too bad! However, it's important to note that this accuracy cannot be compared with those from previous questions, because it is evaluated in a different setting (`df_test_formatted`). If we were only interested in whether the ground truth answer sentences are correctly detected, we would evaluate the accuracy on the original test set `df_squad_test`, instead of the formatted one."
   ]
  },
  {
   "cell_type": "markdown",
   "metadata": {},
   "source": [
    "While logistic regression on Sent2vec representation performs relatively well, it still relies on a *uni-directional* representation of words. In this setting, the same word is always mapped to the same vector, even though it may have different meanings in different contexts (e.g., the word `bank` in `bank account` is not the same as in `river bank`). The final model we will explore in this project, which also addresses the above issue, is called BERT (Bi-directional Encoder Representations from Transformers). This is a language model that learns to predict the probability of a sequence of words. The reason for BERT's success is its large feedforward layers and its attention heads, giving it 110 million parameters for the base model and 340 million parameters for the large model. It has been trained on Wikipedia articles and the Book Corpus dataset, which contains text from over 10,000 books of different genres over the tasks of next sentence prediction (NSP) and masked language modeling (MLM). BERT represents the current state of the art in various NLP task, including question answering.\n",
    "\n",
    "One nice feature of NLP models like BERT is that they have already been pre-trained on massive text corpuses, but can also be fine-tuned further for a specific domain (in this case, our SQuAD dataset). We will implement this workflow in the rest of the project. First, we define a sub-class of `Dataset`, similar to Project 6, to turn our SQuaD dataset into a format that PyTorch can work with."
   ]
  },
  {
   "cell_type": "code",
   "execution_count": 32,
   "metadata": {},
   "outputs": [],
   "source": [
    "class SQuADDataset(Dataset):\n",
    "    def __init__(self, df_squad):\n",
    "        \"\"\"\n",
    "        Class constructor.\n",
    "        \"\"\"\n",
    "        self.data = df_squad\n",
    "        self.data_cols = [\"question\", \"context_paragraph\", \"answer_start\", \"answer_end\"]\n",
    "    \n",
    "    def __len__(self):\n",
    "        \"\"\"\n",
    "        Get the dataset length.\n",
    "        \"\"\"\n",
    "        return len(self.data)\n",
    "    \n",
    "    def __getitem__(self, index):\n",
    "        \"\"\"\n",
    "        Get the question, context paragraph, answer start and answer end value\n",
    "        at the row specified by the input index from the dataset.\n",
    "        \"\"\"\n",
    "        return tuple(self.data.loc[index, self.data_cols])"
   ]
  },
  {
   "cell_type": "markdown",
   "metadata": {},
   "source": [
    "### Question 7: Tokenization for BERT\n",
    "Similar to how our `LogisticRegression` model expects a real-valued vector as input, BERT also has its own way of constructing the input. At a high level, we want to convert each input tuple\n",
    "```\n",
    "(question, context_paragraph, answer_start, answer_end)\n",
    "```\n",
    "into a tuple\n",
    "```\n",
    "(encoding, token_start, token_end)\n",
    "```\n",
    "where `encoding` is a dictionary that maps three keywords -- `\"input_ids\"`, `\"token_type_ids\"`, `\"attention_mask\"` -- to their respective vector representations.\n",
    "\n",
    "Implement the class `SQuADTokenizer` that performs the above conversion using a pre-trained Bert tokenizer. In particular, the class constructor accepts a `BertTokenizer` instance and the maximum sequence size `max_length`, which are stored as instance variables. Then, the `__call__` function acccepts a batch of data and performs the following steps:\n",
    "1. Extract the questions, context paragraphs, answer start indexes, and answer end indexes from the batch.\n",
    "1. Input the questions and contexts to the tokenizer as separate lists, so that the tokenizer can append special tokens such as `[SEP]` that help BERT recognize different passages. You should also set the following parameters: `padding` to `\"longest\"`, `truncation` to `True`, `max_length` to the stored `max_len`, and `return_tensors` to `\"pt\"`.\n",
    "1. Convert the `answer_start` and `answer_end` character indices to the indices of the two tokens that correspond to these start and end characters. For example, let's say:\n",
    "```py\n",
    "question = \"Which pets does your son have?\"\n",
    "context_paragraph = \"My son loves pets. He has two cats and a dog.\"\n",
    "tokenized_context = [\"my\", \"son\", \"love\", \"pet\", \"he\", \"have\", \"two\", \"cat\", \"and\", \"a\", \"dog\"]\n",
    "answer_start, answer_end = 26, 44 # answer = \"two cats and a dog\"\n",
    "```\n",
    "now you need to identify the token that corresponds to the character `context_paragraph[answer_start]`. This character is `t` and the corresponding token is `two`, which is at index `6` in `tokenized_context`. Similarly for `answer_end`, the character `context_paragraph[answer_end]` is `g`, and the corresponding token is `dog`, which is at index 10 in `tokenized_context`. In summary, you are converting\n",
    "```\n",
    "(answer_start = 26, answer_end = 44)\n",
    "```\n",
    "to\n",
    "```\n",
    "(token_start = 6, token_end = 10)\n",
    "```\n",
    "1. Return the encoded data (output from calling the tokenizer on the input questions and context paragraphs in Step 2), as well as the list of token start indexes and the list of token end indexes.\n",
    "\n",
    "**Notes**:\n",
    "* The [Tokenizer page](https://huggingface.co/transformers/main_classes/tokenizer.html) and the section about [using the tokenizer](https://huggingface.co/transformers/quicktour.html?highlight=max_length) on HuggingFace may be helpful.\n",
    "* To convert `(answer_start, answer_end)` to `(token_start, token_end)`, you can use the [.char_to_token](https://huggingface.co/transformers/main_classes/tokenizer.html#transformers.BatchEncoding.char_to_token) method. Here the `batch_or_char_index` is the index of the current data point within the input batch, and `sequence_index` should be 1 because we are doing this conversion on the context paragraph, which is the second input string to the tokenizer. You need to specify both `batch_or_char_index` and `char_index` when calling `.char_to_token`.\n",
    "* Sometimes calling `.char_to_token` will return `None` because the tokens have been changed (e.g., due to lemmatization) from their original form in `context_paragraph`. A simple work-around is to also consider the token that corresponds to the next or previous character. If doing so still yields `None`, we will just set the token index as `max_len` as a last resort. More formally, you should assign `token_start` to the first element that is not `None` among the following four values:\n",
    "    * `char_to_token(char_index = answer_start, ...)`\n",
    "    * `char_to_token(char_index = answer_start+1, ...)`\n",
    "    * `char_to_token(char_index = answer_start-1, ...)`\n",
    "    * `max_len`\n",
    "* You will do a similar assignment for `token_end` as well.\n",
    "* After extracting `answer_starts` and `anwer_ends` from the batch, you should convert them to `LongTensor` so that they can be used in `char_to_token()`."
   ]
  },
  {
   "cell_type": "code",
   "execution_count": 33,
   "metadata": {},
   "outputs": [],
   "source": [
    "class SQuADTokenizer:\n",
    "    def __init__(self, tokenizer, max_len = 512):\n",
    "        \"\"\"\n",
    "        Store the input BertTokenizer instance and the max length\n",
    "        \"\"\"\n",
    "        self.tokenizer = tokenizer\n",
    "        self.max_len = max_len\n",
    "    \n",
    "    def __call__(self, batch):\n",
    "        \"\"\"\n",
    "        Perform tokenization on a batch of data\n",
    "        \n",
    "        args:\n",
    "            batch (Tuple[questions, contexts, answer_starts, answer_ends]):\n",
    "                questions (List[str]) : a list of questions\n",
    "                contexts (List[str]) : a list of context paragraphs\n",
    "                answer_starts (List[int]) : a list of answer start indexes\n",
    "                answer_ends (List[int]) : a list of answer end indexes\n",
    "        \n",
    "        returns:\n",
    "            Tuple[encoding, token_starts, token_ends]\n",
    "                encoding (dict[str, tensor]): the output of calling tokenizer on the questions and contexts\n",
    "                token_starts (List[int]) : the list of indexes for the tokens that correspond to the first answer character\n",
    "        \"\"\"\n",
    "        questions, contexts, answer_starts, answer_ends = batch\n",
    "        answer_starts = torch.LongTensor(answer_starts)\n",
    "        answer_ends = torch.LongTensor(answer_ends)\n",
    "        encoding = self.tokenizer(questions, contexts, padding=\"longest\", truncation=True, max_length=self.max_len, return_tensors=\"pt\")\n",
    "        token_starts, token_ends = [], []\n",
    "\n",
    "        for i, (answer_start, answer_end) in enumerate(zip(answer_starts, answer_ends)):\n",
    "            token_start = self._char_to_token(i, answer_start, encoding, sequence_index=1)\n",
    "            token_end = self._char_to_token(i, answer_end, encoding, sequence_index=1)\n",
    "\n",
    "            token_starts.append(token_start)\n",
    "            token_ends.append(token_end)\n",
    "\n",
    "        return encoding, token_starts, token_ends\n",
    "    def _char_to_token(self, batch_or_char_index, char_index, encoding, sequence_index):\n",
    "        \n",
    "        token_index = encoding.char_to_token(batch_or_char_index, char_index = char_index, sequence_index = sequence_index)\n",
    "\n",
    "        # If token_index is None, try with adjacent characters or set as max_len as a last resort\n",
    "        if token_index is None:\n",
    "            for offset in [-1, 1]:\n",
    "                new_char_index = char_index + offset\n",
    "                token_index = encoding.char_to_token(batch_or_char_index, char_index = new_char_index, sequence_index = sequence_index)\n",
    "               \n",
    "                if token_index is not None:\n",
    "                    if offset==-1:\n",
    "                        token_index+=1\n",
    "                    else:\n",
    "                        token_index-=1                    \n",
    "                    break\n",
    "                else:\n",
    "                    token_index = self.max_len\n",
    "\n",
    "        return token_index\n"
   ]
  },
  {
   "cell_type": "code",
   "execution_count": 318,
   "metadata": {
    "tags": [
     "excluded_from_script"
    ]
   },
   "outputs": [
    {
     "name": "stdout",
     "output_type": "stream",
     "text": [
      "All tests passed!\n"
     ]
    }
   ],
   "source": [
    "def test_tokenizer():\n",
    "    tokenizer = BertTokenizerFast.from_pretrained('rsvp-ai/bertserini-bert-base-squad')\n",
    "    batch_tokenizer = SQuADTokenizer(tokenizer)\n",
    "    example_1 = (\n",
    "        ['When did Beyonce start becoming popular?'],\n",
    "        ['Beyoncé Giselle Knowles-Carter (/biːˈjɒnseɪ/ bee-YON-say) (born September 4, 1981) is an American singer, songwriter, record producer and actress. Born and raised in Houston, Texas, she performed in various singing and dancing competitions as a child, and rose to fame in the late 1990s as lead singer of R&B girl-group Destiny\\'s Child. Managed by her father, Mathew Knowles, the group became one of the world\\'s best-selling girl groups of all time. Their hiatus saw the release of Beyoncé\\'s debut album, Dangerously in Love (2003), which established her as a solo artist worldwide, earned five Grammy Awards and featured the Billboard Hot 100 number-one singles \"Crazy in Love\" and \"Baby Boy\".'],\n",
    "        [269],\n",
    "        [286]\n",
    "    )\n",
    "    encoding, token_starts, token_ends = batch_tokenizer(example_1)\n",
    "    check_equal(list(encoding[\"input_ids\"].shape), [1, 174])\n",
    "    check_equal(encoding[\"input_ids\"][0][:10].numpy().tolist(), [\n",
    "        101, 2043, 2106, 20773, 2707, 3352, 2759, 1029, 102, 20773\n",
    "    ])\n",
    "    check_equal(encoding[\"token_type_ids\"].numpy().tolist(), [[0]*9 + [1]*165])\n",
    "    check_equal(encoding[\"attention_mask\"].numpy().tolist(), [[1] * 174])\n",
    "    check_equal(token_starts, [75])\n",
    "    check_equal(token_ends, [79])\n",
    "\n",
    "    example_2 = (\n",
    "        ['When did Beyonce start becoming popular?', 'What score did the writer from the Chicago Tribune give to Spectre?'], \n",
    "        ['Beyoncé Giselle Knowles-Carter (/biːˈjɒnseɪ/ bee-YON-say) (born September 4, 1981) is an American singer, songwriter, record producer and actress. Born and raised in Houston, Texas, she performed in various singing and dancing competitions as a child, and rose to fame in the late 1990s as lead singer of R&B girl-group Destiny\\'s Child. Managed by her father, Mathew Knowles, the group became one of the world\\'s best-selling girl groups of all time. Their hiatus saw the release of Beyoncé\\'s debut album, Dangerously in Love (2003), which established her as a solo artist worldwide, earned five Grammy Awards and featured the Billboard Hot 100 number-one singles \"Crazy in Love\" and \"Baby Boy\".', 'Critical appraisal of the film was mixed in the United States. In a lukewarm review for RogerEbert.com, Matt Zoller Seitz gave the film 2.5 stars out of 4, describing Spectre as inconsistent and unable to capitalise on its potential. Kenneth Turan, reviewing the film for Los Angeles Times, concluded that Spectre \"comes off as exhausted and uninspired\". Manohla Dargis of The New York Times panned the film as having \"nothing surprising\" and sacrificing its originality for the sake of box office returns. Forbes\\' Scott Mendelson also heavily criticised the film, denouncing Spectre as \"the worst 007 movie in 30 years\". Darren Franich of Entertainment Weekly viewed Spectre as \"an overreaction to our current blockbuster moment\", aspiring \"to be a serialized sequel\" and proving \"itself as a Saga\". While noting that \"[n]othing that happens in Spectre holds up to even minor logical scrutiny\", he had \"come not to bury Spectre, but to weirdly praise it. Because the final act of the movie is so strange, so willfully obtuse, that it deserves extra attention.\" In a positive review Rolling Stone, Peter Travers gave the film 3.5 stars out of 4, describing \"The 24th movie about the British MI6 agent with a license to kill is party time for Bond fans, a fierce, funny, gorgeously produced valentine to the longest-running franchise in movies\". Other positive reviews from Mick LaSalle from the San Francisco Chronicle, gave it a perfect 100 score, stating: “One of the great satisfactions of Spectre is that, in addition to all the stirring action, and all the timely references to a secret organization out to steal everyone’s personal information, we get to believe in Bond as a person.” Stephen Whitty from the New York Daily News, gave it an 80 grade, saying: “Craig is cruelly efficient. Dave Bautista makes a good, Oddjob-like assassin. And while Lea Seydoux doesn’t leave a huge impression as this film’s “Bond girl,” perhaps it’s because we’ve already met — far too briefly — the hypnotic Monica Bellucci, as the first real “Bond woman” since Diana Rigg.” Richard Roeper from the Chicago Sun-Times, gave it a 75 grade. He stated: “This is the 24th Bond film and it ranks solidly in the middle of the all-time rankings, which means it’s still a slick, beautifully photographed, action-packed, international thriller with a number of wonderfully, ludicrously entertaining set pieces, a sprinkling of dry wit, myriad gorgeous women and a classic psycho-villain who is clearly out of his mind but seems to like it that way.” Michael Phillips over at the Chicago Tribune, gave it a 75 grade. He stated: “For all its workmanlike devotion to out-of-control helicopters, “Spectre” works best when everyone’s on the ground, doing his or her job, driving expensive fast cars heedlessly, detonating the occasional wisecrack, enjoying themselves and their beautiful clothes.” Guy Lodge from Variety, gave it a 70 score, stating: “What’s missing is the unexpected emotional urgency of “Skyfall,” as the film sustains its predecessor’s nostalgia kick with a less sentimental bent.”'], \n",
    "        [269, 2118], \n",
    "        [286, 2120]\n",
    "    )\n",
    "    encoding, token_starts, token_ends = batch_tokenizer(example_2)\n",
    "    check_equal(list(encoding[\"input_ids\"].shape), [2, 512])\n",
    "    check_equal(encoding[\"input_ids\"][0][-10:].numpy().tolist(), [0]*10)\n",
    "    check_equal(encoding[\"token_type_ids\"].numpy().tolist()[0], [0]*9 + [1]*165 + [0]*338)\n",
    "    check_equal(encoding[\"token_type_ids\"].numpy().tolist()[1], [0]*16 + [1]*496)\n",
    "    check_equal(encoding[\"attention_mask\"][0].numpy().tolist(), [1]*174 + [0]*338)\n",
    "    check_equal(token_starts, [75, 512])\n",
    "    check_equal(token_ends, [79, 512])\n",
    "    print(\"All tests passed!\")\n",
    "    \n",
    "test_tokenizer()"
   ]
  },
  {
   "cell_type": "markdown",
   "metadata": {},
   "source": [
    "### Question 8: Fine-tuning BERT\n",
    "With the tokenizer ready, we can begin fine-tuning a pre-trained BERT model to our dataset with the following steps:\n",
    "1. Move the input `model` to `device` and set it to training mode.\n",
    "1. Repeat `n_iters` times:\n",
    "    * For every batch of data from the dataloader:\n",
    "        * Use the input `tokenizer` (an instance of the class `SQuADTokenizer` that you implemented) to encode this batch, yielding the tuple `(encoding, token_starts, token_ends)`.\n",
    "        * Extract the `input_ids`, `token_type_ids` and `attention_mask` from `encoding`. Convert these tensors to `LongTensor` and move them to `device`.\n",
    "        * Perform the usual PyTorch training workflow (zero grad, forward pass, backprop, ...). See the PyTorch primer for a reminder.\n",
    "        \n",
    "Implement the function `fine_tune_bert` that, given a pretrained BERT model and other training parameters, performs the above training procedure. This function should return the fine-tuned model and the average training loss across epochs.\n",
    "\n",
    "**Notes**:\n",
    "* Consult the [Bert documentation page](https://huggingface.co/transformers/v4.7.0/model_doc/bert.html#transformers.BertForQuestionAnswering.forward) for which parameters to specify in the forward pass. Make sure to input them in the correct order, as specified in the documentation.\n",
    "* To carry out the forward pass, you can input the encoding elements (after convering them to datatype Long), along with `token_starts` and `token_ends`, to `model`. Calling `.loss` on the output of the forward pass will yield the loss value.\n",
    "* We also provide a `verbose` flag. If you would like to add print debugging messages during model training, simply precede each print statement with an `if verbose` check, for example:\n",
    "```py\n",
    "if verbose:\n",
    "    print(\"Training loss\", train_loss)\n",
    "```\n",
    "The autograder will only call your function with `verbose = False`, so that your printout messages do not interfere with grading.\n",
    "* To compute the average training loss, you should sum all the losses from every forward pass, then divide this sum by the number of epochs at the end of the function."
   ]
  },
  {
   "cell_type": "code",
   "execution_count": 34,
   "metadata": {},
   "outputs": [],
   "source": [
    "def fine_tune_bert(model, n_epochs, optimizer, dataloader, squad_tokenizer, device, verbose = False):\n",
    "    \"\"\"\n",
    "    Fine-tune a pre-trained BERT model on the SQuAD dataset.\n",
    "    \n",
    "    args:\n",
    "        model (BertForQuestionAnswering) : a pre-trained BERT model for QA tasks\n",
    "        n_epochs (int) : the number of epochs to train\n",
    "        dataloader (DataLoader) : a data loader that provides access to one batch of data at a time\n",
    "        squad_tokenizer (SQuADTokenizer) : a tokenizer instance to be called on every batch of data from dataloader\n",
    "        device (torch.device) : the device (CPU or Cuda) that the model and data should be moved to\n",
    "        verbose (bool) : a flag that indicates whether debug messages should be printed out\n",
    "    \n",
    "    return:\n",
    "        model (BertForQuestionAnswering) : the fine-tuned model\n",
    "        avg_loss (float) : the average training loss across epochs\n",
    "    \"\"\"\n",
    "    model = model.to(device)\n",
    "    model.train()\n",
    "    total_loss = 0.0\n",
    "    for epoch in range(n_epochs):\n",
    "        epoch_loss = 0.0\n",
    "        for data in dataloader:\n",
    "            encoding, token_starts, token_ends = squad_tokenizer(data)\n",
    "            #input_ids, token_type_ids, attention_mask = encoding\n",
    "            input_ids = encoding[\"input_ids\"]\n",
    "            token_type_ids = encoding[\"token_type_ids\"]\n",
    "            attention_mask = encoding[\"attention_mask\"]\n",
    "            \n",
    "            input_ids = torch.LongTensor(input_ids).to(device)\n",
    "            token_type_ids = torch.LongTensor(token_type_ids).to(device)\n",
    "            attention_mask = torch.LongTensor(attention_mask).to(device)\n",
    "            token_starts = torch.LongTensor(token_starts).to(device)\n",
    "            token_ends = torch.LongTensor(token_ends).to(device)\n",
    "            \n",
    "            optimizer.zero_grad()\n",
    "\n",
    "            # Forward pass\n",
    "            outputs = model(input_ids=input_ids, token_type_ids=token_type_ids, attention_mask=attention_mask,\n",
    "                            start_positions=token_starts, end_positions=token_ends)\n",
    "            loss = outputs.loss\n",
    "\n",
    "            # Backward pass and optimization\n",
    "            loss.backward()\n",
    "            optimizer.step()\n",
    "\n",
    "            epoch_loss += loss.item()\n",
    "        epoch_loss /= len(dataloader)\n",
    "        total_loss += epoch_loss\n",
    "\n",
    "        #print(f\"Epoch {epoch + 1}/{n_epochs}, Loss: {epoch_loss}\")\n",
    "\n",
    "    avg_loss = total_loss / n_epochs\n",
    "\n",
    "    return model, avg_loss"
   ]
  },
  {
   "cell_type": "code",
   "execution_count": 328,
   "metadata": {
    "tags": [
     "excluded_from_script"
    ]
   },
   "outputs": [
    {
     "name": "stderr",
     "output_type": "stream",
     "text": [
      "  0%|          | 0/1 [00:00<?, ?it/s]"
     ]
    },
    {
     "name": "stdout",
     "output_type": "stream",
     "text": [
      "huggingface/tokenizers: The current process just got forked, after parallelism has already been used. Disabling parallelism to avoid deadlocks...\n",
      "To disable this warning, you can either:\n",
      "\t- Avoid using `tokenizers` before the fork if possible\n",
      "\t- Explicitly set the environment variable TOKENIZERS_PARALLELISM=(true | false)\n",
      "huggingface/tokenizers: The current process just got forked, after parallelism has already been used. Disabling parallelism to avoid deadlocks...\n",
      "To disable this warning, you can either:\n",
      "\t- Avoid using `tokenizers` before the fork if possible\n",
      "\t- Explicitly set the environment variable TOKENIZERS_PARALLELISM=(true | false)\n",
      "huggingface/tokenizers: The current process just got forked, after parallelism has already been used. Disabling parallelism to avoid deadlocks...\n",
      "To disable this warning, you can either:\n",
      "\t- Avoid using `tokenizers` before the fork if possible\n",
      "\t- Explicitly set the environment variable TOKENIZERS_PARALLELISM=(true | false)\n",
      "huggingface/tokenizers: The current process just got forked, after parallelism has already been used. Disabling parallelism to avoid deadlocks...\n",
      "To disable this warning, you can either:\n",
      "\t- Avoid using `tokenizers` before the fork if possible\n",
      "\t- Explicitly set the environment variable TOKENIZERS_PARALLELISM=(true | false)\n",
      "huggingface/tokenizers: The current process just got forked, after parallelism has already been used. Disabling parallelism to avoid deadlocks...\n",
      "To disable this warning, you can either:\n",
      "\t- Avoid using `tokenizers` before the fork if possible\n",
      "\t- Explicitly set the environment variable TOKENIZERS_PARALLELISM=(true | false)\n",
      "huggingface/tokenizers: The current process just got forked, after parallelism has already been used. Disabling parallelism to avoid deadlocks...\n",
      "To disable this warning, you can either:\n",
      "\t- Avoid using `tokenizers` before the fork if possible\n",
      "\t- Explicitly set the environment variable TOKENIZERS_PARALLELISM=(true | false)\n"
     ]
    },
    {
     "name": "stderr",
     "output_type": "stream",
     "text": [
      "100%|██████████| 1/1 [00:00<00:00,  1.99it/s]"
     ]
    },
    {
     "name": "stdout",
     "output_type": "stream",
     "text": [
      "\t- Explicitly set the environment variable TOKENIZERS_PARALLELISM=(true | false)\n",
      "huggingface/tokenizers: The current process just got forked, after parallelism has already been used. Disabling parallelism to avoid deadlocks...\n",
      "To disable this warning, you can either:\n",
      "\t- Avoid using `tokenizers` before the fork if possible\n",
      "\t- Explicitly set the environment variable TOKENIZERS_PARALLELISM=(true | false)\n"
     ]
    },
    {
     "name": "stderr",
     "output_type": "stream",
     "text": [
      "100%|██████████| 1/1 [00:00<00:00,  1.76it/s]\n"
     ]
    },
    {
     "name": "stdout",
     "output_type": "stream",
     "text": [
      "Epoch 1/1, Loss: 3.8675308227539062\n"
     ]
    },
    {
     "name": "stderr",
     "output_type": "stream",
     "text": [
      "  0%|          | 0/13 [00:00<?, ?it/s]"
     ]
    },
    {
     "name": "stdout",
     "output_type": "stream",
     "text": [
      "huggingface/tokenizers: The current process just got forked, after parallelism has already been used. Disabling parallelism to avoid deadlocks...\n",
      "To disable this warning, you can either:\n",
      "\t- Avoid using `tokenizers` before the fork if possible\n",
      "\t- Explicitly set the environment variable TOKENIZERS_PARALLELISM=(true | false)\n",
      "huggingface/tokenizers: The current process just got forked, after parallelism has already been used. Disabling parallelism to avoid deadlocks...\n",
      "To disable this warning, you can either:\n",
      "\t- Avoid using `tokenizers` before the fork if possible\n",
      "\t- Explicitly set the environment variable TOKENIZERS_PARALLELISM=(true | false)\n",
      "huggingface/tokenizers: The current process just got forked, after parallelism has already been used. Disabling parallelism to avoid deadlocks...\n",
      "To disable this warning, you can either:\n",
      "\t- Avoid using `tokenizers` before the fork if possible\n",
      "\t- Explicitly set the environment variable TOKENIZERS_PARALLELISM=(true | false)\n",
      "huggingface/tokenizers: The current process just got forked, after parallelism has already been used. Disabling parallelism to avoid deadlocks...\n",
      "To disable this warning, you can either:\n",
      "\t- Avoid using `tokenizers` before the fork if possible\n",
      "\t- Explicitly set the environment variable TOKENIZERS_PARALLELISM=(true | false)\n",
      "huggingface/tokenizers: The current process just got forked, after parallelism has already been used. Disabling parallelism to avoid deadlocks...\n",
      "To disable this warning, you can either:\n",
      "\t- Avoid using `tokenizers` before the fork if possible\n",
      "\t- Explicitly set the environment variable TOKENIZERS_PARALLELISM=(true | false)\n",
      "huggingface/tokenizers: The current process just got forked, after parallelism has already been used. Disabling parallelism to avoid deadlocks...\n",
      "To disable this warning, you can either:\n",
      "\t- Avoid using `tokenizers` before the fork if possible\n",
      "\t- Explicitly set the environment variable TOKENIZERS_PARALLELISM=(true | false)\n"
     ]
    },
    {
     "name": "stderr",
     "output_type": "stream",
     "text": [
      "100%|██████████| 13/13 [00:04<00:00,  2.88it/s]"
     ]
    },
    {
     "name": "stdout",
     "output_type": "stream",
     "text": [
      "\t- Explicitly set the environment variable TOKENIZERS_PARALLELISM=(true | false)\n",
      "huggingface/tokenizers: The current process just got forked, after parallelism has already been used. Disabling parallelism to avoid deadlocks...\n",
      "To disable this warning, you can either:\n",
      "\t- Avoid using `tokenizers` before the fork if possible\n",
      "\t- Explicitly set the environment variable TOKENIZERS_PARALLELISM=(true | false)\n"
     ]
    },
    {
     "name": "stderr",
     "output_type": "stream",
     "text": [
      "100%|██████████| 13/13 [00:04<00:00,  2.87it/s]"
     ]
    },
    {
     "name": "stdout",
     "output_type": "stream",
     "text": [
      "Epoch 1/1, Loss: 2.6324413739717922\n",
      "All tests passed!\n",
      "CPU times: user 6.57 s, sys: 646 ms, total: 7.22 s\n",
      "Wall time: 6.79 s\n"
     ]
    },
    {
     "name": "stderr",
     "output_type": "stream",
     "text": [
      "\n"
     ]
    }
   ],
   "source": [
    "def test_fine_tune_bert():\n",
    "    tokenizer = BertTokenizerFast.from_pretrained('rsvp-ai/bertserini-bert-base-squad')\n",
    "    squad_tokenizer = SQuADTokenizer(tokenizer)\n",
    "    \n",
    "    \"\"\"Train on 8 data points\"\"\"\n",
    "    train_dataset = SQuADDataset(df_squad.head(8)[[\"question\", \"context_paragraph\", \"answer_start\", \"answer_end\"]])\n",
    "    squad_dataloader = DataLoader(train_dataset, batch_size=8, shuffle=False, num_workers=6, worker_init_fn=_init_fn)\n",
    "    model = BertForQuestionAnswering.from_pretrained('rsvp-ai/bertserini-bert-base-squad')\n",
    "    optimizer = optim.AdamW(model.parameters(), lr=2e-5, eps=1e-8)  \n",
    "    model, avg_train_loss = fine_tune_bert(model, 1, optimizer, squad_dataloader, squad_tokenizer, device)\n",
    "    assert avg_train_loss < 5.0, avg_train_loss\n",
    "    \n",
    "    \"\"\"Train on 100 data points\"\"\"\n",
    "    train_dataset = SQuADDataset(df_squad.head(100)[[\"question\", \"context_paragraph\", \"answer_start\", \"answer_end\"]])\n",
    "    squad_dataloader = DataLoader(train_dataset, batch_size=8, shuffle=False, num_workers=6, worker_init_fn=_init_fn)\n",
    "    model = BertForQuestionAnswering.from_pretrained('rsvp-ai/bertserini-bert-base-squad')\n",
    "    optimizer = optim.AdamW(model.parameters(), lr=2e-5, eps=1e-8)  \n",
    "    model, avg_train_loss = fine_tune_bert(model, 1, optimizer, squad_dataloader, squad_tokenizer, device)\n",
    "    assert avg_train_loss < 38, avg_train_loss\n",
    "    print(\"All tests passed!\")\n",
    "    \n",
    "%time test_fine_tune_bert()"
   ]
  },
  {
   "cell_type": "markdown",
   "metadata": {},
   "source": [
    "We will fine-tune the model on 80% of the data (the remaining 20% will be for evaluation). Because this takes a long time, we will only do it for 1 epoch.\n",
    "\n",
    "**Notes**:\n",
    "* The following cell will take about **1 hour** to run, and is **required** for the next question. We recommend that you make a submission to Sail() at this point, to make sure you have everything correct so far. Ideally you would want to avoid having to fine-tune BERT more than once."
   ]
  },
  {
   "cell_type": "code",
   "execution_count": 329,
   "metadata": {
    "tags": [
     "excluded_from_script"
    ]
   },
   "outputs": [
    {
     "name": "stderr",
     "output_type": "stream",
     "text": [
      "  0%|          | 0/11576 [00:00<?, ?it/s]"
     ]
    },
    {
     "name": "stdout",
     "output_type": "stream",
     "text": [
      "huggingface/tokenizers: The current process just got forked, after parallelism has already been used. Disabling parallelism to avoid deadlocks...\n",
      "To disable this warning, you can either:\n",
      "\t- Avoid using `tokenizers` before the fork if possible\n",
      "\t- Explicitly set the environment variable TOKENIZERS_PARALLELISM=(true | false)\n",
      "huggingface/tokenizers: The current process just got forked, after parallelism has already been used. Disabling parallelism to avoid deadlocks...\n",
      "To disable this warning, you can either:\n",
      "\t- Avoid using `tokenizers` before the fork if possible\n",
      "\t- Explicitly set the environment variable TOKENIZERS_PARALLELISM=(true | false)\n",
      "huggingface/tokenizers: The current process just got forked, after parallelism has already been used. Disabling parallelism to avoid deadlocks...\n",
      "To disable this warning, you can either:\n",
      "\t- Avoid using `tokenizers` before the fork if possible\n",
      "\t- Explicitly set the environment variable TOKENIZERS_PARALLELISM=(true | false)\n",
      "huggingface/tokenizers: The current process just got forked, after parallelism has already been used. Disabling parallelism to avoid deadlocks...\n",
      "To disable this warning, you can either:\n",
      "\t- Avoid using `tokenizers` before the fork if possible\n",
      "\t- Explicitly set the environment variable TOKENIZERS_PARALLELISM=(true | false)\n",
      "huggingface/tokenizers: The current process just got forked, after parallelism has already been used. Disabling parallelism to avoid deadlocks...\n",
      "To disable this warning, you can either:\n",
      "\t- Avoid using `tokenizers` before the fork if possible\n",
      "\t- Explicitly set the environment variable TOKENIZERS_PARALLELISM=(true | false)\n",
      "huggingface/tokenizers: The current process just got forked, after parallelism has already been used. Disabling parallelism to avoid deadlocks...\n",
      "To disable this warning, you can either:\n",
      "\t- Avoid using `tokenizers` before the fork if possible\n",
      "\t- Explicitly set the environment variable TOKENIZERS_PARALLELISM=(true | false)\n"
     ]
    },
    {
     "name": "stderr",
     "output_type": "stream",
     "text": [
      "100%|██████████| 11576/11576 [54:40<00:00,  3.53it/s] "
     ]
    },
    {
     "name": "stdout",
     "output_type": "stream",
     "text": [
      "Epoch 1/1, Loss: 0.7943448718426763\n",
      "CPU times: user 55min 6s, sys: 21.6 s, total: 55min 27s\n",
      "Wall time: 54min 41s\n"
     ]
    },
    {
     "name": "stderr",
     "output_type": "stream",
     "text": [
      "\n"
     ]
    }
   ],
   "source": [
    "model = BertForQuestionAnswering.from_pretrained('rsvp-ai/bertserini-bert-base-squad')\n",
    "tokenizer = BertTokenizerFast.from_pretrained('rsvp-ai/bertserini-bert-base-squad')\n",
    "train_indexes, test_indexes = train_test_split(df_squad.index, train_size = 0.8, random_state = 0)\n",
    "df_squad_train = df_squad.loc[train_indexes, [\"question\", \"context_paragraph\", \"answer_start\", \"answer_end\"]].reset_index()\n",
    "df_squad_test = df_squad.loc[test_indexes].reset_index()\n",
    "\n",
    "train_dataset = SQuADDataset(df_squad_train)\n",
    "train_dataloader = DataLoader(train_dataset, batch_size=6, shuffle=False, num_workers=6, worker_init_fn=_init_fn, pin_memory = True)\n",
    "optimizer = optim.AdamW(model.parameters(), lr=2e-5, eps=1e-8)\n",
    "squad_tokenizer = SQuADTokenizer(tokenizer)\n",
    "\n",
    "%time tuned_model, avg_train_loss = fine_tune_bert(model, 1, optimizer, train_dataloader, squad_tokenizer, device)"
   ]
  },
  {
   "cell_type": "markdown",
   "metadata": {},
   "source": [
    "We will also save the fine-tuned model into a directory to reuse it later. Note that the following code will create a directory `bert_fine_tuned_squad` with several files in it."
   ]
  },
  {
   "cell_type": "code",
   "execution_count": 330,
   "metadata": {
    "tags": [
     "excluded_from_script"
    ]
   },
   "outputs": [],
   "source": [
    "tuned_model.cpu().save_pretrained(\"bert_fine_tuned_squad\")"
   ]
  },
  {
   "cell_type": "markdown",
   "metadata": {},
   "source": [
    "Let's see how the fine tuned model performs. We provide the following function `get_bert_prediction` to predict the answer given a pair of question and context. Overall the inference process is very similar to the forward pass during fine-tuning, except that we don't provide the starting and ending tokens to the Bert model, since those are what we need to predict.\n",
    "\n",
    "You may also notice that we are looping through each data point, instead of doing inference in a vectorized manner. The reason is that this same inference code will be used for model deployment on CPU later, where we have limited memory and cannot afford to process data in batches (recall how you performed inference both in the loop approach and the batch approach in the OPE)."
   ]
  },
  {
   "cell_type": "code",
   "execution_count": 35,
   "metadata": {},
   "outputs": [],
   "source": [
    "def get_bert_prediction(questions, contexts, device, model=None, tokenizer=None):\n",
    "    '''\n",
    "    Given a list of questions and a list of corresponding contexts, predict the answers using BERT.\n",
    "\n",
    "    args:\n",
    "        questions (List[string]): list of questions to be answered\n",
    "        contexts (List[string]): list of context paragraphs, each for answering a question in the input questions\n",
    "        device (torch.device) : the device (CPU or Cuda) that the model and data should be moved to\n",
    "        model (BertForQuestionAnswering): BERT model to be used for question answering \n",
    "            or None - if None, `bertserini-bert-base-squad` will be loaded\n",
    "        tokenizer (BertTokenizerFast object): tokenizer to be used for encoding questions and contexts\n",
    "            or None - if None, `bertserini-bert-base-squad` will be loaded\n",
    "    return:\n",
    "        outputs (List[string]): list of generated answers\n",
    "    '''\n",
    "    \n",
    "    if model is None:\n",
    "        model = BertForQuestionAnswering.from_pretrained('rsvp-ai/bertserini-bert-base-squad')\n",
    "    if tokenizer is None:\n",
    "        tokenizer = BertTokenizerFast.from_pretrained('rsvp-ai/bertserini-bert-base-squad')\n",
    "    \n",
    "    model.to(device)\n",
    "    model.eval()\n",
    "    \n",
    "    outputs = []\n",
    "\n",
    "    for question, context in tqdm(zip(questions, contexts), total=len(questions)):\n",
    "\n",
    "        encoded_seq = tokenizer(question, context, padding=\"longest\", truncation=True, max_length=512)\n",
    "\n",
    "        tokens = tokenizer.convert_ids_to_tokens(encoded_seq[\"input_ids\"])\n",
    "        \n",
    "        input_ids = torch.LongTensor([encoded_seq[\"input_ids\"]]).to(device)\n",
    "        token_type_ids = torch.LongTensor([encoded_seq[\"token_type_ids\"]]).to(device)\n",
    "        attention_mask = torch.FloatTensor([encoded_seq[\"attention_mask\"]]).to(device)\n",
    "\n",
    "        with torch.no_grad():\n",
    "            output = model(input_ids=input_ids, \n",
    "                           attention_mask=attention_mask, \n",
    "                           token_type_ids=token_type_ids)\n",
    "        logits_start, logits_end = output['start_logits'], output['end_logits']\n",
    "        token_start = torch.argmax(logits_start)\n",
    "        token_end = torch.argmax(logits_end)\n",
    "        \n",
    "        outputs.append(tokenizer.convert_tokens_to_string(tokens[token_start:token_end]))\n",
    "    return outputs"
   ]
  },
  {
   "cell_type": "markdown",
   "metadata": {},
   "source": [
    "Let's try predicting one row of data first:"
   ]
  },
  {
   "cell_type": "code",
   "execution_count": 332,
   "metadata": {
    "tags": [
     "excluded_from_script"
    ]
   },
   "outputs": [
    {
     "name": "stdout",
     "output_type": "stream",
     "text": [
      "question:\n",
      "How many awards was Beyonce nominated for at the 52nd Grammy Awards?\n",
      "context:\n",
      "At the 52nd Annual Grammy Awards, Beyoncé received ten nominations, including Album of the Year for I Am... Sasha Fierce, Record of the Year for \"Halo\", and Song of the Year for \"Single Ladies (Put a Ring on It)\", among others. She tied with Lauryn Hill for most Grammy nominations in a single year by a female artist. In 2010, Beyoncé was featured on Lady Gaga's single \"Telephone\" and its music video. The song topped the US Pop Songs chart, becoming the sixth number-one for both Beyoncé and Gaga, tying them with Mariah Carey for most number-ones since the Nielsen Top 40 airplay chart launched in 1992. \"Telephone\" received a Grammy Award nomination for Best Pop Collaboration with Vocals.\n",
      "answer:\n",
      "ten\n",
      "\n"
     ]
    },
    {
     "name": "stderr",
     "output_type": "stream",
     "text": [
      "100%|██████████| 1/1 [00:00<00:00, 47.70it/s]"
     ]
    },
    {
     "name": "stdout",
     "output_type": "stream",
     "text": [
      "Bert prediction: ['ten']\n"
     ]
    },
    {
     "name": "stderr",
     "output_type": "stream",
     "text": [
      "\n"
     ]
    }
   ],
   "source": [
    "print(\"question:\\n{}\\ncontext:\\n{}\\nanswer:\\n{}\\n\".format(\n",
    "    df_squad.loc[200, \"question\"],\n",
    "    df_squad.loc[200, \"context_paragraph\"],\n",
    "    df_squad.loc[200, \"answer\"]\n",
    "))\n",
    "\n",
    "print(\"Bert prediction:\", get_bert_prediction(\n",
    "    df_squad.loc[[200], \"question\"],\n",
    "    df_squad.loc[[200], \"context_paragraph\"],\n",
    "    device,\n",
    "    model = tuned_model\n",
    "))"
   ]
  },
  {
   "cell_type": "markdown",
   "metadata": {},
   "source": [
    "We see that it does work! Now let's see how accurate the fine tuned model is on the entire test set. We'll also compute the accuracy of a pre-trained model without fine-tuning, to see how much improvement our fine-tuning provided. Each of the following two cells will take about **11 minutes** to run, and they are **not** required for later questions, so feel free to skip them for now and revisit later."
   ]
  },
  {
   "cell_type": "code",
   "execution_count": 333,
   "metadata": {
    "tags": [
     "excluded_from_script"
    ]
   },
   "outputs": [
    {
     "name": "stderr",
     "output_type": "stream",
     "text": [
      "100%|██████████| 17365/17365 [03:46<00:00, 76.59it/s]"
     ]
    },
    {
     "name": "stdout",
     "output_type": "stream",
     "text": [
      "0.008407716671465592\n"
     ]
    },
    {
     "name": "stderr",
     "output_type": "stream",
     "text": [
      "\n"
     ]
    }
   ],
   "source": [
    "pretrained_test_prediction = get_bert_prediction(\n",
    "    df_squad_test[\"question\"], df_squad_test[\"context_paragraph\"],\n",
    "    device, BertForQuestionAnswering.from_pretrained('rsvp-ai/bertserini-bert-base-squad')\n",
    ")\n",
    "print( (np.array(pretrained_test_prediction) == df_squad_test[\"answer\"].str.lower().values ).mean() )"
   ]
  },
  {
   "cell_type": "code",
   "execution_count": 334,
   "metadata": {
    "tags": [
     "excluded_from_script"
    ]
   },
   "outputs": [
    {
     "name": "stderr",
     "output_type": "stream",
     "text": [
      "100%|██████████| 17365/17365 [03:46<00:00, 76.79it/s]"
     ]
    },
    {
     "name": "stdout",
     "output_type": "stream",
     "text": [
      "0.5861215087820328\n"
     ]
    },
    {
     "name": "stderr",
     "output_type": "stream",
     "text": [
      "\n"
     ]
    }
   ],
   "source": [
    "tuned_test_predictions = get_bert_prediction(\n",
    "    df_squad_test[\"question\"], df_squad_test[\"context_paragraph\"],\n",
    "    device, tuned_model\n",
    ")\n",
    "print( (np.array(tuned_test_predictions) == df_squad_test[\"answer\"].str.lower().values ).mean() )"
   ]
  },
  {
   "cell_type": "markdown",
   "metadata": {},
   "source": [
    "We see the pretrained model did not work well at all, while fine-tuning the model for one epoch already yields a large improvement in accuracy (about 58%) on the test set. Naturally, the model still has plenty of room for improvement when trained for more epochs, but doing so requires a lot more time."
   ]
  },
  {
   "cell_type": "markdown",
   "metadata": {},
   "source": [
    "## 4. Model Deployment\n",
    "As seen from this project, building a QA system involves a very complex technology stack. To make your model easily accessible to others, you can deploy it to a public endpoint on Azure, using the same workflow from Project 6. We have built several models so far and they can all be deployed together under the same endpoint. However, for the rest of this project, let's focus on BERT deployment."
   ]
  },
  {
   "cell_type": "code",
   "execution_count": 36,
   "metadata": {
    "tags": [
     "excluded_from_script"
    ]
   },
   "outputs": [],
   "source": [
    "import azureml.core\n",
    "from azureml.core.workspace import Workspace\n",
    "from azureml.core.model import Model\n",
    "from azureml.core.webservice import AciWebservice\n",
    "from azureml.core.model import InferenceConfig\n",
    "from azureml.core.webservice import Webservice\n",
    "from azureml.core.environment import Environment\n",
    "from azureml.core.webservice import LocalWebservice"
   ]
  },
  {
   "cell_type": "markdown",
   "metadata": {},
   "source": [
    "We will provide a brief reminder of the involved steps. You can consult the code from your Project 6 or the [model deployment primer](https://nbviewer.jupyter.org/url/clouddatascience.blob.core.windows.net/primers/p5-machine-learning-azure-primer/azure_model_deployment_primer.ipynb) for more details."
   ]
  },
  {
   "cell_type": "markdown",
   "metadata": {},
   "source": [
    "**Step 1: Initialize workspace with `Workspace.from_config()`**"
   ]
  },
  {
   "cell_type": "code",
   "execution_count": 37,
   "metadata": {
    "tags": [
     "excluded_from_script"
    ]
   },
   "outputs": [],
   "source": [
    "# your code here\n",
    "ws = Workspace.from_config()"
   ]
  },
  {
   "cell_type": "markdown",
   "metadata": {},
   "source": [
    "**Step 2: Register the model with `Model.register()`**\n",
    "\n",
    "The `model_path` parameter should be set to the name of your Bert model directory, `\"./bert_fine_tuned_squad\"`. The `model_name` parameter should be set to `\"bert_fine_tuned\"`."
   ]
  },
  {
   "cell_type": "code",
   "execution_count": 38,
   "metadata": {
    "tags": [
     "excluded_from_script"
    ]
   },
   "outputs": [
    {
     "name": "stdout",
     "output_type": "stream",
     "text": [
      "Registering model bert_fine_tuned\n"
     ]
    }
   ],
   "source": [
    "# your code here\n",
    "register_bert_model = Model.register(\n",
    "    workspace = ws, model_path = \"./bert_fine_tuned_squad\",\n",
    "    model_name = \"bert_fine_tuned\",\n",
    "    description = \"A Bert model\"\n",
    ")"
   ]
  },
  {
   "cell_type": "markdown",
   "metadata": {},
   "source": [
    "**Step 3: Create scoring script and API endpoint**\n",
    "\n",
    "Our grader will send a POST request to your endpoint, where the JSON content is structured as follows:\n",
    "\n",
    "```py\n",
    "{\n",
    "    \"questions\" : [\n",
    "        \"How many parameters does BERT-large have?\",\n",
    "        \"When did Beyonce start becoming popular?\"\n",
    "    ],\n",
    "\n",
    "    \"context_paragraphs\" : [\n",
    "        \"BERT-large is really big... it has 24-layers and an embedding size of 1,024, for a total of 340M parameters! Altogether it is 1.34GB, so expect it to take a couple minutes to download to your Colab instance.\",\n",
    "        'Beyoncé Giselle Knowles-Carter (/biːˈjɒnseɪ/ bee-YON-say) (born September 4, 1981) is an American singer, songwriter, record producer and actress. Born and raised in Houston, Texas, she performed in various singing and dancing competitions as a child, and rose to fame in the late 1990s as lead singer of R&B girl-group Destiny\\'s Child. Managed by her father, Mathew Knowles, the group became one of the world\\'s best-selling girl groups of all time. Their hiatus saw the release of Beyoncé\\'s debut album, Dangerously in Love (2003), which established her as a solo artist worldwide, earned five Grammy Awards and featured the Billboard Hot 100 number-one singles \"Crazy in Love\" and \"Baby Boy\".'\n",
    "    ]\n",
    "}\n",
    "```\n",
    "Here `questions` is a list of `N` questions and `context_paragraphs` is a list of `N` context paragraphs. For each pair of question and context paragraph, you should tokenize and input them to the fine-tuned Bert model, and return a dictionary with the following format:\n",
    "```py\n",
    "{\n",
    "    'predicted_ans' : ['340', 'late 1990s']\n",
    "}\n",
    "```\n",
    "where the key `predicted_ans` maps to a list of `N` strings, with each string being the predicted answer for one input pair of question and context paragraph.\n",
    "\n",
    "Implement the `init` and `run` function in the `score.py` file to perform the above processing. In particular,\n",
    "* `init` will load the fine-tuned Bert model from file and store it in a global variable.\n",
    "* `run` will convert the input `input_data` to JSON, extract the questions and contexts, then perform inference and return the specified response. You can reuse the code from `get_bert_predictions` that we provided earlier.\n",
    "\n",
    "**Notes**:\n",
    "* To load the fine tuned Bert model, you can call\n",
    "```py\n",
    "BertForQuestionAnswering.from_pretrained(Model.get_model_path(\"bert_fine_tuned\"))\n",
    "```\n",
    "Also remember that to modify a global variable, you need to use the `global` keyword.\n",
    "* When doing inference you can use the pre-trained tokenizer `\"rsvp-ai/bertserini-bert-base-squad\"`. This tokenizer should be created in `init` so that you don't need to take time loading it during inference.\n",
    "* Keep in mind that the return value of `run` in `scoring.py` should be a dictionary, not a string."
   ]
  },
  {
   "cell_type": "code",
   "execution_count": 62,
   "metadata": {
    "tags": [
     "excluded_from_script"
    ]
   },
   "outputs": [
    {
     "name": "stdout",
     "output_type": "stream",
     "text": [
      "Overwriting score.py\n"
     ]
    }
   ],
   "source": [
    "%%writefile score.py\n",
    "import os, json, pickle\n",
    "import numpy as np\n",
    "import torch\n",
    "from tqdm import tqdm\n",
    "from transformers import BertTokenizerFast\n",
    "from transformers import BertForQuestionAnswering\n",
    "from azureml.core.model import Model\n",
    "\n",
    "device = torch.device(\"cuda\" if torch.cuda.is_available() else \"cpu\")\n",
    "def get_bert_prediction(questions, contexts, device, model=None, tokenizer=None):\n",
    "    '''\n",
    "    Given a list of questions and a list of corresponding contexts, predict the answers using BERT.\n",
    "\n",
    "    args:\n",
    "        questions (List[string]): list of questions to be answered\n",
    "        contexts (List[string]): list of context paragraphs, each for answering a question in the input questions\n",
    "        device (torch.device) : the device (CPU or Cuda) that the model and data should be moved to\n",
    "        model (BertForQuestionAnswering): BERT model to be used for question answering \n",
    "            or None - if None, `bertserini-bert-base-squad` will be loaded\n",
    "        tokenizer (BertTokenizerFast object): tokenizer to be used for encoding questions and contexts\n",
    "            or None - if None, `bertserini-bert-base-squad` will be loaded\n",
    "    return:\n",
    "        outputs (List[string]): list of generated answers\n",
    "    '''\n",
    "    \n",
    "    if model is None:\n",
    "        model = BertForQuestionAnswering.from_pretrained('rsvp-ai/bertserini-bert-base-squad')\n",
    "    if tokenizer is None:\n",
    "        tokenizer = BertTokenizerFast.from_pretrained('rsvp-ai/bertserini-bert-base-squad')\n",
    "    \n",
    "    model.to(device)\n",
    "    model.eval()\n",
    "    \n",
    "    outputs = []\n",
    "\n",
    "    for question, context in tqdm(zip(questions, contexts), total=len(questions)):\n",
    "\n",
    "        encoded_seq = tokenizer(question, context, padding=\"longest\", truncation=True, max_length=512)\n",
    "\n",
    "        tokens = tokenizer.convert_ids_to_tokens(encoded_seq[\"input_ids\"])\n",
    "        \n",
    "        input_ids = torch.LongTensor([encoded_seq[\"input_ids\"]]).to(device)\n",
    "        token_type_ids = torch.LongTensor([encoded_seq[\"token_type_ids\"]]).to(device)\n",
    "        attention_mask = torch.FloatTensor([encoded_seq[\"attention_mask\"]]).to(device)\n",
    "\n",
    "        with torch.no_grad():\n",
    "            output = model(input_ids=input_ids, \n",
    "                           attention_mask=attention_mask, \n",
    "                           token_type_ids=token_type_ids)\n",
    "        logits_start, logits_end = output['start_logits'], output['end_logits']\n",
    "        token_start = torch.argmax(logits_start)\n",
    "        token_end = torch.argmax(logits_end)\n",
    "        \n",
    "        outputs.append(tokenizer.convert_tokens_to_string(tokens[token_start:token_end]))\n",
    "    return outputs\n",
    "\n",
    "def init():\n",
    "    \"\"\"\n",
    "    Load the fine-tuned Bert model from file and store it in a global variable.\n",
    "    Also initialize the pre-trained tokenizer.\n",
    "    \"\"\"\n",
    "    global model, tokenizer\n",
    "\n",
    "    model = BertForQuestionAnswering.from_pretrained(Model.get_model_path(\"bert_fine_tuned\"))\n",
    "    model.to(device)\n",
    "    model.eval()  # Set the model to evaluation mode\n",
    "\n",
    "    tokenizer = BertTokenizerFast.from_pretrained(\"rsvp-ai/bertserini-bert-base-squad\")\n",
    "\n",
    "\n",
    "def run(input_data):\n",
    "    \"\"\"\n",
    "    Convert the input data from string to JSON, extract the questions and contexts,\n",
    "    then perform inference with Bert and return the specified JSOn response \n",
    "    \"\"\"\n",
    "    input_data = json.loads(input_data)\n",
    "    predicted_answers = get_bert_prediction(input_data[\"questions\"], input_data[\"context_paragraphs\"],device, model)\n",
    "    response = {\"predicted_ans\": predicted_answers}\n",
    "\n",
    "    return response#json.dumps(response)"
   ]
  },
  {
   "cell_type": "markdown",
   "metadata": {},
   "source": [
    "Now check that the content of `score.py` is as you expect:"
   ]
  },
  {
   "cell_type": "code",
   "execution_count": 63,
   "metadata": {
    "tags": [
     "excluded_from_script"
    ]
   },
   "outputs": [
    {
     "name": "stdout",
     "output_type": "stream",
     "text": [
      "huggingface/tokenizers: The current process just got forked, after parallelism has already been used. Disabling parallelism to avoid deadlocks...\n",
      "To disable this warning, you can either:\n",
      "\t- Avoid using `tokenizers` before the fork if possible\n",
      "\t- Explicitly set the environment variable TOKENIZERS_PARALLELISM=(true | false)\n",
      "import os, json, pickle\r\n",
      "import numpy as np\r\n",
      "import torch\r\n",
      "from tqdm import tqdm\r\n",
      "from transformers import BertTokenizerFast\r\n",
      "from transformers import BertForQuestionAnswering\r\n",
      "from azureml.core.model import Model\r\n",
      "\r\n",
      "device = torch.device(\"cuda\" if torch.cuda.is_available() else \"cpu\")\r\n",
      "def get_bert_prediction(questions, contexts, device, model=None, tokenizer=None):\r\n",
      "    '''\r\n",
      "    Given a list of questions and a list of corresponding contexts, predict the answers using BERT.\r\n",
      "\r\n",
      "    args:\r\n",
      "        questions (List[string]): list of questions to be answered\r\n",
      "        contexts (List[string]): list of context paragraphs, each for answering a question in the input questions\r\n",
      "        device (torch.device) : the device (CPU or Cuda) that the model and data should be moved to\r\n",
      "        model (BertForQuestionAnswering): BERT model to be used for question answering \r\n",
      "            or None - if None, `bertserini-bert-base-squad` will be loaded\r\n",
      "        tokenizer (BertTokenizerFast object): tokenizer to be used for encoding questions and contexts\r\n",
      "            or None - if None, `bertserini-bert-base-squad` will be loaded\r\n",
      "    return:\r\n",
      "        outputs (List[string]): list of generated answers\r\n",
      "    '''\r\n",
      "    \r\n",
      "    if model is None:\r\n",
      "        model = BertForQuestionAnswering.from_pretrained('rsvp-ai/bertserini-bert-base-squad')\r\n",
      "    if tokenizer is None:\r\n",
      "        tokenizer = BertTokenizerFast.from_pretrained('rsvp-ai/bertserini-bert-base-squad')\r\n",
      "    \r\n",
      "    model.to(device)\r\n",
      "    model.eval()\r\n",
      "    \r\n",
      "    outputs = []\r\n",
      "\r\n",
      "    for question, context in tqdm(zip(questions, contexts), total=len(questions)):\r\n",
      "\r\n",
      "        encoded_seq = tokenizer(question, context, padding=\"longest\", truncation=True, max_length=512)\r\n",
      "\r\n",
      "        tokens = tokenizer.convert_ids_to_tokens(encoded_seq[\"input_ids\"])\r\n",
      "        \r\n",
      "        input_ids = torch.LongTensor([encoded_seq[\"input_ids\"]]).to(device)\r\n",
      "        token_type_ids = torch.LongTensor([encoded_seq[\"token_type_ids\"]]).to(device)\r\n",
      "        attention_mask = torch.FloatTensor([encoded_seq[\"attention_mask\"]]).to(device)\r\n",
      "\r\n",
      "        with torch.no_grad():\r\n",
      "            output = model(input_ids=input_ids, \r\n",
      "                           attention_mask=attention_mask, \r\n",
      "                           token_type_ids=token_type_ids)\r\n",
      "        logits_start, logits_end = output['start_logits'], output['end_logits']\r\n",
      "        token_start = torch.argmax(logits_start)\r\n",
      "        token_end = torch.argmax(logits_end)\r\n",
      "        \r\n",
      "        outputs.append(tokenizer.convert_tokens_to_string(tokens[token_start:token_end]))\r\n",
      "    return outputs\r\n",
      "\r\n",
      "def init():\r\n",
      "    \"\"\"\r\n",
      "    Load the fine-tuned Bert model from file and store it in a global variable.\r\n",
      "    Also initialize the pre-trained tokenizer.\r\n",
      "    \"\"\"\r\n",
      "    global model, tokenizer\r\n",
      "\r\n",
      "    model = BertForQuestionAnswering.from_pretrained(Model.get_model_path(\"bert_fine_tuned\"))\r\n",
      "    model.to(device)\r\n",
      "    model.eval()  # Set the model to evaluation mode\r\n",
      "\r\n",
      "    tokenizer = BertTokenizerFast.from_pretrained(\"rsvp-ai/bertserini-bert-base-squad\")\r\n",
      "\r\n",
      "\r\n",
      "def run(input_data):\r\n",
      "    \"\"\"\r\n",
      "    Convert the input data from string to JSON, extract the questions and contexts,\r\n",
      "    then perform inference with Bert and return the specified JSOn response \r\n",
      "    \"\"\"\r\n",
      "    input_data = json.loads(input_data)\r\n",
      "    predicted_answers = get_bert_prediction(input_data[\"questions\"], input_data[\"context_paragraphs\"],device, model)\r\n",
      "    response = {\"predicted_ans\": predicted_answers}\r\n",
      "\r\n",
      "    return response#json.dumps(response)\r\n"
     ]
    }
   ],
   "source": [
    "!cat score.py"
   ]
  },
  {
   "cell_type": "markdown",
   "metadata": {},
   "source": [
    "**Step 4: Create environment file**\n",
    "\n",
    "Now you will need to create an environment file (`myenv.yml`) that specifies all of the scoring script's package dependencies. This file is used to ensure that all of those dependencies are installed in the Docker image by Azure ML. The `pip_packages` parameter value should be the following list:\n",
    "```py\n",
    "['azureml-defaults', 'torch==2.0.1', 'transformers==4.25.0', 'numpy']\n",
    "```"
   ]
  },
  {
   "cell_type": "code",
   "execution_count": 9,
   "metadata": {
    "tags": [
     "excluded_from_script"
    ]
   },
   "outputs": [
    {
     "name": "stdout",
     "output_type": "stream",
     "text": [
      "# Conda environment specification. The dependencies defined in this file will\r\n",
      "# be automatically provisioned for runs with userManagedDependencies=False.\r\n",
      "\n",
      "# Details about the Conda environment file format:\r\n",
      "# https://conda.io/docs/user-guide/tasks/manage-environments.html#create-env-file-manually\r\n",
      "\n",
      "name: project_environment\n",
      "dependencies:\n",
      "  # The python interpreter version.\r\n",
      "  # Currently Azure ML only supports 3.8 and later.\r\n",
      "- python=3.8.13\n",
      "\n",
      "- pip:\n",
      "  - azureml-defaults~=1.52.0\n",
      "  - torch==2.0.1\n",
      "  - transformers==4.25.0\n",
      "  - numpy\n",
      "channels:\n",
      "- anaconda\n",
      "- conda-forge\n",
      "\n"
     ]
    }
   ],
   "source": [
    "# your code here\n",
    "## your code here\n",
    "from azureml.core.conda_dependencies import CondaDependencies \n",
    "\n",
    "environment_file = CondaDependencies.create(pip_packages=[\n",
    "    'azureml-defaults', 'torch==2.0.1', 'transformers==4.25.0', 'numpy'\n",
    "])\n",
    "\n",
    "with open(\"myenv.yml\",\"w\") as f:\n",
    "    f.write(environment_file.serialize_to_string())\n",
    "\n",
    "print(environment_file.serialize_to_string())"
   ]
  },
  {
   "cell_type": "markdown",
   "metadata": {},
   "source": [
    "**Step 5: Deploy to local service**\n",
    "\n",
    "Follow the steps in the [model deloyment primer](https://nbviewer.jupyter.org/url/clouddatascience.blob.core.windows.net/primers/machine-learning-azure-primer/azure_model_deployment_primer.ipynb) to create an `Environment`, an `InferenceConfig`, a `LocalWebservice`, a `Model.deploy` object, and call `wait_for_deployment` on it. This code may take about 10 minutes to run."
   ]
  },
  {
   "cell_type": "code",
   "execution_count": 16,
   "metadata": {
    "scrolled": true,
    "tags": [
     "excluded_from_script"
    ]
   },
   "outputs": [
    {
     "name": "stderr",
     "output_type": "stream",
     "text": [
      "/tmp/ipykernel_5765/1742807162.py:5: FutureWarning: azureml.core.model:\n",
      "To leverage new model deployment capabilities, AzureML recommends using CLI/SDK v2 to deploy models as online endpoint, \n",
      "please refer to respective documentations \n",
      "https://docs.microsoft.com/azure/machine-learning/how-to-deploy-managed-online-endpoints /\n",
      "https://docs.microsoft.com/azure/machine-learning/how-to-attach-kubernetes-anywhere \n",
      "For more information on migration, see https://aka.ms/acimoemigration \n",
      "To disable CLI/SDK v1 deprecation warning set AZUREML_LOG_DEPRECATION_WARNING_ENABLED to 'False'\n",
      "  local_service = Model.deploy(\n"
     ]
    },
    {
     "name": "stdout",
     "output_type": "stream",
     "text": [
      "Downloading model bert_fine_tuned:2 to /tmp/azureml_k8johg1o/bert_fine_tuned/2\n",
      "Generating Docker build context.\n",
      "Package creation Succeeded\n",
      "Logging into Docker registry 37a09863d5804f449c0d3945465c9786.azurecr.io\n",
      "Logging into Docker registry 37a09863d5804f449c0d3945465c9786.azurecr.io\n",
      "Building Docker image from Dockerfile...\n",
      "Step 1/5 : FROM 37a09863d5804f449c0d3945465c9786.azurecr.io/azureml/azureml_dd46aeee7ee79528c366831c872e31d2\n",
      " ---> 4a6d2bef742f\n",
      "Step 2/5 : COPY azureml-app /var/azureml-app\n",
      " ---> e2503ca83546\n",
      "Step 3/5 : RUN mkdir -p '/var/azureml-app' && echo eyJhY2NvdW50Q29udGV4dCI6eyJzdWJzY3JpcHRpb25JZCI6ImUwNTkwNmMzLWIwZTctNGYwZC05N2I3LWE3ZDYxMmVmNGU2NyIsInJlc291cmNlR3JvdXBOYW1lIjoicDciLCJhY2NvdW50TmFtZSI6InByb2plY3Q3Iiwid29ya3NwYWNlSWQiOiIzN2EwOTg2My1kNTgwLTRmNDQtOWMwZC0zOTQ1NDY1Yzk3ODYifSwibW9kZWxzIjp7fSwibW9kZWxzSW5mbyI6e319 | base64 --decode > /var/azureml-app/model_config_map.json\n",
      " ---> Running in 943cfd058c51\n",
      " ---> cc20d92b32e9\n",
      "Step 4/5 : RUN mv '/var/azureml-app/tmp1wuip4kh.py' /var/azureml-app/main.py\n",
      " ---> Running in 16e37f587c1e\n",
      " ---> 58c94ad24db3\n",
      "Step 5/5 : CMD [\"runsvdir\",\"/var/runit\"]\n",
      " ---> Running in 3781e9a86118\n",
      " ---> 82247a506f01\n",
      "Successfully built 82247a506f01\n",
      "Successfully tagged local-service:latest\n",
      "Container has been successfully cleaned up.\n",
      "Image sha256:69e023a50d3e81d1bdc429417238fd21fbde594d010b4f16e7c1b2e49bcb3197 successfully removed.\n",
      "Starting Docker container...\n",
      "Docker container running.\n",
      "Checking container health...\n",
      "Local webservice is running at http://localhost:8890\n"
     ]
    }
   ],
   "source": [
    "# your code here\n",
    "myenv = Environment.from_conda_specification(name = \"myenv\", file_path = \"myenv.yml\")\n",
    "inference_config = InferenceConfig(source_directory = '.', entry_script = \"score.py\", environment = myenv)\n",
    "local_deployment_config = LocalWebservice.deploy_configuration(port = 8890)\n",
    "local_service = Model.deploy(\n",
    "    ws, \"local-service\",\n",
    "    [register_bert_model], inference_config, \n",
    "    local_deployment_config\n",
    ")\n",
    "local_service.wait_for_deployment(True)\n"
   ]
  },
  {
   "cell_type": "markdown",
   "metadata": {},
   "source": [
    "**Step 6: Test the local service**\n",
    "\n",
    "You should change the `local_service` variable below to the variable name that you used earlier to store the return value of `Model.deploy`. Check that the response JSON matches the format specified above."
   ]
  },
  {
   "cell_type": "code",
   "execution_count": 65,
   "metadata": {
    "tags": [
     "excluded_from_script"
    ]
   },
   "outputs": [
    {
     "name": "stdout",
     "output_type": "stream",
     "text": [
      "{'predicted_ans': ['340m', '1990s']}\n"
     ]
    }
   ],
   "source": [
    "input_json = json.dumps({\n",
    "    \"questions\" : [\n",
    "        \"How many parameters does BERT-large have?\",\n",
    "        \"When did Beyonce start becoming popular?\"\n",
    "    ],\n",
    "\n",
    "    \"context_paragraphs\" : [\n",
    "        \"BERT-large is really big... it has 24-layers and an embedding size of 1,024, for a total of 340M parameters! Altogether it is 1.34GB, so expect it to take a couple minutes to download to your Colab instance.\",\n",
    "        'Beyoncé Giselle Knowles-Carter (/biːˈjɒnseɪ/ bee-YON-say) (born September 4, 1981) is an American singer, songwriter, record producer and actress. Born and raised in Houston, Texas, she performed in various singing and dancing competitions as a child, and rose to fame in the late 1990s as lead singer of R&B girl-group Destiny\\'s Child. Managed by her father, Mathew Knowles, the group became one of the world\\'s best-selling girl groups of all time. Their hiatus saw the release of Beyoncé\\'s debut album, Dangerously in Love (2003), which established her as a solo artist worldwide, earned five Grammy Awards and featured the Billboard Hot 100 number-one singles \"Crazy in Love\" and \"Baby Boy\".'\n",
    "    ]\n",
    "})\n",
    "\n",
    "input_json = bytes(input_json, encoding = \"utf8\")\n",
    "output = local_service.run(input_json)\n",
    "print(output)"
   ]
  },
  {
   "cell_type": "markdown",
   "metadata": {},
   "source": [
    "Note that your model may output `340` or `340m` as the answer to the first question -- both are acceptable, due to the random weights in the Bert model."
   ]
  },
  {
   "cell_type": "markdown",
   "metadata": {},
   "source": [
    "**Step 7: Deploy to ACI container**\n",
    "\n",
    "Now that your local service has worked properly, the last step is to deploy it to a pulic endpoint. Follow the steps in the primer to create an `AciWebService` and a new `Model.deploy` object, then call `wait_for_deployment` on it. This code should take about 20 minutes to run. If it takes longer, you should consult the \"Monitoring public deployment\" section in the primer to diagnose the issues.\n",
    "\n",
    "**Notes**:\n",
    "* When creating the `AciWebService`, you should specify `cpu_cores = 3.8` and `memory_gb = 15` to maximize processing power in the deployment environment."
   ]
  },
  {
   "cell_type": "code",
   "execution_count": 73,
   "metadata": {
    "tags": [
     "excluded_from_script"
    ]
   },
   "outputs": [
    {
     "name": "stderr",
     "output_type": "stream",
     "text": [
      "/tmp/ipykernel_5765/3483129485.py:8: FutureWarning: azureml.core.model:\n",
      "To leverage new model deployment capabilities, AzureML recommends using CLI/SDK v2 to deploy models as online endpoint, \n",
      "please refer to respective documentations \n",
      "https://docs.microsoft.com/azure/machine-learning/how-to-deploy-managed-online-endpoints /\n",
      "https://docs.microsoft.com/azure/machine-learning/how-to-attach-kubernetes-anywhere \n",
      "For more information on migration, see https://aka.ms/acimoemigration \n",
      "To disable CLI/SDK v1 deprecation warning set AZUREML_LOG_DEPRECATION_WARNING_ENABLED to 'False'\n",
      "  aci_service = Model.deploy(\n"
     ]
    },
    {
     "name": "stdout",
     "output_type": "stream",
     "text": [
      "huggingface/tokenizers: The current process just got forked, after parallelism has already been used. Disabling parallelism to avoid deadlocks...\n",
      "To disable this warning, you can either:\n",
      "\t- Avoid using `tokenizers` before the fork if possible\n",
      "\t- Explicitly set the environment variable TOKENIZERS_PARALLELISM=(true | false)\n",
      "Tips: You can try get_logs(): https://aka.ms/debugimage#dockerlog or local deployment: https://aka.ms/debugimage#debug-locally to debug if deployment takes longer than 10 minutes.\n",
      "Running\n",
      "2023-07-27 09:00:57+00:00 Creating Container Registry if not exists.\n",
      "2023-07-27 09:00:57+00:00 Registering the environment.\n",
      "2023-07-27 09:00:59+00:00 Use the existing image.\n",
      "2023-07-27 09:00:59+00:00 Generating deployment configuration.\n",
      "2023-07-27 09:01:01+00:00 Submitting deployment to compute.\n",
      "2023-07-27 09:01:04+00:00 Checking the status of deployment aci-services..\n",
      "2023-07-27 09:04:42+00:00 Checking the status of inference endpoint aci-services.\n",
      "Succeeded\n",
      "ACI service creation operation finished, operation \"Succeeded\"\n",
      "Healthy\n"
     ]
    }
   ],
   "source": [
    "# your code here\n",
    "aci_deployment_config = AciWebservice.deploy_configuration(\n",
    "    cpu_cores=3.8, memory_gb=15, description = 'Public endpoint for Bert model',\n",
    "    tags={'data' : 'SQuAD', 'method' : 'predict answer', 'framework' : 'pytorch'},\n",
    ")\n",
    "\n",
    "# create a new service instance\n",
    "aci_service = Model.deploy(\n",
    "    ws, \"aci-services\",\n",
    "    [register_bert_model], inference_config, \n",
    "    aci_deployment_config\n",
    ")\n",
    "\n",
    "aci_service.wait_for_deployment(True)\n",
    "print(aci_service.state)"
   ]
  },
  {
   "cell_type": "markdown",
   "metadata": {},
   "source": [
    "**Step 8: Test the public service**\n",
    "\n",
    "Let's use the same input json from earlier and check that the public endpoint is working as well."
   ]
  },
  {
   "cell_type": "code",
   "execution_count": 74,
   "metadata": {
    "tags": [
     "excluded_from_script"
    ]
   },
   "outputs": [
    {
     "name": "stdout",
     "output_type": "stream",
     "text": [
      "http://e3dc4626-e1b5-4273-a938-7a52dad7bc13.eastus.azurecontainer.io/score\n",
      "200\n",
      "{'predicted_ans': ['340m', '1990s']}\n"
     ]
    }
   ],
   "source": [
    "deployed_uri = aci_service.scoring_uri\n",
    "print(deployed_uri)\n",
    "\n",
    "input_json = json.dumps({\n",
    "    \"questions\" : [\n",
    "        \"How many parameters does BERT-large have?\",\n",
    "        \"When did Beyonce start becoming popular?\"\n",
    "    ],\n",
    "\n",
    "    \"context_paragraphs\" : [\n",
    "        \"BERT-large is really big... it has 24-layers and an embedding size of 1,024, for a total of 340M parameters! Altogether it is 1.34GB, so expect it to take a couple minutes to download to your Colab instance.\",\n",
    "        'Beyoncé Giselle Knowles-Carter (/biːˈjɒnseɪ/ bee-YON-say) (born September 4, 1981) is an American singer, songwriter, record producer and actress. Born and raised in Houston, Texas, she performed in various singing and dancing competitions as a child, and rose to fame in the late 1990s as lead singer of R&B girl-group Destiny\\'s Child. Managed by her father, Mathew Knowles, the group became one of the world\\'s best-selling girl groups of all time. Their hiatus saw the release of Beyoncé\\'s debut album, Dangerously in Love (2003), which established her as a solo artist worldwide, earned five Grammy Awards and featured the Billboard Hot 100 number-one singles \"Crazy in Love\" and \"Baby Boy\".'\n",
    "    ]\n",
    "})\n",
    "\n",
    "response = requests.post(deployed_uri, input_json, headers = {'Content-Type' : 'application/json'})\n",
    "print(response.status_code)\n",
    "print(json.loads(response.content))"
   ]
  },
  {
   "cell_type": "markdown",
   "metadata": {},
   "source": [
    "### Question 9: Deploying Bert model\n",
    "We provide a local test to check that your deployed model can handle a request that contains 100 data points."
   ]
  },
  {
   "cell_type": "code",
   "execution_count": 75,
   "metadata": {
    "tags": [
     "excluded_from_script"
    ]
   },
   "outputs": [
    {
     "name": "stdout",
     "output_type": "stream",
     "text": [
      "{'predicted_ans': [\"isma ' il ibn jafar\", 'suppression of french protestantism', 'united states', 'four', 'andreas alciatus', '2020', 'the united nations uses myanmar', 'plasma', 'erlacherhof', 'executive order 13526', 'as a result of integration of 28 petty princely states', '1913', 'out of touch', 'two', 'madhavacharya', 'eritrea, tunisia, algiers, the balkans and romania', '1967', 'japanese patriarchal system', '1980', 'intimate emotional', 'placental group', 'plaza del ayuntamiento', 'detailed graphics, fluid animation and high - quality music', 'more expensive', '150, 000', 'vote for the worst', 'collecting and reporting data on crimes', 'peng dehuai', '1 / 12 of a second', 'rhombencephalon', '£750, 000', 'the legislation prohibits interstate and foreign transactions for list species, no provisions are made for in - state commerce', 'john f. kennedy', 'individual and group identity', 'a nearby massive ob star', '12th to 14th', 'moscow', 'third - party software developers', 'king henry viii', 'muscogee', '$ 11 million', 'william lassell', 'nucleation barrier', 'the pope', 'menander protector', 'trial de novo', 'six', 'one', 'no proposal has yet been made', 'other software', 'how they have been influenced by important movements since the reformation', 'turn of the nineteenth century', 'december 2009', '1961', '3 : 30', 'julian fontana', 'paula abdul', 'koine greek', 'provide energy', '25', 'napster', 'substitutions', 'queen of pop', '1873', 'berkeley', 'latin and cyrillic', 'there was no industry standard', 'oxidizes', 'agricultural production', 'february 1848', 'water', 'british power and supremacy', '2023', 'xian', 'hanumangarh district', 'section xxviii of article 50', 'violence', 'basil liddell - hart', 'switches operated by pulling on adjacent ropes', 'germany', 'genetic disorders', 'common ground', '1716 – 1718', 'social contract theory', 'guantanamo bay naval base', 'white and hispanic firefighters', 'de - carbonizing the global economy', 'ethanol', 'inconclusively', 'the celestial hierarchy', 'obligate', 'their parents', 'sola scriptura placed the bible as the only source of teaching, sola fide epitomises the main thrust of the teaching the reformers wanted to get back to, namely the direct, close, personal connection between christ and the believer', 'three', 'harold innis', 'boarding', 'solar \" observatory', \"caesar ' s rapid advance\", '2011 mtv video music awards', '1966 – 76']}\n",
      "[\"isma'il ibn jafar\" 'the suppression of french protestantism'\n",
      " 'united states' 'four' 'andreas alciatus' '2020'\n",
      " 'united nations uses myanmar' 'plasma' 'in the erlacherhof'\n",
      " 'executive order 13526'\n",
      " 'as a result of integration of 28 petty princely states' '1913'\n",
      " 'out of touch' 'two types' 'madhavacharya'\n",
      " 'eritrea, tunisia, algiers, the balkans and romania' '1967'\n",
      " 'the japanese patriarchal system' '1980' 'intimate emotional aspects'\n",
      " 'rodentia' 'plaza del ayuntamiento'\n",
      " 'detailed graphics, fluid animation and high-quality music'\n",
      " 'more expensive, so its use is limited to smaller lamps' 'about 150,000'\n",
      " 'vote for the worst' 'collecting and reporting data' 'peng dehuai'\n",
      " '1/12 of a second' 'prosencephalon' '£750,000'\n",
      " 'the esa allows listed species to be shipped across state lines as long as they are not sold'\n",
      " 'john f. kennedy' 'individual and group identity'\n",
      " 'nearby massive ob star' '12th' 'moscow'\n",
      " 'third-party software developers' 'king henry viii' 'muscogee'\n",
      " '$11 million' 'william lassell' 'nucleation barrier' 'the pope'\n",
      " 'menander protector' '\"trial de novo\"' 'six' 'one'\n",
      " 'no proposal has yet been made' 'other software'\n",
      " 'how they have been influenced by important movements since the reformation'\n",
      " 'at the turn of the nineteenth century' 'dec-09' '1961' 'about 3:30'\n",
      " 'julian fontana' 'paula abdul'\n",
      " 'the new testament was originally written in koine greek'\n",
      " 'provide energy' '25' 'napster' 'substitutions' 'queen of pop' 'in 1873'\n",
      " 'berkeley' 'latin and cyrillic' 'there was no industry standard'\n",
      " 'oxidizes' 'agricultural production' 'february 1848' 'water'\n",
      " 'british power and supremacy' '2023' 'xian' 'hanumangarh district'\n",
      " 'section xxviii of article 50' 'violence' 'basil liddell-hart'\n",
      " 'switches operated by pulling on adjacent ropes' 'germany'\n",
      " 'genetic disorders' 'common ground' '1716–1718' 'social contract theory'\n",
      " 'guantánamo bay naval base' '20 white and hispanic firefighters'\n",
      " 'could play a key role in de-carbonizing the global economy alongside improvements in energy efficiency and imposing costs on greenhouse gas emitters'\n",
      " 'ethanol' 'inconclusively' 'the celestial hierarchy' 'omnivores'\n",
      " 'their parents' 'sola scriptura' 'three years' 'harold innis'\n",
      " 'boarding school' 'solar \"observatory\"' \"caesar's rapid advance\"\n",
      " '2011 mtv video music awards' '1966–76']\n",
      "[\"isma ' il ibn jafar\", 'suppression of french protestantism', 'united states', 'four', 'andreas alciatus', '2020', 'the united nations uses myanmar', 'plasma', 'erlacherhof', 'executive order 13526', 'as a result of integration of 28 petty princely states', '1913', 'out of touch', 'two', 'madhavacharya', 'eritrea, tunisia, algiers, the balkans and romania', '1967', 'japanese patriarchal system', '1980', 'intimate emotional', 'placental group', 'plaza del ayuntamiento', 'detailed graphics, fluid animation and high - quality music', 'more expensive', '150, 000', 'vote for the worst', 'collecting and reporting data on crimes', 'peng dehuai', '1 / 12 of a second', 'rhombencephalon', '£750, 000', 'the legislation prohibits interstate and foreign transactions for list species, no provisions are made for in - state commerce', 'john f. kennedy', 'individual and group identity', 'a nearby massive ob star', '12th to 14th', 'moscow', 'third - party software developers', 'king henry viii', 'muscogee', '$ 11 million', 'william lassell', 'nucleation barrier', 'the pope', 'menander protector', 'trial de novo', 'six', 'one', 'no proposal has yet been made', 'other software', 'how they have been influenced by important movements since the reformation', 'turn of the nineteenth century', 'december 2009', '1961', '3 : 30', 'julian fontana', 'paula abdul', 'koine greek', 'provide energy', '25', 'napster', 'substitutions', 'queen of pop', '1873', 'berkeley', 'latin and cyrillic', 'there was no industry standard', 'oxidizes', 'agricultural production', 'february 1848', 'water', 'british power and supremacy', '2023', 'xian', 'hanumangarh district', 'section xxviii of article 50', 'violence', 'basil liddell - hart', 'switches operated by pulling on adjacent ropes', 'germany', 'genetic disorders', 'common ground', '1716 – 1718', 'social contract theory', 'guantanamo bay naval base', 'white and hispanic firefighters', 'de - carbonizing the global economy', 'ethanol', 'inconclusively', 'the celestial hierarchy', 'obligate', 'their parents', 'sola scriptura placed the bible as the only source of teaching, sola fide epitomises the main thrust of the teaching the reformers wanted to get back to, namely the direct, close, personal connection between christ and the believer', 'three', 'harold innis', 'boarding', 'solar \" observatory', \"caesar ' s rapid advance\", '2011 mtv video music awards', '1966 – 76']\n",
      "All tests passed!\n"
     ]
    }
   ],
   "source": [
    "def test_deploy_bert():\n",
    "    df_test_deploy = df_squad.sample(100, random_state = 100)\n",
    "    input_json = json.dumps({\n",
    "        \"questions\" : df_test_deploy[\"question\"].tolist(),\n",
    "        \"context_paragraphs\" : df_test_deploy[\"context_paragraph\"].tolist()\n",
    "    })\n",
    "    response = requests.post(deployed_uri, input_json, headers = {'Content-Type' : 'application/json'})\n",
    "    check_equal(response.status_code, 200)\n",
    "    print(json.loads(response.content))\n",
    "    print(df_test_deploy[\"answer\"].str.lower().values)\n",
    "    print(json.loads(response.content)[\"predicted_ans\"])\n",
    "    predicted_ans = np.array(json.loads(response.content)[\"predicted_ans\"])\n",
    "    ans = df_test_deploy[\"answer\"].str.lower().values\n",
    "    accuracy = (predicted_ans == ans).mean()\n",
    "    assert accuracy >= 0.3, accuracy\n",
    "    print(\"All tests passed!\")\n",
    "    \n",
    "test_deploy_bert()"
   ]
  },
  {
   "cell_type": "markdown",
   "metadata": {},
   "source": [
    "If you get an error 504 and the service log indicates a time out issue, you should look into optimizing the `run` function in `scoring.py`. You should not need to change anything in `get_bert_prediction`, but make sure to avoid repeated computations whenever possible (e.g., create the tokenizer in `init`, call `json.loads` only once)."
   ]
  },
  {
   "cell_type": "markdown",
   "metadata": {},
   "source": [
    "Finally, let's write the deployed URI to a text file so that it can be submitted to the autograder."
   ]
  },
  {
   "cell_type": "code",
   "execution_count": 78,
   "metadata": {
    "tags": [
     "excluded_from_script"
    ]
   },
   "outputs": [
    {
     "name": "stdout",
     "output_type": "stream",
     "text": [
      "Saved scoring_uri to file!\n"
     ]
    }
   ],
   "source": [
    "with open('scoring_uri.txt', 'w') as f:\n",
    "    f.write(deployed_uri)\n",
    "    print(\"Saved scoring_uri to file!\")"
   ]
  },
  {
   "cell_type": "markdown",
   "metadata": {},
   "source": [
    "**Step 9: Clean up cloud resources**\n",
    "\n",
    "You have completed all the questions in this project! One last step you need to do is to make sure you clean up your resources properly, so that no unexpected charge is incurred. **You will still need to use Azure for the final exam**.\n",
    "\n",
    "Use the left navigation bar in the Azure Machine Learning Studio to manage your computes and endpoints. If you don't anticipate any further usage of Azure ML Studio for this project, you should go back to the [Azure homepage](https://portal.azure.com/) and delete the entire resource group, as the resource group itself also incurs charges over time, even without any computes or endpoints.\n",
    "\n",
    "<p style=\"color:red;\">\n",
    "    <strong>To check your remaining budget, you need to visit the <a href=\"https://portal.azure.com/#blade/Microsoft_Azure_Education/EducationMenuBlade/overview\">Education</a> tab on Azure. The Cost Mangement + Billing Tab will not display anything.</strong>\n",
    "</p>"
   ]
  }
 ],
 "metadata": {
  "celltoolbar": "Tags",
  "kernel_info": {
   "name": "python38-azureml"
  },
  "kernelspec": {
   "display_name": "Python 3.8 - AzureML",
   "language": "python",
   "name": "python38-azureml"
  },
  "language_info": {
   "codemirror_mode": {
    "name": "ipython",
    "version": 3
   },
   "file_extension": ".py",
   "mimetype": "text/x-python",
   "name": "python",
   "nbconvert_exporter": "python",
   "pygments_lexer": "ipython3",
   "version": "3.8.5"
  },
  "nteract": {
   "version": "nteract-front-end@1.0.0"
  },
  "toc": {
   "base_numbering": 1,
   "nav_menu": {},
   "number_sections": true,
   "sideBar": true,
   "skip_h1_title": true,
   "title_cell": "Table of Contents",
   "title_sidebar": "Contents",
   "toc_cell": true,
   "toc_position": {},
   "toc_section_display": true,
   "toc_window_display": false
  }
 },
 "nbformat": 4,
 "nbformat_minor": 2
}
